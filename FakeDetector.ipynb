{
  "cells": [
    {
      "cell_type": "markdown",
      "metadata": {
        "id": "x39iI2rYviT9"
      },
      "source": [
        "## imports"
      ]
    },
    {
      "cell_type": "code",
      "execution_count": null,
      "metadata": {
        "colab": {
          "base_uri": "https://localhost:8080/"
        },
        "id": "1iJhJ__eGDYn",
        "outputId": "01ce14d7-6511-4fba-db3e-f8904e091f00"
      },
      "outputs": [
        {
          "output_type": "stream",
          "name": "stdout",
          "text": [
            "Looking in indexes: https://pypi.org/simple, https://us-python.pkg.dev/colab-wheels/public/simple/\n",
            "Requirement already satisfied: emoji in /usr/local/lib/python3.7/dist-packages (2.1.0)\n",
            "Looking in indexes: https://pypi.org/simple, https://us-python.pkg.dev/colab-wheels/public/simple/\n",
            "Requirement already satisfied: wordcloud in /usr/local/lib/python3.7/dist-packages (1.8.2.2)\n",
            "Requirement already satisfied: pillow in /usr/local/lib/python3.7/dist-packages (from wordcloud) (7.1.2)\n",
            "Requirement already satisfied: numpy>=1.6.1 in /usr/local/lib/python3.7/dist-packages (from wordcloud) (1.21.6)\n",
            "Requirement already satisfied: matplotlib in /usr/local/lib/python3.7/dist-packages (from wordcloud) (3.2.2)\n",
            "Requirement already satisfied: pyparsing!=2.0.4,!=2.1.2,!=2.1.6,>=2.0.1 in /usr/local/lib/python3.7/dist-packages (from matplotlib->wordcloud) (3.0.9)\n",
            "Requirement already satisfied: kiwisolver>=1.0.1 in /usr/local/lib/python3.7/dist-packages (from matplotlib->wordcloud) (1.4.4)\n",
            "Requirement already satisfied: python-dateutil>=2.1 in /usr/local/lib/python3.7/dist-packages (from matplotlib->wordcloud) (2.8.2)\n",
            "Requirement already satisfied: cycler>=0.10 in /usr/local/lib/python3.7/dist-packages (from matplotlib->wordcloud) (0.11.0)\n",
            "Requirement already satisfied: typing-extensions in /usr/local/lib/python3.7/dist-packages (from kiwisolver>=1.0.1->matplotlib->wordcloud) (4.1.1)\n",
            "Requirement already satisfied: six>=1.5 in /usr/local/lib/python3.7/dist-packages (from python-dateutil>=2.1->matplotlib->wordcloud) (1.15.0)\n"
          ]
        }
      ],
      "source": [
        "!pip install emoji\n",
        "!pip install wordcloud"
      ]
    },
    {
      "cell_type": "code",
      "execution_count": null,
      "metadata": {
        "colab": {
          "base_uri": "https://localhost:8080/"
        },
        "id": "3YXZj2zIF0Nb",
        "outputId": "afd8fe53-6093-468d-ef73-0a17ac8a6bf0"
      },
      "outputs": [
        {
          "output_type": "stream",
          "name": "stderr",
          "text": [
            "[nltk_data] Downloading package punkt to /root/nltk_data...\n",
            "[nltk_data]   Package punkt is already up-to-date!\n",
            "[nltk_data] Downloading package stopwords to /root/nltk_data...\n",
            "[nltk_data]   Package stopwords is already up-to-date!\n"
          ]
        }
      ],
      "source": [
        "import nltk\n",
        "nltk.download('punkt')\n",
        "nltk.download('stopwords')\n",
        "\n",
        "from nltk.corpus import stopwords\n",
        "stop_words = stopwords.words('portuguese')\n",
        "\n",
        "from nltk.stem.porter import PorterStemmer\n",
        "import emoji\n",
        "import string"
      ]
    },
    {
      "cell_type": "code",
      "execution_count": null,
      "metadata": {
        "id": "fVq0lDI9b5eR"
      },
      "outputs": [],
      "source": [
        "import pandas as pd\n",
        "import numpy as np\n",
        "import matplotlib.pyplot as plt\n",
        "\n",
        "from sklearn.model_selection import train_test_split\n"
      ]
    },
    {
      "cell_type": "code",
      "execution_count": null,
      "metadata": {
        "id": "G_lz0Pzccou5"
      },
      "outputs": [],
      "source": [
        "import tensorflow as tf"
      ]
    },
    {
      "cell_type": "code",
      "source": [
        "tf.config.list_physical_devices('GPU')"
      ],
      "metadata": {
        "colab": {
          "base_uri": "https://localhost:8080/"
        },
        "id": "V6fX4W76FpDJ",
        "outputId": "d1b9368a-ef99-4d57-fc25-ab391e3cdfc5"
      },
      "execution_count": null,
      "outputs": [
        {
          "output_type": "execute_result",
          "data": {
            "text/plain": [
              "[PhysicalDevice(name='/physical_device:GPU:0', device_type='GPU')]"
            ]
          },
          "metadata": {},
          "execution_count": 30
        }
      ]
    },
    {
      "cell_type": "markdown",
      "metadata": {
        "id": "t5WYJL9hvqqw"
      },
      "source": [
        "## Carregando os dados\n",
        "\n",
        "Para os fins a que se destina estre trabalho, iremos utilizar duas bases de dados contendo diversas notícias brasileiras reais e fakes, igualmente distribuidas.\n",
        "\n"
      ]
    },
    {
      "cell_type": "markdown",
      "metadata": {
        "id": "taO51HJPqLeg"
      },
      "source": [
        "0 - REAL\n",
        "\n",
        "1 - FAKE"
      ]
    },
    {
      "cell_type": "markdown",
      "metadata": {
        "id": "H5cK6daublCx"
      },
      "source": [
        "#### Fake.br\n",
        "\n",
        "Link do projeto: https://github.com/roneysco/Fake.br-Corpus"
      ]
    },
    {
      "cell_type": "code",
      "execution_count": null,
      "metadata": {
        "id": "0slsqzZvYO2x"
      },
      "outputs": [],
      "source": [
        "# tranformar os textos brutos do fakebr para um dataset\n",
        "# import os\n",
        "\n",
        "# fakebr_news = pd.DataFrame(columns=['text'])\n",
        "\n",
        "# texts_path = [\n",
        "#     (0, '/content/drive/MyDrive/Mentorama/projeto_final/datasets/fake.br/real/'),\n",
        "#     (1, '/content/drive/MyDrive/Mentorama/projeto_final/datasets/fake.br/fake/')\n",
        "# ]\n",
        "\n",
        "# for label, path in texts_path:\n",
        "#   for filename in os.listdir(path):\n",
        "#       with open(os.path.join(path, filename)) as f:\n",
        "#           observation = f.read()\n",
        "#           current_df = pd.DataFrame({'text': [observation], 'label': [int(label)]})\n",
        "#           fakebr_news = fakebr_news.append(current_df, ignore_index=True)\n",
        "\n",
        "# fakebr_news.to_csv('/content/drive/MyDrive/Mentorama/projeto_final/datasets/fakebr.csv')"
      ]
    },
    {
      "cell_type": "code",
      "execution_count": null,
      "metadata": {
        "colab": {
          "base_uri": "https://localhost:8080/",
          "height": 424
        },
        "id": "Un-uSWLjqZiz",
        "outputId": "83e5ee39-8e9c-4cc8-8625-9b8151827d7e"
      },
      "outputs": [
        {
          "output_type": "execute_result",
          "data": {
            "text/plain": [
              "                                                   text  label\n",
              "0     Julgamento da chapa Dilma-Temer pode resultar ...    0.0\n",
              "1     Os detetives voluntários que procuram aviões q...    0.0\n",
              "2      A Polícia Federal atribui crime de corrupção ...    0.0\n",
              "3     Entender objetivos dos EUA e pressionar Putin:...    0.0\n",
              "4     Quem é o capitão que liderou rebelião contra o...    0.0\n",
              "...                                                 ...    ...\n",
              "7195  Coreia do Norte ameaça explodir Nova York após...    1.0\n",
              "7196  Teoria afirma que escolta de Obama era formada...    1.0\n",
              "7197  Tognolli: Odebrecht vai dar tiro pra todo lado...    1.0\n",
              "7198  União gastou quase R$ 1 bilhão com diárias par...    1.0\n",
              "7199  Imigrantes ateiam fogo em centro de refugiados...    1.0\n",
              "\n",
              "[7200 rows x 2 columns]"
            ],
            "text/html": [
              "\n",
              "  <div id=\"df-ced2bf7d-bd2d-4094-b75e-cc9229958daf\">\n",
              "    <div class=\"colab-df-container\">\n",
              "      <div>\n",
              "<style scoped>\n",
              "    .dataframe tbody tr th:only-of-type {\n",
              "        vertical-align: middle;\n",
              "    }\n",
              "\n",
              "    .dataframe tbody tr th {\n",
              "        vertical-align: top;\n",
              "    }\n",
              "\n",
              "    .dataframe thead th {\n",
              "        text-align: right;\n",
              "    }\n",
              "</style>\n",
              "<table border=\"1\" class=\"dataframe\">\n",
              "  <thead>\n",
              "    <tr style=\"text-align: right;\">\n",
              "      <th></th>\n",
              "      <th>text</th>\n",
              "      <th>label</th>\n",
              "    </tr>\n",
              "  </thead>\n",
              "  <tbody>\n",
              "    <tr>\n",
              "      <th>0</th>\n",
              "      <td>Julgamento da chapa Dilma-Temer pode resultar ...</td>\n",
              "      <td>0.0</td>\n",
              "    </tr>\n",
              "    <tr>\n",
              "      <th>1</th>\n",
              "      <td>Os detetives voluntários que procuram aviões q...</td>\n",
              "      <td>0.0</td>\n",
              "    </tr>\n",
              "    <tr>\n",
              "      <th>2</th>\n",
              "      <td>A Polícia Federal atribui crime de corrupção ...</td>\n",
              "      <td>0.0</td>\n",
              "    </tr>\n",
              "    <tr>\n",
              "      <th>3</th>\n",
              "      <td>Entender objetivos dos EUA e pressionar Putin:...</td>\n",
              "      <td>0.0</td>\n",
              "    </tr>\n",
              "    <tr>\n",
              "      <th>4</th>\n",
              "      <td>Quem é o capitão que liderou rebelião contra o...</td>\n",
              "      <td>0.0</td>\n",
              "    </tr>\n",
              "    <tr>\n",
              "      <th>...</th>\n",
              "      <td>...</td>\n",
              "      <td>...</td>\n",
              "    </tr>\n",
              "    <tr>\n",
              "      <th>7195</th>\n",
              "      <td>Coreia do Norte ameaça explodir Nova York após...</td>\n",
              "      <td>1.0</td>\n",
              "    </tr>\n",
              "    <tr>\n",
              "      <th>7196</th>\n",
              "      <td>Teoria afirma que escolta de Obama era formada...</td>\n",
              "      <td>1.0</td>\n",
              "    </tr>\n",
              "    <tr>\n",
              "      <th>7197</th>\n",
              "      <td>Tognolli: Odebrecht vai dar tiro pra todo lado...</td>\n",
              "      <td>1.0</td>\n",
              "    </tr>\n",
              "    <tr>\n",
              "      <th>7198</th>\n",
              "      <td>União gastou quase R$ 1 bilhão com diárias par...</td>\n",
              "      <td>1.0</td>\n",
              "    </tr>\n",
              "    <tr>\n",
              "      <th>7199</th>\n",
              "      <td>Imigrantes ateiam fogo em centro de refugiados...</td>\n",
              "      <td>1.0</td>\n",
              "    </tr>\n",
              "  </tbody>\n",
              "</table>\n",
              "<p>7200 rows × 2 columns</p>\n",
              "</div>\n",
              "      <button class=\"colab-df-convert\" onclick=\"convertToInteractive('df-ced2bf7d-bd2d-4094-b75e-cc9229958daf')\"\n",
              "              title=\"Convert this dataframe to an interactive table.\"\n",
              "              style=\"display:none;\">\n",
              "        \n",
              "  <svg xmlns=\"http://www.w3.org/2000/svg\" height=\"24px\"viewBox=\"0 0 24 24\"\n",
              "       width=\"24px\">\n",
              "    <path d=\"M0 0h24v24H0V0z\" fill=\"none\"/>\n",
              "    <path d=\"M18.56 5.44l.94 2.06.94-2.06 2.06-.94-2.06-.94-.94-2.06-.94 2.06-2.06.94zm-11 1L8.5 8.5l.94-2.06 2.06-.94-2.06-.94L8.5 2.5l-.94 2.06-2.06.94zm10 10l.94 2.06.94-2.06 2.06-.94-2.06-.94-.94-2.06-.94 2.06-2.06.94z\"/><path d=\"M17.41 7.96l-1.37-1.37c-.4-.4-.92-.59-1.43-.59-.52 0-1.04.2-1.43.59L10.3 9.45l-7.72 7.72c-.78.78-.78 2.05 0 2.83L4 21.41c.39.39.9.59 1.41.59.51 0 1.02-.2 1.41-.59l7.78-7.78 2.81-2.81c.8-.78.8-2.07 0-2.86zM5.41 20L4 18.59l7.72-7.72 1.47 1.35L5.41 20z\"/>\n",
              "  </svg>\n",
              "      </button>\n",
              "      \n",
              "  <style>\n",
              "    .colab-df-container {\n",
              "      display:flex;\n",
              "      flex-wrap:wrap;\n",
              "      gap: 12px;\n",
              "    }\n",
              "\n",
              "    .colab-df-convert {\n",
              "      background-color: #E8F0FE;\n",
              "      border: none;\n",
              "      border-radius: 50%;\n",
              "      cursor: pointer;\n",
              "      display: none;\n",
              "      fill: #1967D2;\n",
              "      height: 32px;\n",
              "      padding: 0 0 0 0;\n",
              "      width: 32px;\n",
              "    }\n",
              "\n",
              "    .colab-df-convert:hover {\n",
              "      background-color: #E2EBFA;\n",
              "      box-shadow: 0px 1px 2px rgba(60, 64, 67, 0.3), 0px 1px 3px 1px rgba(60, 64, 67, 0.15);\n",
              "      fill: #174EA6;\n",
              "    }\n",
              "\n",
              "    [theme=dark] .colab-df-convert {\n",
              "      background-color: #3B4455;\n",
              "      fill: #D2E3FC;\n",
              "    }\n",
              "\n",
              "    [theme=dark] .colab-df-convert:hover {\n",
              "      background-color: #434B5C;\n",
              "      box-shadow: 0px 1px 3px 1px rgba(0, 0, 0, 0.15);\n",
              "      filter: drop-shadow(0px 1px 2px rgba(0, 0, 0, 0.3));\n",
              "      fill: #FFFFFF;\n",
              "    }\n",
              "  </style>\n",
              "\n",
              "      <script>\n",
              "        const buttonEl =\n",
              "          document.querySelector('#df-ced2bf7d-bd2d-4094-b75e-cc9229958daf button.colab-df-convert');\n",
              "        buttonEl.style.display =\n",
              "          google.colab.kernel.accessAllowed ? 'block' : 'none';\n",
              "\n",
              "        async function convertToInteractive(key) {\n",
              "          const element = document.querySelector('#df-ced2bf7d-bd2d-4094-b75e-cc9229958daf');\n",
              "          const dataTable =\n",
              "            await google.colab.kernel.invokeFunction('convertToInteractive',\n",
              "                                                     [key], {});\n",
              "          if (!dataTable) return;\n",
              "\n",
              "          const docLinkHtml = 'Like what you see? Visit the ' +\n",
              "            '<a target=\"_blank\" href=https://colab.research.google.com/notebooks/data_table.ipynb>data table notebook</a>'\n",
              "            + ' to learn more about interactive tables.';\n",
              "          element.innerHTML = '';\n",
              "          dataTable['output_type'] = 'display_data';\n",
              "          await google.colab.output.renderOutput(dataTable, element);\n",
              "          const docLink = document.createElement('div');\n",
              "          docLink.innerHTML = docLinkHtml;\n",
              "          element.appendChild(docLink);\n",
              "        }\n",
              "      </script>\n",
              "    </div>\n",
              "  </div>\n",
              "  "
            ]
          },
          "metadata": {},
          "execution_count": 53
        }
      ],
      "source": [
        "fakebr_news = pd.read_csv('/content/drive/MyDrive/Mentorama/projeto_final/datasets/fakebr.csv', index_col=[0])\n",
        "fakebr_news"
      ]
    },
    {
      "cell_type": "code",
      "execution_count": null,
      "metadata": {
        "colab": {
          "base_uri": "https://localhost:8080/",
          "height": 282
        },
        "id": "9X__cQk3YO5K",
        "outputId": "865ead8d-104f-4df6-95cb-89857c6fa922"
      },
      "outputs": [
        {
          "output_type": "execute_result",
          "data": {
            "text/plain": [
              "<matplotlib.axes._subplots.AxesSubplot at 0x7f8f690f0cd0>"
            ]
          },
          "metadata": {},
          "execution_count": 54
        },
        {
          "output_type": "display_data",
          "data": {
            "text/plain": [
              "<Figure size 432x288 with 1 Axes>"
            ],
            "image/png": "[encoded data removed]"
          },
          "metadata": {
            "needs_background": "light"
          }
        }
      ],
      "source": [
        "# verificando a distribuição da variável target\n",
        "fakebr_news.label.hist(bins=3)"
      ]
    },
    {
      "cell_type": "code",
      "execution_count": null,
      "metadata": {
        "id": "JBiWGhzgb9An"
      },
      "outputs": [],
      "source": [
        "# categorizando a nosso target\n",
        "fakebr_news['label'] = pd.Categorical(fakebr_news['label'])\n",
        "fakebr_news['label'] = fakebr_news.label.cat.codes"
      ]
    },
    {
      "cell_type": "code",
      "execution_count": null,
      "metadata": {
        "colab": {
          "base_uri": "https://localhost:8080/"
        },
        "id": "9opj-3Dzb0xS",
        "outputId": "d4ab7f3c-cc74-4473-f343-e9c2e0c45ebf"
      },
      "outputs": [
        {
          "output_type": "execute_result",
          "data": {
            "text/plain": [
              "text     object\n",
              "label      int8\n",
              "dtype: object"
            ]
          },
          "metadata": {},
          "execution_count": 56
        }
      ],
      "source": [
        "fakebr_news.dtypes"
      ]
    },
    {
      "cell_type": "markdown",
      "metadata": {
        "id": "oxWw2NZ-bolX"
      },
      "source": [
        "#### FakeRecogna\n",
        "\n",
        "FakeRecogna é um conjunto de dados composto por notícias reais e falsas. A notícia real não está diretamente ligada às notícias falsas e vice-versa, o que pode levar a uma classificação tendenciosa. A coleta de notícias foi realizada por crawlers desenvolvidos para mineração de páginas de notícias de agências conhecidas e de grande relevância nacional. Os web crawlers foram desenvolvidos com base em cada página analisada, onde as informações extraídas são primeiramente separadas em categorias e depois agrupadas por datas. A pluralidade de notícias em várias páginas e os diferentes estilos de escrita proporcionam ao conjunto de dados uma grande diversidade para análise de processamento de linguagem natural e algoritmos de aprendizado de máquina.\n",
        "\n",
        "Link do projeto: https://github.com/Gabriel-Lino-Garcia/FakeRecogna"
      ]
    },
    {
      "cell_type": "code",
      "execution_count": null,
      "metadata": {
        "colab": {
          "base_uri": "https://localhost:8080/",
          "height": 81
        },
        "id": "tWqz6Ocyb9Qi",
        "outputId": "c70d2f77-f788-4ea4-978f-ce4df5748abd"
      },
      "outputs": [
        {
          "output_type": "execute_result",
          "data": {
            "text/plain": [
              "   label                                               text\n",
              "0      1  Boato – Está comprovado que a votação sobre o ..."
            ],
            "text/html": [
              "\n",
              "  <div id=\"df-c1897ea0-30c2-4c81-a3f0-a20de3b7edcc\">\n",
              "    <div class=\"colab-df-container\">\n",
              "      <div>\n",
              "<style scoped>\n",
              "    .dataframe tbody tr th:only-of-type {\n",
              "        vertical-align: middle;\n",
              "    }\n",
              "\n",
              "    .dataframe tbody tr th {\n",
              "        vertical-align: top;\n",
              "    }\n",
              "\n",
              "    .dataframe thead th {\n",
              "        text-align: right;\n",
              "    }\n",
              "</style>\n",
              "<table border=\"1\" class=\"dataframe\">\n",
              "  <thead>\n",
              "    <tr style=\"text-align: right;\">\n",
              "      <th></th>\n",
              "      <th>label</th>\n",
              "      <th>text</th>\n",
              "    </tr>\n",
              "  </thead>\n",
              "  <tbody>\n",
              "    <tr>\n",
              "      <th>0</th>\n",
              "      <td>1</td>\n",
              "      <td>Boato – Está comprovado que a votação sobre o ...</td>\n",
              "    </tr>\n",
              "  </tbody>\n",
              "</table>\n",
              "</div>\n",
              "      <button class=\"colab-df-convert\" onclick=\"convertToInteractive('df-c1897ea0-30c2-4c81-a3f0-a20de3b7edcc')\"\n",
              "              title=\"Convert this dataframe to an interactive table.\"\n",
              "              style=\"display:none;\">\n",
              "        \n",
              "  <svg xmlns=\"http://www.w3.org/2000/svg\" height=\"24px\"viewBox=\"0 0 24 24\"\n",
              "       width=\"24px\">\n",
              "    <path d=\"M0 0h24v24H0V0z\" fill=\"none\"/>\n",
              "    <path d=\"M18.56 5.44l.94 2.06.94-2.06 2.06-.94-2.06-.94-.94-2.06-.94 2.06-2.06.94zm-11 1L8.5 8.5l.94-2.06 2.06-.94-2.06-.94L8.5 2.5l-.94 2.06-2.06.94zm10 10l.94 2.06.94-2.06 2.06-.94-2.06-.94-.94-2.06-.94 2.06-2.06.94z\"/><path d=\"M17.41 7.96l-1.37-1.37c-.4-.4-.92-.59-1.43-.59-.52 0-1.04.2-1.43.59L10.3 9.45l-7.72 7.72c-.78.78-.78 2.05 0 2.83L4 21.41c.39.39.9.59 1.41.59.51 0 1.02-.2 1.41-.59l7.78-7.78 2.81-2.81c.8-.78.8-2.07 0-2.86zM5.41 20L4 18.59l7.72-7.72 1.47 1.35L5.41 20z\"/>\n",
              "  </svg>\n",
              "      </button>\n",
              "      \n",
              "  <style>\n",
              "    .colab-df-container {\n",
              "      display:flex;\n",
              "      flex-wrap:wrap;\n",
              "      gap: 12px;\n",
              "    }\n",
              "\n",
              "    .colab-df-convert {\n",
              "      background-color: #E8F0FE;\n",
              "      border: none;\n",
              "      border-radius: 50%;\n",
              "      cursor: pointer;\n",
              "      display: none;\n",
              "      fill: #1967D2;\n",
              "      height: 32px;\n",
              "      padding: 0 0 0 0;\n",
              "      width: 32px;\n",
              "    }\n",
              "\n",
              "    .colab-df-convert:hover {\n",
              "      background-color: #E2EBFA;\n",
              "      box-shadow: 0px 1px 2px rgba(60, 64, 67, 0.3), 0px 1px 3px 1px rgba(60, 64, 67, 0.15);\n",
              "      fill: #174EA6;\n",
              "    }\n",
              "\n",
              "    [theme=dark] .colab-df-convert {\n",
              "      background-color: #3B4455;\n",
              "      fill: #D2E3FC;\n",
              "    }\n",
              "\n",
              "    [theme=dark] .colab-df-convert:hover {\n",
              "      background-color: #434B5C;\n",
              "      box-shadow: 0px 1px 3px 1px rgba(0, 0, 0, 0.15);\n",
              "      filter: drop-shadow(0px 1px 2px rgba(0, 0, 0, 0.3));\n",
              "      fill: #FFFFFF;\n",
              "    }\n",
              "  </style>\n",
              "\n",
              "      <script>\n",
              "        const buttonEl =\n",
              "          document.querySelector('#df-c1897ea0-30c2-4c81-a3f0-a20de3b7edcc button.colab-df-convert');\n",
              "        buttonEl.style.display =\n",
              "          google.colab.kernel.accessAllowed ? 'block' : 'none';\n",
              "\n",
              "        async function convertToInteractive(key) {\n",
              "          const element = document.querySelector('#df-c1897ea0-30c2-4c81-a3f0-a20de3b7edcc');\n",
              "          const dataTable =\n",
              "            await google.colab.kernel.invokeFunction('convertToInteractive',\n",
              "                                                     [key], {});\n",
              "          if (!dataTable) return;\n",
              "\n",
              "          const docLinkHtml = 'Like what you see? Visit the ' +\n",
              "            '<a target=\"_blank\" href=https://colab.research.google.com/notebooks/data_table.ipynb>data table notebook</a>'\n",
              "            + ' to learn more about interactive tables.';\n",
              "          element.innerHTML = '';\n",
              "          dataTable['output_type'] = 'display_data';\n",
              "          await google.colab.output.renderOutput(dataTable, element);\n",
              "          const docLink = document.createElement('div');\n",
              "          docLink.innerHTML = docLinkHtml;\n",
              "          element.appendChild(docLink);\n",
              "        }\n",
              "      </script>\n",
              "    </div>\n",
              "  </div>\n",
              "  "
            ]
          },
          "metadata": {},
          "execution_count": 82
        }
      ],
      "source": [
        "recogna_news = pd.read_csv('/content/drive/MyDrive/Mentorama/projeto_final/datasets/FakeRecogna_no_removal_words_1_.csv', index_col=[0])\n",
        "\n",
        "recogna_news['label'] = recogna_news['Classe'].apply(lambda x: 1 if x == 0 else 0)\n",
        "recogna_news['text'] = recogna_news['Subtitulo'].apply(lambda x: str(x))\n",
        "\n",
        "recogna_news = recogna_news.drop(['Subtitulo', 'Noticia', 'Categoria', 'Data', 'Autor', 'URL', 'Classe'], axis=1)\n",
        "recogna_news = recogna_news.reset_index(drop=True)\n",
        "recogna_news.head(1)"
      ]
    },
    {
      "cell_type": "code",
      "execution_count": null,
      "metadata": {
        "colab": {
          "base_uri": "https://localhost:8080/",
          "height": 282
        },
        "id": "azrs_gcAHlPI",
        "outputId": "59e34093-63e0-4003-ac79-c7cd50448c6a"
      },
      "outputs": [
        {
          "output_type": "execute_result",
          "data": {
            "text/plain": [
              "<matplotlib.axes._subplots.AxesSubplot at 0x7fab953064d0>"
            ]
          },
          "metadata": {},
          "execution_count": 27
        },
        {
          "output_type": "display_data",
          "data": {
            "text/plain": [
              "<Figure size 432x288 with 1 Axes>"
            ],
            "image/png": "[encoded data removed]"
          },
          "metadata": {
            "needs_background": "light"
          }
        }
      ],
      "source": [
        "# verificando a distribuição da variável target\n",
        "recogna_news.label.hist(bins=3)"
      ]
    },
    {
      "cell_type": "code",
      "execution_count": null,
      "metadata": {
        "colab": {
          "base_uri": "https://localhost:8080/"
        },
        "id": "RiKrnGJzdHWQ",
        "outputId": "f9163802-53bd-4621-ba21-f054cd7cbf26"
      },
      "outputs": [
        {
          "output_type": "execute_result",
          "data": {
            "text/plain": [
              "label     int64\n",
              "text     object\n",
              "dtype: object"
            ]
          },
          "metadata": {},
          "execution_count": 28
        }
      ],
      "source": [
        "recogna_news.dtypes"
      ]
    },
    {
      "cell_type": "code",
      "execution_count": null,
      "metadata": {
        "colab": {
          "base_uri": "https://localhost:8080/",
          "height": 363
        },
        "id": "4IGcBOxPdI0Y",
        "outputId": "67c786e8-755a-46c6-ed68-cacd16406c68"
      },
      "outputs": [
        {
          "output_type": "execute_result",
          "data": {
            "text/plain": [
              "   label                                               text\n",
              "0      1  Boato – Está comprovado que a votação sobre o ...\n",
              "1      0  Opção vinha sendo testada no aplicativo, e foi...\n",
              "2      0                                                nan\n",
              "3      0                                                nan\n",
              "4      1  Publicações compartilhadas dezenas de vezes de...\n",
              "5      0                                                nan\n",
              "6      1  Publicações que supostamente provam que eram a...\n",
              "7      0                                                nan\n",
              "8      0                                                nan\n",
              "9      1                                                nan"
            ],
            "text/html": [
              "\n",
              "  <div id=\"df-41284f76-8c12-4352-a2be-cc0db460052d\">\n",
              "    <div class=\"colab-df-container\">\n",
              "      <div>\n",
              "<style scoped>\n",
              "    .dataframe tbody tr th:only-of-type {\n",
              "        vertical-align: middle;\n",
              "    }\n",
              "\n",
              "    .dataframe tbody tr th {\n",
              "        vertical-align: top;\n",
              "    }\n",
              "\n",
              "    .dataframe thead th {\n",
              "        text-align: right;\n",
              "    }\n",
              "</style>\n",
              "<table border=\"1\" class=\"dataframe\">\n",
              "  <thead>\n",
              "    <tr style=\"text-align: right;\">\n",
              "      <th></th>\n",
              "      <th>label</th>\n",
              "      <th>text</th>\n",
              "    </tr>\n",
              "  </thead>\n",
              "  <tbody>\n",
              "    <tr>\n",
              "      <th>0</th>\n",
              "      <td>1</td>\n",
              "      <td>Boato – Está comprovado que a votação sobre o ...</td>\n",
              "    </tr>\n",
              "    <tr>\n",
              "      <th>1</th>\n",
              "      <td>0</td>\n",
              "      <td>Opção vinha sendo testada no aplicativo, e foi...</td>\n",
              "    </tr>\n",
              "    <tr>\n",
              "      <th>2</th>\n",
              "      <td>0</td>\n",
              "      <td>nan</td>\n",
              "    </tr>\n",
              "    <tr>\n",
              "      <th>3</th>\n",
              "      <td>0</td>\n",
              "      <td>nan</td>\n",
              "    </tr>\n",
              "    <tr>\n",
              "      <th>4</th>\n",
              "      <td>1</td>\n",
              "      <td>Publicações compartilhadas dezenas de vezes de...</td>\n",
              "    </tr>\n",
              "    <tr>\n",
              "      <th>5</th>\n",
              "      <td>0</td>\n",
              "      <td>nan</td>\n",
              "    </tr>\n",
              "    <tr>\n",
              "      <th>6</th>\n",
              "      <td>1</td>\n",
              "      <td>Publicações que supostamente provam que eram a...</td>\n",
              "    </tr>\n",
              "    <tr>\n",
              "      <th>7</th>\n",
              "      <td>0</td>\n",
              "      <td>nan</td>\n",
              "    </tr>\n",
              "    <tr>\n",
              "      <th>8</th>\n",
              "      <td>0</td>\n",
              "      <td>nan</td>\n",
              "    </tr>\n",
              "    <tr>\n",
              "      <th>9</th>\n",
              "      <td>1</td>\n",
              "      <td>nan</td>\n",
              "    </tr>\n",
              "  </tbody>\n",
              "</table>\n",
              "</div>\n",
              "      <button class=\"colab-df-convert\" onclick=\"convertToInteractive('df-41284f76-8c12-4352-a2be-cc0db460052d')\"\n",
              "              title=\"Convert this dataframe to an interactive table.\"\n",
              "              style=\"display:none;\">\n",
              "        \n",
              "  <svg xmlns=\"http://www.w3.org/2000/svg\" height=\"24px\"viewBox=\"0 0 24 24\"\n",
              "       width=\"24px\">\n",
              "    <path d=\"M0 0h24v24H0V0z\" fill=\"none\"/>\n",
              "    <path d=\"M18.56 5.44l.94 2.06.94-2.06 2.06-.94-2.06-.94-.94-2.06-.94 2.06-2.06.94zm-11 1L8.5 8.5l.94-2.06 2.06-.94-2.06-.94L8.5 2.5l-.94 2.06-2.06.94zm10 10l.94 2.06.94-2.06 2.06-.94-2.06-.94-.94-2.06-.94 2.06-2.06.94z\"/><path d=\"M17.41 7.96l-1.37-1.37c-.4-.4-.92-.59-1.43-.59-.52 0-1.04.2-1.43.59L10.3 9.45l-7.72 7.72c-.78.78-.78 2.05 0 2.83L4 21.41c.39.39.9.59 1.41.59.51 0 1.02-.2 1.41-.59l7.78-7.78 2.81-2.81c.8-.78.8-2.07 0-2.86zM5.41 20L4 18.59l7.72-7.72 1.47 1.35L5.41 20z\"/>\n",
              "  </svg>\n",
              "      </button>\n",
              "      \n",
              "  <style>\n",
              "    .colab-df-container {\n",
              "      display:flex;\n",
              "      flex-wrap:wrap;\n",
              "      gap: 12px;\n",
              "    }\n",
              "\n",
              "    .colab-df-convert {\n",
              "      background-color: #E8F0FE;\n",
              "      border: none;\n",
              "      border-radius: 50%;\n",
              "      cursor: pointer;\n",
              "      display: none;\n",
              "      fill: #1967D2;\n",
              "      height: 32px;\n",
              "      padding: 0 0 0 0;\n",
              "      width: 32px;\n",
              "    }\n",
              "\n",
              "    .colab-df-convert:hover {\n",
              "      background-color: #E2EBFA;\n",
              "      box-shadow: 0px 1px 2px rgba(60, 64, 67, 0.3), 0px 1px 3px 1px rgba(60, 64, 67, 0.15);\n",
              "      fill: #174EA6;\n",
              "    }\n",
              "\n",
              "    [theme=dark] .colab-df-convert {\n",
              "      background-color: #3B4455;\n",
              "      fill: #D2E3FC;\n",
              "    }\n",
              "\n",
              "    [theme=dark] .colab-df-convert:hover {\n",
              "      background-color: #434B5C;\n",
              "      box-shadow: 0px 1px 3px 1px rgba(0, 0, 0, 0.15);\n",
              "      filter: drop-shadow(0px 1px 2px rgba(0, 0, 0, 0.3));\n",
              "      fill: #FFFFFF;\n",
              "    }\n",
              "  </style>\n",
              "\n",
              "      <script>\n",
              "        const buttonEl =\n",
              "          document.querySelector('#df-41284f76-8c12-4352-a2be-cc0db460052d button.colab-df-convert');\n",
              "        buttonEl.style.display =\n",
              "          google.colab.kernel.accessAllowed ? 'block' : 'none';\n",
              "\n",
              "        async function convertToInteractive(key) {\n",
              "          const element = document.querySelector('#df-41284f76-8c12-4352-a2be-cc0db460052d');\n",
              "          const dataTable =\n",
              "            await google.colab.kernel.invokeFunction('convertToInteractive',\n",
              "                                                     [key], {});\n",
              "          if (!dataTable) return;\n",
              "\n",
              "          const docLinkHtml = 'Like what you see? Visit the ' +\n",
              "            '<a target=\"_blank\" href=https://colab.research.google.com/notebooks/data_table.ipynb>data table notebook</a>'\n",
              "            + ' to learn more about interactive tables.';\n",
              "          element.innerHTML = '';\n",
              "          dataTable['output_type'] = 'display_data';\n",
              "          await google.colab.output.renderOutput(dataTable, element);\n",
              "          const docLink = document.createElement('div');\n",
              "          docLink.innerHTML = docLinkHtml;\n",
              "          element.appendChild(docLink);\n",
              "        }\n",
              "      </script>\n",
              "    </div>\n",
              "  </div>\n",
              "  "
            ]
          },
          "metadata": {},
          "execution_count": 83
        }
      ],
      "source": [
        "# categorize labels\n",
        "recogna_news['label'] = pd.Categorical(recogna_news['label'])\n",
        "recogna_news['label'] = recogna_news.label.cat.codes\n",
        "\n",
        "recogna_news.head(10)"
      ]
    },
    {
      "cell_type": "code",
      "execution_count": null,
      "metadata": {
        "colab": {
          "base_uri": "https://localhost:8080/"
        },
        "id": "ylgodta0iJbz",
        "outputId": "fad1cb73-74e5-4431-bf18-3f88edc94d22"
      },
      "outputs": [
        {
          "output_type": "execute_result",
          "data": {
            "text/plain": [
              "(11902, 2)"
            ]
          },
          "metadata": {},
          "execution_count": 30
        }
      ],
      "source": [
        "recogna_news.shape\n"
      ]
    },
    {
      "cell_type": "code",
      "execution_count": null,
      "metadata": {
        "colab": {
          "base_uri": "https://localhost:8080/"
        },
        "id": "66aJP9Hnqs64",
        "outputId": "9f769675-dbe6-449a-9473-edb0e98081c8"
      },
      "outputs": [
        {
          "output_type": "execute_result",
          "data": {
            "text/plain": [
              "label      int8\n",
              "text     object\n",
              "dtype: object"
            ]
          },
          "metadata": {},
          "execution_count": 31
        }
      ],
      "source": [
        "recogna_news.dtypes\n"
      ]
    },
    {
      "cell_type": "markdown",
      "metadata": {
        "id": "rFWM2yHre5jt"
      },
      "source": [
        "#### Juntando os dois datasets"
      ]
    },
    {
      "cell_type": "code",
      "execution_count": null,
      "metadata": {
        "id": "MpHUXDlLe8qb"
      },
      "outputs": [],
      "source": [
        "# final_data = pd.concat([recogna_news, fakebr_news], ignore_index=True)\n",
        "final_data = recogna_news"
      ]
    },
    {
      "cell_type": "code",
      "execution_count": null,
      "metadata": {
        "id": "8B_WCg5tk1AN"
      },
      "outputs": [],
      "source": [
        "# final_data.to_csv('/content/drive/MyDrive/Mentorama/projeto_final/datasets/final_fake+recogna.csv', index=False)"
      ]
    },
    {
      "cell_type": "markdown",
      "metadata": {
        "id": "V7LtIJqUcKER"
      },
      "source": [
        "## Explorando os dados"
      ]
    },
    {
      "cell_type": "code",
      "source": [
        "# final_data = pd.read_csv('/content/drive/MyDrive/Mentorama/projeto_final/datasets/final_fake+recogna.csv')"
      ],
      "metadata": {
        "id": "cuB2hYkIjDTM"
      },
      "execution_count": null,
      "outputs": []
    },
    {
      "cell_type": "code",
      "execution_count": null,
      "metadata": {
        "id": "3AczJmFlFMfl"
      },
      "outputs": [],
      "source": [
        "import re\n",
        "\n",
        "def preprocess_text(text, remove_stop = True, stem_words = False, remove_mentions_hashtags = True):\n",
        "    \"\"\"\n",
        "    eg:\n",
        "    input: preprocess_text(\"@water #dream hi hello where are you going be there tomorrow happening happen happens\",\n",
        "    stem_words = True)\n",
        "    output: ['tomorrow', 'happen', 'go', 'hello']\n",
        "    \"\"\"\n",
        "\n",
        "    # Remove emojis\n",
        "    emoji_pattern = re.compile(\"[\" \"\\U0001F1E0-\\U0001F6FF\" \"]+\", flags=re.UNICODE)\n",
        "    text = emoji_pattern.sub(r\"\", text)\n",
        "    text = \"\".join([x for x in text if x not in emoji.EMOJI_DATA])\n",
        "\n",
        "    if remove_mentions_hashtags:\n",
        "        text = re.sub(r\"@(\\w+)\", \" \", text)\n",
        "        text = re.sub(r\"#(\\w+)\", \" \", text)\n",
        "\n",
        "    text = re.sub(r\"[^\\x00-\\x7F]+\", \" \", text)\n",
        "    regex = re.compile('[' + re.escape(string.punctuation) + '0-9\\\\r\\\\t\\\\n]') # remove punctuation and numbers\n",
        "    nopunct = regex.sub(\" \", text.lower())\n",
        "    words = (''.join(nopunct)).split()\n",
        "\n",
        "    if(remove_stop):\n",
        "        words = [w for w in words if w not in stop_words]\n",
        "        words = [w for w in words if len(w) > 2]  # remove a,an,of etc.\n",
        "\n",
        "    if(stem_words):\n",
        "        stemmer = PorterStemmer()\n",
        "        words = [stemmer.stem(w) for w in words]\n",
        "\n",
        "    return list(words)"
      ]
    },
    {
      "cell_type": "code",
      "execution_count": null,
      "metadata": {
        "id": "ot5I11WGFSRk"
      },
      "outputs": [],
      "source": [
        "rows, cols = final_data.shape\n",
        "final_data['token'] = [preprocess_text(i, stem_words=False) for i in final_data.text]\n"
      ]
    },
    {
      "cell_type": "code",
      "execution_count": null,
      "metadata": {
        "colab": {
          "base_uri": "https://localhost:8080/",
          "height": 206
        },
        "id": "FHybsCBrGyv1",
        "outputId": "f0c6e936-b24f-4397-9868-c0394f03599e"
      },
      "outputs": [
        {
          "output_type": "execute_result",
          "data": {
            "text/plain": [
              "   label                                               text  \\\n",
              "0      1  bomba lira fraudar o votação brasília explodir...   \n",
              "1      0  o whatsapp liberar quinta-feira atualização ap...   \n",
              "2      0  debater propor o cidade o campanha prefeitura ...   \n",
              "3      0  o alesp assembleia legislativo paulo aprovar h...   \n",
              "4      1  “ fauci aprovar o hidroxicloroquina haver ano ...   \n",
              "\n",
              "                                               token  \n",
              "0  [bomba, lira, fraudar, vota, bras, lia, explod...  \n",
              "1  [whatsapp, liberar, quinta, feira, atualiza, a...  \n",
              "2  [debater, propor, cidade, campanha, prefeitura...  \n",
              "3  [alesp, assembleia, legislativo, paulo, aprova...  \n",
              "4  [fauci, aprovar, hidroxicloroquina, ano, curar...  "
            ],
            "text/html": [
              "\n",
              "  <div id=\"df-97a291a1-9d2e-4288-b25f-674763c91d5a\">\n",
              "    <div class=\"colab-df-container\">\n",
              "      <div>\n",
              "<style scoped>\n",
              "    .dataframe tbody tr th:only-of-type {\n",
              "        vertical-align: middle;\n",
              "    }\n",
              "\n",
              "    .dataframe tbody tr th {\n",
              "        vertical-align: top;\n",
              "    }\n",
              "\n",
              "    .dataframe thead th {\n",
              "        text-align: right;\n",
              "    }\n",
              "</style>\n",
              "<table border=\"1\" class=\"dataframe\">\n",
              "  <thead>\n",
              "    <tr style=\"text-align: right;\">\n",
              "      <th></th>\n",
              "      <th>label</th>\n",
              "      <th>text</th>\n",
              "      <th>token</th>\n",
              "    </tr>\n",
              "  </thead>\n",
              "  <tbody>\n",
              "    <tr>\n",
              "      <th>0</th>\n",
              "      <td>1</td>\n",
              "      <td>bomba lira fraudar o votação brasília explodir...</td>\n",
              "      <td>[bomba, lira, fraudar, vota, bras, lia, explod...</td>\n",
              "    </tr>\n",
              "    <tr>\n",
              "      <th>1</th>\n",
              "      <td>0</td>\n",
              "      <td>o whatsapp liberar quinta-feira atualização ap...</td>\n",
              "      <td>[whatsapp, liberar, quinta, feira, atualiza, a...</td>\n",
              "    </tr>\n",
              "    <tr>\n",
              "      <th>2</th>\n",
              "      <td>0</td>\n",
              "      <td>debater propor o cidade o campanha prefeitura ...</td>\n",
              "      <td>[debater, propor, cidade, campanha, prefeitura...</td>\n",
              "    </tr>\n",
              "    <tr>\n",
              "      <th>3</th>\n",
              "      <td>0</td>\n",
              "      <td>o alesp assembleia legislativo paulo aprovar h...</td>\n",
              "      <td>[alesp, assembleia, legislativo, paulo, aprova...</td>\n",
              "    </tr>\n",
              "    <tr>\n",
              "      <th>4</th>\n",
              "      <td>1</td>\n",
              "      <td>“ fauci aprovar o hidroxicloroquina haver ano ...</td>\n",
              "      <td>[fauci, aprovar, hidroxicloroquina, ano, curar...</td>\n",
              "    </tr>\n",
              "  </tbody>\n",
              "</table>\n",
              "</div>\n",
              "      <button class=\"colab-df-convert\" onclick=\"convertToInteractive('df-97a291a1-9d2e-4288-b25f-674763c91d5a')\"\n",
              "              title=\"Convert this dataframe to an interactive table.\"\n",
              "              style=\"display:none;\">\n",
              "        \n",
              "  <svg xmlns=\"http://www.w3.org/2000/svg\" height=\"24px\"viewBox=\"0 0 24 24\"\n",
              "       width=\"24px\">\n",
              "    <path d=\"M0 0h24v24H0V0z\" fill=\"none\"/>\n",
              "    <path d=\"M18.56 5.44l.94 2.06.94-2.06 2.06-.94-2.06-.94-.94-2.06-.94 2.06-2.06.94zm-11 1L8.5 8.5l.94-2.06 2.06-.94-2.06-.94L8.5 2.5l-.94 2.06-2.06.94zm10 10l.94 2.06.94-2.06 2.06-.94-2.06-.94-.94-2.06-.94 2.06-2.06.94z\"/><path d=\"M17.41 7.96l-1.37-1.37c-.4-.4-.92-.59-1.43-.59-.52 0-1.04.2-1.43.59L10.3 9.45l-7.72 7.72c-.78.78-.78 2.05 0 2.83L4 21.41c.39.39.9.59 1.41.59.51 0 1.02-.2 1.41-.59l7.78-7.78 2.81-2.81c.8-.78.8-2.07 0-2.86zM5.41 20L4 18.59l7.72-7.72 1.47 1.35L5.41 20z\"/>\n",
              "  </svg>\n",
              "      </button>\n",
              "      \n",
              "  <style>\n",
              "    .colab-df-container {\n",
              "      display:flex;\n",
              "      flex-wrap:wrap;\n",
              "      gap: 12px;\n",
              "    }\n",
              "\n",
              "    .colab-df-convert {\n",
              "      background-color: #E8F0FE;\n",
              "      border: none;\n",
              "      border-radius: 50%;\n",
              "      cursor: pointer;\n",
              "      display: none;\n",
              "      fill: #1967D2;\n",
              "      height: 32px;\n",
              "      padding: 0 0 0 0;\n",
              "      width: 32px;\n",
              "    }\n",
              "\n",
              "    .colab-df-convert:hover {\n",
              "      background-color: #E2EBFA;\n",
              "      box-shadow: 0px 1px 2px rgba(60, 64, 67, 0.3), 0px 1px 3px 1px rgba(60, 64, 67, 0.15);\n",
              "      fill: #174EA6;\n",
              "    }\n",
              "\n",
              "    [theme=dark] .colab-df-convert {\n",
              "      background-color: #3B4455;\n",
              "      fill: #D2E3FC;\n",
              "    }\n",
              "\n",
              "    [theme=dark] .colab-df-convert:hover {\n",
              "      background-color: #434B5C;\n",
              "      box-shadow: 0px 1px 3px 1px rgba(0, 0, 0, 0.15);\n",
              "      filter: drop-shadow(0px 1px 2px rgba(0, 0, 0, 0.3));\n",
              "      fill: #FFFFFF;\n",
              "    }\n",
              "  </style>\n",
              "\n",
              "      <script>\n",
              "        const buttonEl =\n",
              "          document.querySelector('#df-97a291a1-9d2e-4288-b25f-674763c91d5a button.colab-df-convert');\n",
              "        buttonEl.style.display =\n",
              "          google.colab.kernel.accessAllowed ? 'block' : 'none';\n",
              "\n",
              "        async function convertToInteractive(key) {\n",
              "          const element = document.querySelector('#df-97a291a1-9d2e-4288-b25f-674763c91d5a');\n",
              "          const dataTable =\n",
              "            await google.colab.kernel.invokeFunction('convertToInteractive',\n",
              "                                                     [key], {});\n",
              "          if (!dataTable) return;\n",
              "\n",
              "          const docLinkHtml = 'Like what you see? Visit the ' +\n",
              "            '<a target=\"_blank\" href=https://colab.research.google.com/notebooks/data_table.ipynb>data table notebook</a>'\n",
              "            + ' to learn more about interactive tables.';\n",
              "          element.innerHTML = '';\n",
              "          dataTable['output_type'] = 'display_data';\n",
              "          await google.colab.output.renderOutput(dataTable, element);\n",
              "          const docLink = document.createElement('div');\n",
              "          docLink.innerHTML = docLinkHtml;\n",
              "          element.appendChild(docLink);\n",
              "        }\n",
              "      </script>\n",
              "    </div>\n",
              "  </div>\n",
              "  "
            ]
          },
          "metadata": {},
          "execution_count": 37
        }
      ],
      "source": [
        "final_data.head(5)"
      ]
    },
    {
      "cell_type": "code",
      "execution_count": null,
      "metadata": {
        "colab": {
          "base_uri": "https://localhost:8080/",
          "height": 424
        },
        "id": "wxsnOLGMIiJd",
        "outputId": "41ff0a4b-e093-4207-f0a3-e45c3de85853"
      },
      "outputs": [
        {
          "output_type": "execute_result",
          "data": {
            "text/plain": [
              "       label                                               text  \\\n",
              "0          1  bomba lira fraudar o votação brasília explodir...   \n",
              "1          0  o whatsapp liberar quinta-feira atualização ap...   \n",
              "2          0  debater propor o cidade o campanha prefeitura ...   \n",
              "3          0  o alesp assembleia legislativo paulo aprovar h...   \n",
              "4          1  “ fauci aprovar o hidroxicloroquina haver ano ...   \n",
              "...      ...                                                ...   \n",
              "11897      0  o encontrar reunir o presidente jair bolsonaro...   \n",
              "11898      0  o reabertura complexo parque disney orlar defi...   \n",
              "11899      1  publicação circular rede social pedir o minist...   \n",
              "11900      0  o juiz wauner batista ferreiro machadar 3ª var...   \n",
              "11901      1  o empresário luciano hang dono havan doar moto...   \n",
              "\n",
              "                                                   token  n_words  \n",
              "0      [bomba, lira, fraudar, vota, bras, lia, explod...       31  \n",
              "1      [whatsapp, liberar, quinta, feira, atualiza, a...       37  \n",
              "2      [debater, propor, cidade, campanha, prefeitura...       70  \n",
              "3      [alesp, assembleia, legislativo, paulo, aprova...       41  \n",
              "4      [fauci, aprovar, hidroxicloroquina, ano, curar...       87  \n",
              "...                                                  ...      ...  \n",
              "11897  [encontrar, reunir, presidente, jair, bolsonar...       83  \n",
              "11898  [reabertura, complexo, parque, disney, orlar, ...       71  \n",
              "11899  [publica, circular, rede, social, pedir, minis...       92  \n",
              "11900  [juiz, wauner, batista, ferreiro, machadar, va...       96  \n",
              "11901  [empres, rio, luciano, hang, dono, havan, doar...       47  \n",
              "\n",
              "[11902 rows x 4 columns]"
            ],
            "text/html": [
              "\n",
              "  <div id=\"df-021ea529-2d47-49b9-8caf-21641fef95d8\">\n",
              "    <div class=\"colab-df-container\">\n",
              "      <div>\n",
              "<style scoped>\n",
              "    .dataframe tbody tr th:only-of-type {\n",
              "        vertical-align: middle;\n",
              "    }\n",
              "\n",
              "    .dataframe tbody tr th {\n",
              "        vertical-align: top;\n",
              "    }\n",
              "\n",
              "    .dataframe thead th {\n",
              "        text-align: right;\n",
              "    }\n",
              "</style>\n",
              "<table border=\"1\" class=\"dataframe\">\n",
              "  <thead>\n",
              "    <tr style=\"text-align: right;\">\n",
              "      <th></th>\n",
              "      <th>label</th>\n",
              "      <th>text</th>\n",
              "      <th>token</th>\n",
              "      <th>n_words</th>\n",
              "    </tr>\n",
              "  </thead>\n",
              "  <tbody>\n",
              "    <tr>\n",
              "      <th>0</th>\n",
              "      <td>1</td>\n",
              "      <td>bomba lira fraudar o votação brasília explodir...</td>\n",
              "      <td>[bomba, lira, fraudar, vota, bras, lia, explod...</td>\n",
              "      <td>31</td>\n",
              "    </tr>\n",
              "    <tr>\n",
              "      <th>1</th>\n",
              "      <td>0</td>\n",
              "      <td>o whatsapp liberar quinta-feira atualização ap...</td>\n",
              "      <td>[whatsapp, liberar, quinta, feira, atualiza, a...</td>\n",
              "      <td>37</td>\n",
              "    </tr>\n",
              "    <tr>\n",
              "      <th>2</th>\n",
              "      <td>0</td>\n",
              "      <td>debater propor o cidade o campanha prefeitura ...</td>\n",
              "      <td>[debater, propor, cidade, campanha, prefeitura...</td>\n",
              "      <td>70</td>\n",
              "    </tr>\n",
              "    <tr>\n",
              "      <th>3</th>\n",
              "      <td>0</td>\n",
              "      <td>o alesp assembleia legislativo paulo aprovar h...</td>\n",
              "      <td>[alesp, assembleia, legislativo, paulo, aprova...</td>\n",
              "      <td>41</td>\n",
              "    </tr>\n",
              "    <tr>\n",
              "      <th>4</th>\n",
              "      <td>1</td>\n",
              "      <td>“ fauci aprovar o hidroxicloroquina haver ano ...</td>\n",
              "      <td>[fauci, aprovar, hidroxicloroquina, ano, curar...</td>\n",
              "      <td>87</td>\n",
              "    </tr>\n",
              "    <tr>\n",
              "      <th>...</th>\n",
              "      <td>...</td>\n",
              "      <td>...</td>\n",
              "      <td>...</td>\n",
              "      <td>...</td>\n",
              "    </tr>\n",
              "    <tr>\n",
              "      <th>11897</th>\n",
              "      <td>0</td>\n",
              "      <td>o encontrar reunir o presidente jair bolsonaro...</td>\n",
              "      <td>[encontrar, reunir, presidente, jair, bolsonar...</td>\n",
              "      <td>83</td>\n",
              "    </tr>\n",
              "    <tr>\n",
              "      <th>11898</th>\n",
              "      <td>0</td>\n",
              "      <td>o reabertura complexo parque disney orlar defi...</td>\n",
              "      <td>[reabertura, complexo, parque, disney, orlar, ...</td>\n",
              "      <td>71</td>\n",
              "    </tr>\n",
              "    <tr>\n",
              "      <th>11899</th>\n",
              "      <td>1</td>\n",
              "      <td>publicação circular rede social pedir o minist...</td>\n",
              "      <td>[publica, circular, rede, social, pedir, minis...</td>\n",
              "      <td>92</td>\n",
              "    </tr>\n",
              "    <tr>\n",
              "      <th>11900</th>\n",
              "      <td>0</td>\n",
              "      <td>o juiz wauner batista ferreiro machadar 3ª var...</td>\n",
              "      <td>[juiz, wauner, batista, ferreiro, machadar, va...</td>\n",
              "      <td>96</td>\n",
              "    </tr>\n",
              "    <tr>\n",
              "      <th>11901</th>\n",
              "      <td>1</td>\n",
              "      <td>o empresário luciano hang dono havan doar moto...</td>\n",
              "      <td>[empres, rio, luciano, hang, dono, havan, doar...</td>\n",
              "      <td>47</td>\n",
              "    </tr>\n",
              "  </tbody>\n",
              "</table>\n",
              "<p>11902 rows × 4 columns</p>\n",
              "</div>\n",
              "      <button class=\"colab-df-convert\" onclick=\"convertToInteractive('df-021ea529-2d47-49b9-8caf-21641fef95d8')\"\n",
              "              title=\"Convert this dataframe to an interactive table.\"\n",
              "              style=\"display:none;\">\n",
              "        \n",
              "  <svg xmlns=\"http://www.w3.org/2000/svg\" height=\"24px\"viewBox=\"0 0 24 24\"\n",
              "       width=\"24px\">\n",
              "    <path d=\"M0 0h24v24H0V0z\" fill=\"none\"/>\n",
              "    <path d=\"M18.56 5.44l.94 2.06.94-2.06 2.06-.94-2.06-.94-.94-2.06-.94 2.06-2.06.94zm-11 1L8.5 8.5l.94-2.06 2.06-.94-2.06-.94L8.5 2.5l-.94 2.06-2.06.94zm10 10l.94 2.06.94-2.06 2.06-.94-2.06-.94-.94-2.06-.94 2.06-2.06.94z\"/><path d=\"M17.41 7.96l-1.37-1.37c-.4-.4-.92-.59-1.43-.59-.52 0-1.04.2-1.43.59L10.3 9.45l-7.72 7.72c-.78.78-.78 2.05 0 2.83L4 21.41c.39.39.9.59 1.41.59.51 0 1.02-.2 1.41-.59l7.78-7.78 2.81-2.81c.8-.78.8-2.07 0-2.86zM5.41 20L4 18.59l7.72-7.72 1.47 1.35L5.41 20z\"/>\n",
              "  </svg>\n",
              "      </button>\n",
              "      \n",
              "  <style>\n",
              "    .colab-df-container {\n",
              "      display:flex;\n",
              "      flex-wrap:wrap;\n",
              "      gap: 12px;\n",
              "    }\n",
              "\n",
              "    .colab-df-convert {\n",
              "      background-color: #E8F0FE;\n",
              "      border: none;\n",
              "      border-radius: 50%;\n",
              "      cursor: pointer;\n",
              "      display: none;\n",
              "      fill: #1967D2;\n",
              "      height: 32px;\n",
              "      padding: 0 0 0 0;\n",
              "      width: 32px;\n",
              "    }\n",
              "\n",
              "    .colab-df-convert:hover {\n",
              "      background-color: #E2EBFA;\n",
              "      box-shadow: 0px 1px 2px rgba(60, 64, 67, 0.3), 0px 1px 3px 1px rgba(60, 64, 67, 0.15);\n",
              "      fill: #174EA6;\n",
              "    }\n",
              "\n",
              "    [theme=dark] .colab-df-convert {\n",
              "      background-color: #3B4455;\n",
              "      fill: #D2E3FC;\n",
              "    }\n",
              "\n",
              "    [theme=dark] .colab-df-convert:hover {\n",
              "      background-color: #434B5C;\n",
              "      box-shadow: 0px 1px 3px 1px rgba(0, 0, 0, 0.15);\n",
              "      filter: drop-shadow(0px 1px 2px rgba(0, 0, 0, 0.3));\n",
              "      fill: #FFFFFF;\n",
              "    }\n",
              "  </style>\n",
              "\n",
              "      <script>\n",
              "        const buttonEl =\n",
              "          document.querySelector('#df-021ea529-2d47-49b9-8caf-21641fef95d8 button.colab-df-convert');\n",
              "        buttonEl.style.display =\n",
              "          google.colab.kernel.accessAllowed ? 'block' : 'none';\n",
              "\n",
              "        async function convertToInteractive(key) {\n",
              "          const element = document.querySelector('#df-021ea529-2d47-49b9-8caf-21641fef95d8');\n",
              "          const dataTable =\n",
              "            await google.colab.kernel.invokeFunction('convertToInteractive',\n",
              "                                                     [key], {});\n",
              "          if (!dataTable) return;\n",
              "\n",
              "          const docLinkHtml = 'Like what you see? Visit the ' +\n",
              "            '<a target=\"_blank\" href=https://colab.research.google.com/notebooks/data_table.ipynb>data table notebook</a>'\n",
              "            + ' to learn more about interactive tables.';\n",
              "          element.innerHTML = '';\n",
              "          dataTable['output_type'] = 'display_data';\n",
              "          await google.colab.output.renderOutput(dataTable, element);\n",
              "          const docLink = document.createElement('div');\n",
              "          docLink.innerHTML = docLinkHtml;\n",
              "          element.appendChild(docLink);\n",
              "        }\n",
              "      </script>\n",
              "    </div>\n",
              "  </div>\n",
              "  "
            ]
          },
          "metadata": {},
          "execution_count": 38
        }
      ],
      "source": [
        "final_data['n_words'] = final_data.token.apply(lambda x: len(x))\n",
        "final_data"
      ]
    },
    {
      "cell_type": "code",
      "execution_count": null,
      "metadata": {
        "colab": {
          "base_uri": "https://localhost:8080/"
        },
        "id": "kkbWTSDxXcZj",
        "outputId": "8d6fe953-3668-4274-a393-df82b6c998ca"
      },
      "outputs": [
        {
          "output_type": "execute_result",
          "data": {
            "text/plain": [
              "count    11902.000000\n",
              "mean        68.181398\n",
              "std         51.939337\n",
              "min          0.000000\n",
              "25%         42.000000\n",
              "50%         62.000000\n",
              "75%         82.000000\n",
              "max       1158.000000\n",
              "Name: n_words, dtype: float64"
            ]
          },
          "metadata": {},
          "execution_count": 39
        }
      ],
      "source": [
        "final_data.n_words.describe()"
      ]
    },
    {
      "cell_type": "code",
      "execution_count": null,
      "metadata": {
        "colab": {
          "base_uri": "https://localhost:8080/",
          "height": 144
        },
        "id": "3r4_NXQlXvFb",
        "outputId": "ade2ff38-48fe-48ea-ca07-4c6a9028d3ab"
      },
      "outputs": [
        {
          "output_type": "execute_result",
          "data": {
            "text/plain": [
              "        count       mean        std  min   25%   50%   75%     max\n",
              "label                                                             \n",
              "0      5951.0  81.231054  56.258783  0.0  58.0  73.0  90.0  1158.0\n",
              "1      5951.0  55.131743  43.475833  1.0  28.0  49.0  69.0  1031.0"
            ],
            "text/html": [
              "\n",
              "  <div id=\"df-eb3365c3-f232-49a4-858a-8e9c40063772\">\n",
              "    <div class=\"colab-df-container\">\n",
              "      <div>\n",
              "<style scoped>\n",
              "    .dataframe tbody tr th:only-of-type {\n",
              "        vertical-align: middle;\n",
              "    }\n",
              "\n",
              "    .dataframe tbody tr th {\n",
              "        vertical-align: top;\n",
              "    }\n",
              "\n",
              "    .dataframe thead th {\n",
              "        text-align: right;\n",
              "    }\n",
              "</style>\n",
              "<table border=\"1\" class=\"dataframe\">\n",
              "  <thead>\n",
              "    <tr style=\"text-align: right;\">\n",
              "      <th></th>\n",
              "      <th>count</th>\n",
              "      <th>mean</th>\n",
              "      <th>std</th>\n",
              "      <th>min</th>\n",
              "      <th>25%</th>\n",
              "      <th>50%</th>\n",
              "      <th>75%</th>\n",
              "      <th>max</th>\n",
              "    </tr>\n",
              "    <tr>\n",
              "      <th>label</th>\n",
              "      <th></th>\n",
              "      <th></th>\n",
              "      <th></th>\n",
              "      <th></th>\n",
              "      <th></th>\n",
              "      <th></th>\n",
              "      <th></th>\n",
              "      <th></th>\n",
              "    </tr>\n",
              "  </thead>\n",
              "  <tbody>\n",
              "    <tr>\n",
              "      <th>0</th>\n",
              "      <td>5951.0</td>\n",
              "      <td>81.231054</td>\n",
              "      <td>56.258783</td>\n",
              "      <td>0.0</td>\n",
              "      <td>58.0</td>\n",
              "      <td>73.0</td>\n",
              "      <td>90.0</td>\n",
              "      <td>1158.0</td>\n",
              "    </tr>\n",
              "    <tr>\n",
              "      <th>1</th>\n",
              "      <td>5951.0</td>\n",
              "      <td>55.131743</td>\n",
              "      <td>43.475833</td>\n",
              "      <td>1.0</td>\n",
              "      <td>28.0</td>\n",
              "      <td>49.0</td>\n",
              "      <td>69.0</td>\n",
              "      <td>1031.0</td>\n",
              "    </tr>\n",
              "  </tbody>\n",
              "</table>\n",
              "</div>\n",
              "      <button class=\"colab-df-convert\" onclick=\"convertToInteractive('df-eb3365c3-f232-49a4-858a-8e9c40063772')\"\n",
              "              title=\"Convert this dataframe to an interactive table.\"\n",
              "              style=\"display:none;\">\n",
              "        \n",
              "  <svg xmlns=\"http://www.w3.org/2000/svg\" height=\"24px\"viewBox=\"0 0 24 24\"\n",
              "       width=\"24px\">\n",
              "    <path d=\"M0 0h24v24H0V0z\" fill=\"none\"/>\n",
              "    <path d=\"M18.56 5.44l.94 2.06.94-2.06 2.06-.94-2.06-.94-.94-2.06-.94 2.06-2.06.94zm-11 1L8.5 8.5l.94-2.06 2.06-.94-2.06-.94L8.5 2.5l-.94 2.06-2.06.94zm10 10l.94 2.06.94-2.06 2.06-.94-2.06-.94-.94-2.06-.94 2.06-2.06.94z\"/><path d=\"M17.41 7.96l-1.37-1.37c-.4-.4-.92-.59-1.43-.59-.52 0-1.04.2-1.43.59L10.3 9.45l-7.72 7.72c-.78.78-.78 2.05 0 2.83L4 21.41c.39.39.9.59 1.41.59.51 0 1.02-.2 1.41-.59l7.78-7.78 2.81-2.81c.8-.78.8-2.07 0-2.86zM5.41 20L4 18.59l7.72-7.72 1.47 1.35L5.41 20z\"/>\n",
              "  </svg>\n",
              "      </button>\n",
              "      \n",
              "  <style>\n",
              "    .colab-df-container {\n",
              "      display:flex;\n",
              "      flex-wrap:wrap;\n",
              "      gap: 12px;\n",
              "    }\n",
              "\n",
              "    .colab-df-convert {\n",
              "      background-color: #E8F0FE;\n",
              "      border: none;\n",
              "      border-radius: 50%;\n",
              "      cursor: pointer;\n",
              "      display: none;\n",
              "      fill: #1967D2;\n",
              "      height: 32px;\n",
              "      padding: 0 0 0 0;\n",
              "      width: 32px;\n",
              "    }\n",
              "\n",
              "    .colab-df-convert:hover {\n",
              "      background-color: #E2EBFA;\n",
              "      box-shadow: 0px 1px 2px rgba(60, 64, 67, 0.3), 0px 1px 3px 1px rgba(60, 64, 67, 0.15);\n",
              "      fill: #174EA6;\n",
              "    }\n",
              "\n",
              "    [theme=dark] .colab-df-convert {\n",
              "      background-color: #3B4455;\n",
              "      fill: #D2E3FC;\n",
              "    }\n",
              "\n",
              "    [theme=dark] .colab-df-convert:hover {\n",
              "      background-color: #434B5C;\n",
              "      box-shadow: 0px 1px 3px 1px rgba(0, 0, 0, 0.15);\n",
              "      filter: drop-shadow(0px 1px 2px rgba(0, 0, 0, 0.3));\n",
              "      fill: #FFFFFF;\n",
              "    }\n",
              "  </style>\n",
              "\n",
              "      <script>\n",
              "        const buttonEl =\n",
              "          document.querySelector('#df-eb3365c3-f232-49a4-858a-8e9c40063772 button.colab-df-convert');\n",
              "        buttonEl.style.display =\n",
              "          google.colab.kernel.accessAllowed ? 'block' : 'none';\n",
              "\n",
              "        async function convertToInteractive(key) {\n",
              "          const element = document.querySelector('#df-eb3365c3-f232-49a4-858a-8e9c40063772');\n",
              "          const dataTable =\n",
              "            await google.colab.kernel.invokeFunction('convertToInteractive',\n",
              "                                                     [key], {});\n",
              "          if (!dataTable) return;\n",
              "\n",
              "          const docLinkHtml = 'Like what you see? Visit the ' +\n",
              "            '<a target=\"_blank\" href=https://colab.research.google.com/notebooks/data_table.ipynb>data table notebook</a>'\n",
              "            + ' to learn more about interactive tables.';\n",
              "          element.innerHTML = '';\n",
              "          dataTable['output_type'] = 'display_data';\n",
              "          await google.colab.output.renderOutput(dataTable, element);\n",
              "          const docLink = document.createElement('div');\n",
              "          docLink.innerHTML = docLinkHtml;\n",
              "          element.appendChild(docLink);\n",
              "        }\n",
              "      </script>\n",
              "    </div>\n",
              "  </div>\n",
              "  "
            ]
          },
          "metadata": {},
          "execution_count": 40
        }
      ],
      "source": [
        "final_data.groupby('label').n_words.describe()"
      ]
    },
    {
      "cell_type": "markdown",
      "metadata": {
        "id": "nFyrAPN8YKWX"
      },
      "source": [
        "Notícias verdadeiras tendem a ter mais palavras do que notícias falsas"
      ]
    },
    {
      "cell_type": "code",
      "execution_count": null,
      "metadata": {
        "colab": {
          "base_uri": "https://localhost:8080/",
          "height": 217
        },
        "id": "PUdVl51yH-2T",
        "outputId": "79975b5c-b085-4584-e3f7-12811fa5e133"
      },
      "outputs": [
        {
          "output_type": "execute_result",
          "data": {
            "text/plain": [
              "<PIL.Image.Image image mode=RGB size=400x200 at 0x7FAB8C61DCD0>"
            ],
            "image/png": "[encoded data removed]"
          },
          "metadata": {},
          "execution_count": 41
        }
      ],
      "source": [
        "from wordcloud import WordCloud\n",
        "\n",
        "# gera um grande texto com todas as palavras de todos os textos\n",
        "big_text = ','.join(list([' '.join(i) for i in final_data.token.values]))\n",
        "\n",
        "# wordcloud config\n",
        "wordcloud = WordCloud(background_color=\"white\", max_words=1000, contour_width=3, contour_color='steelblue')\n",
        "\n",
        "# gera a wordcloud\n",
        "wordcloud.generate(big_text)\n",
        "wordcloud.to_image()\n"
      ]
    },
    {
      "cell_type": "code",
      "source": [],
      "metadata": {
        "id": "zM1KjUvJK647"
      },
      "execution_count": null,
      "outputs": []
    },
    {
      "cell_type": "code",
      "source": [
        "final_data['token'] = final_data.token.apply(lambda x: ' '.join(x))\n",
        "final_data"
      ],
      "metadata": {
        "colab": {
          "base_uri": "https://localhost:8080/",
          "height": 424
        },
        "id": "JA95PRjxjkGS",
        "outputId": "58ec5357-91d5-450c-a267-dfd2aa40e7d2"
      },
      "execution_count": null,
      "outputs": [
        {
          "output_type": "execute_result",
          "data": {
            "text/plain": [
              "       label                                               text  \\\n",
              "0          1  bomba lira fraudar o votação brasília explodir...   \n",
              "1          0  o whatsapp liberar quinta-feira atualização ap...   \n",
              "2          0  debater propor o cidade o campanha prefeitura ...   \n",
              "3          0  o alesp assembleia legislativo paulo aprovar h...   \n",
              "4          1  “ fauci aprovar o hidroxicloroquina haver ano ...   \n",
              "...      ...                                                ...   \n",
              "11897      0  o encontrar reunir o presidente jair bolsonaro...   \n",
              "11898      0  o reabertura complexo parque disney orlar defi...   \n",
              "11899      1  publicação circular rede social pedir o minist...   \n",
              "11900      0  o juiz wauner batista ferreiro machadar 3ª var...   \n",
              "11901      1  o empresário luciano hang dono havan doar moto...   \n",
              "\n",
              "                                                   token  n_words  \n",
              "0      bomba lira fraudar vota bras lia explodir vota...       31  \n",
              "1      whatsapp liberar quinta feira atualiza aplicat...       37  \n",
              "2      debater propor cidade campanha prefeitura fort...       70  \n",
              "3      alesp assembleia legislativo paulo aprovar hoj...       41  \n",
              "4      fauci aprovar hidroxicloroquina ano curar coro...       87  \n",
              "...                                                  ...      ...  \n",
              "11897  encontrar reunir presidente jair bolsonaro man...       83  \n",
              "11898  reabertura complexo parque disney orlar defini...       71  \n",
              "11899  publica circular rede social pedir ministrar s...       92  \n",
              "11900  juiz wauner batista ferreiro machadar varar fa...       96  \n",
              "11901  empres rio luciano hang dono havan doar moto r...       47  \n",
              "\n",
              "[11902 rows x 4 columns]"
            ],
            "text/html": [
              "\n",
              "  <div id=\"df-9e63c49f-f6b9-4a09-a7a4-117e9d9bad32\">\n",
              "    <div class=\"colab-df-container\">\n",
              "      <div>\n",
              "<style scoped>\n",
              "    .dataframe tbody tr th:only-of-type {\n",
              "        vertical-align: middle;\n",
              "    }\n",
              "\n",
              "    .dataframe tbody tr th {\n",
              "        vertical-align: top;\n",
              "    }\n",
              "\n",
              "    .dataframe thead th {\n",
              "        text-align: right;\n",
              "    }\n",
              "</style>\n",
              "<table border=\"1\" class=\"dataframe\">\n",
              "  <thead>\n",
              "    <tr style=\"text-align: right;\">\n",
              "      <th></th>\n",
              "      <th>label</th>\n",
              "      <th>text</th>\n",
              "      <th>token</th>\n",
              "      <th>n_words</th>\n",
              "    </tr>\n",
              "  </thead>\n",
              "  <tbody>\n",
              "    <tr>\n",
              "      <th>0</th>\n",
              "      <td>1</td>\n",
              "      <td>bomba lira fraudar o votação brasília explodir...</td>\n",
              "      <td>bomba lira fraudar vota bras lia explodir vota...</td>\n",
              "      <td>31</td>\n",
              "    </tr>\n",
              "    <tr>\n",
              "      <th>1</th>\n",
              "      <td>0</td>\n",
              "      <td>o whatsapp liberar quinta-feira atualização ap...</td>\n",
              "      <td>whatsapp liberar quinta feira atualiza aplicat...</td>\n",
              "      <td>37</td>\n",
              "    </tr>\n",
              "    <tr>\n",
              "      <th>2</th>\n",
              "      <td>0</td>\n",
              "      <td>debater propor o cidade o campanha prefeitura ...</td>\n",
              "      <td>debater propor cidade campanha prefeitura fort...</td>\n",
              "      <td>70</td>\n",
              "    </tr>\n",
              "    <tr>\n",
              "      <th>3</th>\n",
              "      <td>0</td>\n",
              "      <td>o alesp assembleia legislativo paulo aprovar h...</td>\n",
              "      <td>alesp assembleia legislativo paulo aprovar hoj...</td>\n",
              "      <td>41</td>\n",
              "    </tr>\n",
              "    <tr>\n",
              "      <th>4</th>\n",
              "      <td>1</td>\n",
              "      <td>“ fauci aprovar o hidroxicloroquina haver ano ...</td>\n",
              "      <td>fauci aprovar hidroxicloroquina ano curar coro...</td>\n",
              "      <td>87</td>\n",
              "    </tr>\n",
              "    <tr>\n",
              "      <th>...</th>\n",
              "      <td>...</td>\n",
              "      <td>...</td>\n",
              "      <td>...</td>\n",
              "      <td>...</td>\n",
              "    </tr>\n",
              "    <tr>\n",
              "      <th>11897</th>\n",
              "      <td>0</td>\n",
              "      <td>o encontrar reunir o presidente jair bolsonaro...</td>\n",
              "      <td>encontrar reunir presidente jair bolsonaro man...</td>\n",
              "      <td>83</td>\n",
              "    </tr>\n",
              "    <tr>\n",
              "      <th>11898</th>\n",
              "      <td>0</td>\n",
              "      <td>o reabertura complexo parque disney orlar defi...</td>\n",
              "      <td>reabertura complexo parque disney orlar defini...</td>\n",
              "      <td>71</td>\n",
              "    </tr>\n",
              "    <tr>\n",
              "      <th>11899</th>\n",
              "      <td>1</td>\n",
              "      <td>publicação circular rede social pedir o minist...</td>\n",
              "      <td>publica circular rede social pedir ministrar s...</td>\n",
              "      <td>92</td>\n",
              "    </tr>\n",
              "    <tr>\n",
              "      <th>11900</th>\n",
              "      <td>0</td>\n",
              "      <td>o juiz wauner batista ferreiro machadar 3ª var...</td>\n",
              "      <td>juiz wauner batista ferreiro machadar varar fa...</td>\n",
              "      <td>96</td>\n",
              "    </tr>\n",
              "    <tr>\n",
              "      <th>11901</th>\n",
              "      <td>1</td>\n",
              "      <td>o empresário luciano hang dono havan doar moto...</td>\n",
              "      <td>empres rio luciano hang dono havan doar moto r...</td>\n",
              "      <td>47</td>\n",
              "    </tr>\n",
              "  </tbody>\n",
              "</table>\n",
              "<p>11902 rows × 4 columns</p>\n",
              "</div>\n",
              "      <button class=\"colab-df-convert\" onclick=\"convertToInteractive('df-9e63c49f-f6b9-4a09-a7a4-117e9d9bad32')\"\n",
              "              title=\"Convert this dataframe to an interactive table.\"\n",
              "              style=\"display:none;\">\n",
              "        \n",
              "  <svg xmlns=\"http://www.w3.org/2000/svg\" height=\"24px\"viewBox=\"0 0 24 24\"\n",
              "       width=\"24px\">\n",
              "    <path d=\"M0 0h24v24H0V0z\" fill=\"none\"/>\n",
              "    <path d=\"M18.56 5.44l.94 2.06.94-2.06 2.06-.94-2.06-.94-.94-2.06-.94 2.06-2.06.94zm-11 1L8.5 8.5l.94-2.06 2.06-.94-2.06-.94L8.5 2.5l-.94 2.06-2.06.94zm10 10l.94 2.06.94-2.06 2.06-.94-2.06-.94-.94-2.06-.94 2.06-2.06.94z\"/><path d=\"M17.41 7.96l-1.37-1.37c-.4-.4-.92-.59-1.43-.59-.52 0-1.04.2-1.43.59L10.3 9.45l-7.72 7.72c-.78.78-.78 2.05 0 2.83L4 21.41c.39.39.9.59 1.41.59.51 0 1.02-.2 1.41-.59l7.78-7.78 2.81-2.81c.8-.78.8-2.07 0-2.86zM5.41 20L4 18.59l7.72-7.72 1.47 1.35L5.41 20z\"/>\n",
              "  </svg>\n",
              "      </button>\n",
              "      \n",
              "  <style>\n",
              "    .colab-df-container {\n",
              "      display:flex;\n",
              "      flex-wrap:wrap;\n",
              "      gap: 12px;\n",
              "    }\n",
              "\n",
              "    .colab-df-convert {\n",
              "      background-color: #E8F0FE;\n",
              "      border: none;\n",
              "      border-radius: 50%;\n",
              "      cursor: pointer;\n",
              "      display: none;\n",
              "      fill: #1967D2;\n",
              "      height: 32px;\n",
              "      padding: 0 0 0 0;\n",
              "      width: 32px;\n",
              "    }\n",
              "\n",
              "    .colab-df-convert:hover {\n",
              "      background-color: #E2EBFA;\n",
              "      box-shadow: 0px 1px 2px rgba(60, 64, 67, 0.3), 0px 1px 3px 1px rgba(60, 64, 67, 0.15);\n",
              "      fill: #174EA6;\n",
              "    }\n",
              "\n",
              "    [theme=dark] .colab-df-convert {\n",
              "      background-color: #3B4455;\n",
              "      fill: #D2E3FC;\n",
              "    }\n",
              "\n",
              "    [theme=dark] .colab-df-convert:hover {\n",
              "      background-color: #434B5C;\n",
              "      box-shadow: 0px 1px 3px 1px rgba(0, 0, 0, 0.15);\n",
              "      filter: drop-shadow(0px 1px 2px rgba(0, 0, 0, 0.3));\n",
              "      fill: #FFFFFF;\n",
              "    }\n",
              "  </style>\n",
              "\n",
              "      <script>\n",
              "        const buttonEl =\n",
              "          document.querySelector('#df-9e63c49f-f6b9-4a09-a7a4-117e9d9bad32 button.colab-df-convert');\n",
              "        buttonEl.style.display =\n",
              "          google.colab.kernel.accessAllowed ? 'block' : 'none';\n",
              "\n",
              "        async function convertToInteractive(key) {\n",
              "          const element = document.querySelector('#df-9e63c49f-f6b9-4a09-a7a4-117e9d9bad32');\n",
              "          const dataTable =\n",
              "            await google.colab.kernel.invokeFunction('convertToInteractive',\n",
              "                                                     [key], {});\n",
              "          if (!dataTable) return;\n",
              "\n",
              "          const docLinkHtml = 'Like what you see? Visit the ' +\n",
              "            '<a target=\"_blank\" href=https://colab.research.google.com/notebooks/data_table.ipynb>data table notebook</a>'\n",
              "            + ' to learn more about interactive tables.';\n",
              "          element.innerHTML = '';\n",
              "          dataTable['output_type'] = 'display_data';\n",
              "          await google.colab.output.renderOutput(dataTable, element);\n",
              "          const docLink = document.createElement('div');\n",
              "          docLink.innerHTML = docLinkHtml;\n",
              "          element.appendChild(docLink);\n",
              "        }\n",
              "      </script>\n",
              "    </div>\n",
              "  </div>\n",
              "  "
            ]
          },
          "metadata": {},
          "execution_count": 42
        }
      ]
    },
    {
      "cell_type": "code",
      "source": [
        "#final_data.to_csv('/content/drive/MyDrive/Mentorama/projeto_final/datasets/final_fake+recogna.csv', index=False)\n"
      ],
      "metadata": {
        "id": "dQ8mjKp1stz_"
      },
      "execution_count": null,
      "outputs": []
    },
    {
      "cell_type": "markdown",
      "metadata": {
        "id": "6qDj_KC9cMOJ"
      },
      "source": [
        "## Modelando os dados"
      ]
    },
    {
      "cell_type": "code",
      "source": [
        "final_data = pd.read_csv('/content/drive/MyDrive/Mentorama/projeto_final/datasets/final_fake+recogna.csv')\n",
        "final_data"
      ],
      "metadata": {
        "colab": {
          "base_uri": "https://localhost:8080/",
          "height": 1000
        },
        "id": "0Hk19ALIt2nl",
        "outputId": "dc65379d-de1a-4bda-bd4f-7185e0bb7eba"
      },
      "execution_count": null,
      "outputs": [
        {
          "output_type": "execute_result",
          "data": {
            "text/plain": [
              "       label                                               text  \\\n",
              "0          1  bomba lira fraudar o votação brasília explodir...   \n",
              "1          0  o whatsapp liberar quinta-feira atualização ap...   \n",
              "2          0  debater propor o cidade o campanha prefeitura ...   \n",
              "3          0  o alesp assembleia legislativo paulo aprovar h...   \n",
              "4          1  “ fauci aprovar o hidroxicloroquina haver ano ...   \n",
              "...      ...                                                ...   \n",
              "19097      1  Coreia do Norte ameaça explodir Nova York após...   \n",
              "19098      1  Teoria afirma que escolta de Obama era formada...   \n",
              "19099      1  Tognolli: Odebrecht vai dar tiro pra todo lado...   \n",
              "19100      1  União gastou quase R$ 1 bilhão com diárias par...   \n",
              "19101      1  Imigrantes ateiam fogo em centro de refugiados...   \n",
              "\n",
              "                                                   token  n_words  \n",
              "0      bomba lira fraudar vota bras lia explodir vota...       31  \n",
              "1      whatsapp liberar quinta feira atualiza aplicat...       37  \n",
              "2      debater propor cidade campanha prefeitura fort...       70  \n",
              "3      alesp assembleia legislativo paulo aprovar hoj...       41  \n",
              "4      fauci aprovar hidroxicloroquina ano curar coro...       87  \n",
              "...                                                  ...      ...  \n",
              "19097  coreia norte amea explodir nova york coment ri...      150  \n",
              "19098  teoria afirma escolta obama formada aliens nin...      111  \n",
              "19099  tognolli odebrecht vai dar tiro pra todo lado ...      148  \n",
              "19100  uni gastou quase bilh rias funcion rios blicos...       96  \n",
              "19101  imigrantes ateiam fogo centro refugiados porqu...       80  \n",
              "\n",
              "[19102 rows x 4 columns]"
            ],
            "text/html": [
              "\n",
              "  <div id=\"df-1751d809-28f7-4a8a-a502-0a76f19d35a2\">\n",
              "    <div class=\"colab-df-container\">\n",
              "      <div>\n",
              "<style scoped>\n",
              "    .dataframe tbody tr th:only-of-type {\n",
              "        vertical-align: middle;\n",
              "    }\n",
              "\n",
              "    .dataframe tbody tr th {\n",
              "        vertical-align: top;\n",
              "    }\n",
              "\n",
              "    .dataframe thead th {\n",
              "        text-align: right;\n",
              "    }\n",
              "</style>\n",
              "<table border=\"1\" class=\"dataframe\">\n",
              "  <thead>\n",
              "    <tr style=\"text-align: right;\">\n",
              "      <th></th>\n",
              "      <th>label</th>\n",
              "      <th>text</th>\n",
              "      <th>token</th>\n",
              "      <th>n_words</th>\n",
              "    </tr>\n",
              "  </thead>\n",
              "  <tbody>\n",
              "    <tr>\n",
              "      <th>0</th>\n",
              "      <td>1</td>\n",
              "      <td>bomba lira fraudar o votação brasília explodir...</td>\n",
              "      <td>bomba lira fraudar vota bras lia explodir vota...</td>\n",
              "      <td>31</td>\n",
              "    </tr>\n",
              "    <tr>\n",
              "      <th>1</th>\n",
              "      <td>0</td>\n",
              "      <td>o whatsapp liberar quinta-feira atualização ap...</td>\n",
              "      <td>whatsapp liberar quinta feira atualiza aplicat...</td>\n",
              "      <td>37</td>\n",
              "    </tr>\n",
              "    <tr>\n",
              "      <th>2</th>\n",
              "      <td>0</td>\n",
              "      <td>debater propor o cidade o campanha prefeitura ...</td>\n",
              "      <td>debater propor cidade campanha prefeitura fort...</td>\n",
              "      <td>70</td>\n",
              "    </tr>\n",
              "    <tr>\n",
              "      <th>3</th>\n",
              "      <td>0</td>\n",
              "      <td>o alesp assembleia legislativo paulo aprovar h...</td>\n",
              "      <td>alesp assembleia legislativo paulo aprovar hoj...</td>\n",
              "      <td>41</td>\n",
              "    </tr>\n",
              "    <tr>\n",
              "      <th>4</th>\n",
              "      <td>1</td>\n",
              "      <td>“ fauci aprovar o hidroxicloroquina haver ano ...</td>\n",
              "      <td>fauci aprovar hidroxicloroquina ano curar coro...</td>\n",
              "      <td>87</td>\n",
              "    </tr>\n",
              "    <tr>\n",
              "      <th>...</th>\n",
              "      <td>...</td>\n",
              "      <td>...</td>\n",
              "      <td>...</td>\n",
              "      <td>...</td>\n",
              "    </tr>\n",
              "    <tr>\n",
              "      <th>19097</th>\n",
              "      <td>1</td>\n",
              "      <td>Coreia do Norte ameaça explodir Nova York após...</td>\n",
              "      <td>coreia norte amea explodir nova york coment ri...</td>\n",
              "      <td>150</td>\n",
              "    </tr>\n",
              "    <tr>\n",
              "      <th>19098</th>\n",
              "      <td>1</td>\n",
              "      <td>Teoria afirma que escolta de Obama era formada...</td>\n",
              "      <td>teoria afirma escolta obama formada aliens nin...</td>\n",
              "      <td>111</td>\n",
              "    </tr>\n",
              "    <tr>\n",
              "      <th>19099</th>\n",
              "      <td>1</td>\n",
              "      <td>Tognolli: Odebrecht vai dar tiro pra todo lado...</td>\n",
              "      <td>tognolli odebrecht vai dar tiro pra todo lado ...</td>\n",
              "      <td>148</td>\n",
              "    </tr>\n",
              "    <tr>\n",
              "      <th>19100</th>\n",
              "      <td>1</td>\n",
              "      <td>União gastou quase R$ 1 bilhão com diárias par...</td>\n",
              "      <td>uni gastou quase bilh rias funcion rios blicos...</td>\n",
              "      <td>96</td>\n",
              "    </tr>\n",
              "    <tr>\n",
              "      <th>19101</th>\n",
              "      <td>1</td>\n",
              "      <td>Imigrantes ateiam fogo em centro de refugiados...</td>\n",
              "      <td>imigrantes ateiam fogo centro refugiados porqu...</td>\n",
              "      <td>80</td>\n",
              "    </tr>\n",
              "  </tbody>\n",
              "</table>\n",
              "<p>19102 rows × 4 columns</p>\n",
              "</div>\n",
              "      <button class=\"colab-df-convert\" onclick=\"convertToInteractive('df-1751d809-28f7-4a8a-a502-0a76f19d35a2')\"\n",
              "              title=\"Convert this dataframe to an interactive table.\"\n",
              "              style=\"display:none;\">\n",
              "        \n",
              "  <svg xmlns=\"http://www.w3.org/2000/svg\" height=\"24px\"viewBox=\"0 0 24 24\"\n",
              "       width=\"24px\">\n",
              "    <path d=\"M0 0h24v24H0V0z\" fill=\"none\"/>\n",
              "    <path d=\"M18.56 5.44l.94 2.06.94-2.06 2.06-.94-2.06-.94-.94-2.06-.94 2.06-2.06.94zm-11 1L8.5 8.5l.94-2.06 2.06-.94-2.06-.94L8.5 2.5l-.94 2.06-2.06.94zm10 10l.94 2.06.94-2.06 2.06-.94-2.06-.94-.94-2.06-.94 2.06-2.06.94z\"/><path d=\"M17.41 7.96l-1.37-1.37c-.4-.4-.92-.59-1.43-.59-.52 0-1.04.2-1.43.59L10.3 9.45l-7.72 7.72c-.78.78-.78 2.05 0 2.83L4 21.41c.39.39.9.59 1.41.59.51 0 1.02-.2 1.41-.59l7.78-7.78 2.81-2.81c.8-.78.8-2.07 0-2.86zM5.41 20L4 18.59l7.72-7.72 1.47 1.35L5.41 20z\"/>\n",
              "  </svg>\n",
              "      </button>\n",
              "      \n",
              "  <style>\n",
              "    .colab-df-container {\n",
              "      display:flex;\n",
              "      flex-wrap:wrap;\n",
              "      gap: 12px;\n",
              "    }\n",
              "\n",
              "    .colab-df-convert {\n",
              "      background-color: #E8F0FE;\n",
              "      border: none;\n",
              "      border-radius: 50%;\n",
              "      cursor: pointer;\n",
              "      display: none;\n",
              "      fill: #1967D2;\n",
              "      height: 32px;\n",
              "      padding: 0 0 0 0;\n",
              "      width: 32px;\n",
              "    }\n",
              "\n",
              "    .colab-df-convert:hover {\n",
              "      background-color: #E2EBFA;\n",
              "      box-shadow: 0px 1px 2px rgba(60, 64, 67, 0.3), 0px 1px 3px 1px rgba(60, 64, 67, 0.15);\n",
              "      fill: #174EA6;\n",
              "    }\n",
              "\n",
              "    [theme=dark] .colab-df-convert {\n",
              "      background-color: #3B4455;\n",
              "      fill: #D2E3FC;\n",
              "    }\n",
              "\n",
              "    [theme=dark] .colab-df-convert:hover {\n",
              "      background-color: #434B5C;\n",
              "      box-shadow: 0px 1px 3px 1px rgba(0, 0, 0, 0.15);\n",
              "      filter: drop-shadow(0px 1px 2px rgba(0, 0, 0, 0.3));\n",
              "      fill: #FFFFFF;\n",
              "    }\n",
              "  </style>\n",
              "\n",
              "      <script>\n",
              "        const buttonEl =\n",
              "          document.querySelector('#df-1751d809-28f7-4a8a-a502-0a76f19d35a2 button.colab-df-convert');\n",
              "        buttonEl.style.display =\n",
              "          google.colab.kernel.accessAllowed ? 'block' : 'none';\n",
              "\n",
              "        async function convertToInteractive(key) {\n",
              "          const element = document.querySelector('#df-1751d809-28f7-4a8a-a502-0a76f19d35a2');\n",
              "          const dataTable =\n",
              "            await google.colab.kernel.invokeFunction('convertToInteractive',\n",
              "                                                     [key], {});\n",
              "          if (!dataTable) return;\n",
              "\n",
              "          const docLinkHtml = 'Like what you see? Visit the ' +\n",
              "            '<a target=\"_blank\" href=https://colab.research.google.com/notebooks/data_table.ipynb>data table notebook</a>'\n",
              "            + ' to learn more about interactive tables.';\n",
              "          element.innerHTML = '';\n",
              "          dataTable['output_type'] = 'display_data';\n",
              "          await google.colab.output.renderOutput(dataTable, element);\n",
              "          const docLink = document.createElement('div');\n",
              "          docLink.innerHTML = docLinkHtml;\n",
              "          element.appendChild(docLink);\n",
              "        }\n",
              "      </script>\n",
              "    </div>\n",
              "  </div>\n",
              "  "
            ]
          },
          "metadata": {},
          "execution_count": 31
        }
      ]
    },
    {
      "cell_type": "markdown",
      "metadata": {
        "id": "iT5V-FJOcRUX"
      },
      "source": [
        "## Pre Processamento dos dados\n",
        "\n",
        "Para esta tarefa, iremos quantificar as palavras existentes no texto, dividí-las em grupos de 10 palavras e encontrar padrões nas intenções do texto\n",
        "\n",
        "Para isso iremos iremos transformar os textos em vetores binários com tamanho padronizado, necessário para o treinamento do modelo."
      ]
    },
    {
      "cell_type": "markdown",
      "metadata": {
        "id": "yULKXAd_MvzH"
      },
      "source": [
        "#### Vetorizando cada palavra.\n",
        "Aqui, como cada documento tem um número diferente de palavras, vamos ter matrizes com diferentes dimensões. Nosso objetivo final é conseguir representar cada documento como um vetor que resume o documento. Ou seja, queremos representar diferentes matrizes como vetores. Existem várias formas de fazer isso (média dos vetores, média ponderada pelo TF-IDF, PCA...), mas nesse teste vamos fazer uma média simples."
      ]
    },
    {
      "cell_type": "markdown",
      "metadata": {
        "id": "b8uYpkE1axia"
      },
      "source": [
        "#### Modelo proposto pelo curso utilizando o spacy"
      ]
    },
    {
      "cell_type": "code",
      "execution_count": null,
      "metadata": {
        "colab": {
          "base_uri": "https://localhost:8080/"
        },
        "id": "dh0JXPhaMumR",
        "outputId": "053fd5c7-757e-4143-859a-79c369d1732b"
      },
      "outputs": [
        {
          "output_type": "stream",
          "name": "stdout",
          "text": [
            "2022-09-21 16:28:40.506806: E tensorflow/stream_executor/cuda/cuda_driver.cc:271] failed call to cuInit: CUDA_ERROR_NO_DEVICE: no CUDA-capable device is detected\n",
            "Looking in indexes: https://pypi.org/simple, https://us-python.pkg.dev/colab-wheels/public/simple/\n",
            "Collecting pt-core-news-sm==3.4.0\n",
            "  Downloading https://github.com/explosion/spacy-models/releases/download/pt_core_news_sm-3.4.0/pt_core_news_sm-3.4.0-py3-none-any.whl (13.0 MB)\n",
            "\u001b[K     |████████████████████████████████| 13.0 MB 14.6 MB/s \n",
            "\u001b[?25hRequirement already satisfied: spacy<3.5.0,>=3.4.0 in /usr/local/lib/python3.7/dist-packages (from pt-core-news-sm==3.4.0) (3.4.1)\n",
            "Requirement already satisfied: tqdm<5.0.0,>=4.38.0 in /usr/local/lib/python3.7/dist-packages (from spacy<3.5.0,>=3.4.0->pt-core-news-sm==3.4.0) (4.64.1)\n",
            "Requirement already satisfied: srsly<3.0.0,>=2.4.3 in /usr/local/lib/python3.7/dist-packages (from spacy<3.5.0,>=3.4.0->pt-core-news-sm==3.4.0) (2.4.4)\n",
            "Requirement already satisfied: catalogue<2.1.0,>=2.0.6 in /usr/local/lib/python3.7/dist-packages (from spacy<3.5.0,>=3.4.0->pt-core-news-sm==3.4.0) (2.0.8)\n",
            "Requirement already satisfied: spacy-legacy<3.1.0,>=3.0.9 in /usr/local/lib/python3.7/dist-packages (from spacy<3.5.0,>=3.4.0->pt-core-news-sm==3.4.0) (3.0.10)\n",
            "Requirement already satisfied: packaging>=20.0 in /usr/local/lib/python3.7/dist-packages (from spacy<3.5.0,>=3.4.0->pt-core-news-sm==3.4.0) (21.3)\n",
            "Requirement already satisfied: pydantic!=1.8,!=1.8.1,<1.10.0,>=1.7.4 in /usr/local/lib/python3.7/dist-packages (from spacy<3.5.0,>=3.4.0->pt-core-news-sm==3.4.0) (1.9.2)\n",
            "Requirement already satisfied: pathy>=0.3.5 in /usr/local/lib/python3.7/dist-packages (from spacy<3.5.0,>=3.4.0->pt-core-news-sm==3.4.0) (0.6.2)\n",
            "Requirement already satisfied: requests<3.0.0,>=2.13.0 in /usr/local/lib/python3.7/dist-packages (from spacy<3.5.0,>=3.4.0->pt-core-news-sm==3.4.0) (2.23.0)\n",
            "Requirement already satisfied: cymem<2.1.0,>=2.0.2 in /usr/local/lib/python3.7/dist-packages (from spacy<3.5.0,>=3.4.0->pt-core-news-sm==3.4.0) (2.0.6)\n",
            "Requirement already satisfied: thinc<8.2.0,>=8.1.0 in /usr/local/lib/python3.7/dist-packages (from spacy<3.5.0,>=3.4.0->pt-core-news-sm==3.4.0) (8.1.0)\n",
            "Requirement already satisfied: preshed<3.1.0,>=3.0.2 in /usr/local/lib/python3.7/dist-packages (from spacy<3.5.0,>=3.4.0->pt-core-news-sm==3.4.0) (3.0.7)\n",
            "Requirement already satisfied: wasabi<1.1.0,>=0.9.1 in /usr/local/lib/python3.7/dist-packages (from spacy<3.5.0,>=3.4.0->pt-core-news-sm==3.4.0) (0.10.1)\n",
            "Requirement already satisfied: typer<0.5.0,>=0.3.0 in /usr/local/lib/python3.7/dist-packages (from spacy<3.5.0,>=3.4.0->pt-core-news-sm==3.4.0) (0.4.2)\n",
            "Requirement already satisfied: murmurhash<1.1.0,>=0.28.0 in /usr/local/lib/python3.7/dist-packages (from spacy<3.5.0,>=3.4.0->pt-core-news-sm==3.4.0) (1.0.8)\n",
            "Requirement already satisfied: spacy-loggers<2.0.0,>=1.0.0 in /usr/local/lib/python3.7/dist-packages (from spacy<3.5.0,>=3.4.0->pt-core-news-sm==3.4.0) (1.0.3)\n",
            "Requirement already satisfied: setuptools in /usr/local/lib/python3.7/dist-packages (from spacy<3.5.0,>=3.4.0->pt-core-news-sm==3.4.0) (57.4.0)\n",
            "Requirement already satisfied: jinja2 in /usr/local/lib/python3.7/dist-packages (from spacy<3.5.0,>=3.4.0->pt-core-news-sm==3.4.0) (2.11.3)\n",
            "Requirement already satisfied: typing-extensions<4.2.0,>=3.7.4 in /usr/local/lib/python3.7/dist-packages (from spacy<3.5.0,>=3.4.0->pt-core-news-sm==3.4.0) (4.1.1)\n",
            "Requirement already satisfied: numpy>=1.15.0 in /usr/local/lib/python3.7/dist-packages (from spacy<3.5.0,>=3.4.0->pt-core-news-sm==3.4.0) (1.21.6)\n",
            "Requirement already satisfied: langcodes<4.0.0,>=3.2.0 in /usr/local/lib/python3.7/dist-packages (from spacy<3.5.0,>=3.4.0->pt-core-news-sm==3.4.0) (3.3.0)\n",
            "Requirement already satisfied: zipp>=0.5 in /usr/local/lib/python3.7/dist-packages (from catalogue<2.1.0,>=2.0.6->spacy<3.5.0,>=3.4.0->pt-core-news-sm==3.4.0) (3.8.1)\n",
            "Requirement already satisfied: pyparsing!=3.0.5,>=2.0.2 in /usr/local/lib/python3.7/dist-packages (from packaging>=20.0->spacy<3.5.0,>=3.4.0->pt-core-news-sm==3.4.0) (3.0.9)\n",
            "Requirement already satisfied: smart-open<6.0.0,>=5.2.1 in /usr/local/lib/python3.7/dist-packages (from pathy>=0.3.5->spacy<3.5.0,>=3.4.0->pt-core-news-sm==3.4.0) (5.2.1)\n",
            "Requirement already satisfied: urllib3!=1.25.0,!=1.25.1,<1.26,>=1.21.1 in /usr/local/lib/python3.7/dist-packages (from requests<3.0.0,>=2.13.0->spacy<3.5.0,>=3.4.0->pt-core-news-sm==3.4.0) (1.24.3)\n",
            "Requirement already satisfied: chardet<4,>=3.0.2 in /usr/local/lib/python3.7/dist-packages (from requests<3.0.0,>=2.13.0->spacy<3.5.0,>=3.4.0->pt-core-news-sm==3.4.0) (3.0.4)\n",
            "Requirement already satisfied: idna<3,>=2.5 in /usr/local/lib/python3.7/dist-packages (from requests<3.0.0,>=2.13.0->spacy<3.5.0,>=3.4.0->pt-core-news-sm==3.4.0) (2.10)\n",
            "Requirement already satisfied: certifi>=2017.4.17 in /usr/local/lib/python3.7/dist-packages (from requests<3.0.0,>=2.13.0->spacy<3.5.0,>=3.4.0->pt-core-news-sm==3.4.0) (2022.6.15)\n",
            "Requirement already satisfied: blis<0.8.0,>=0.7.8 in /usr/local/lib/python3.7/dist-packages (from thinc<8.2.0,>=8.1.0->spacy<3.5.0,>=3.4.0->pt-core-news-sm==3.4.0) (0.7.8)\n",
            "Requirement already satisfied: click<9.0.0,>=7.1.1 in /usr/local/lib/python3.7/dist-packages (from typer<0.5.0,>=0.3.0->spacy<3.5.0,>=3.4.0->pt-core-news-sm==3.4.0) (7.1.2)\n",
            "Requirement already satisfied: MarkupSafe>=0.23 in /usr/local/lib/python3.7/dist-packages (from jinja2->spacy<3.5.0,>=3.4.0->pt-core-news-sm==3.4.0) (2.0.1)\n",
            "Installing collected packages: pt-core-news-sm\n",
            "Successfully installed pt-core-news-sm-3.4.0\n",
            "\u001b[38;5;2m✔ Download and installation successful\u001b[0m\n",
            "You can now load the package via spacy.load('pt_core_news_sm')\n"
          ]
        }
      ],
      "source": [
        "!python -m spacy download pt_core_news_md\n"
      ]
    },
    {
      "cell_type": "code",
      "execution_count": null,
      "metadata": {
        "id": "e9HoggeYHWq6"
      },
      "outputs": [],
      "source": [
        "import spacy\n",
        "from spacy.lang.pt.examples import sentences\n",
        "\n",
        "nlp = spacy.load(\"pt_core_news_md\")\n",
        "\n",
        "# definindo função que retorna os vetores para cada palavra:\n",
        "def vec(s):\n",
        "    return nlp.vocab[s].vector"
      ]
    },
    {
      "cell_type": "code",
      "metadata": {
        "id": "3S3XI7FoRyG4",
        "colab": {
          "base_uri": "https://localhost:8080/"
        },
        "outputId": "28476c40-ade8-4205-c3e3-6cf62d3e29bf"
      },
      "source": [
        "vec_size = 300\n",
        "rows, cols = final_data.shape\n",
        "\n",
        "list_of_matrix = []\n",
        "\n",
        "corpus = final_data['token'].apply(lambda x: str(x).split(' '))\n",
        "for corpus in corpus:\n",
        "    matrix = np.empty([len(corpus), vec_size])\n",
        "    for idx, word in enumerate(corpus):\n",
        "        matrix[idx,:] = vec(word)\n",
        "    list_of_matrix.append(matrix)\n",
        "\n",
        "final_feature_matrix = np.empty([rows, vec_size])\n",
        "\n",
        "for row in range(rows):\n",
        "    final_feature_matrix[row,:] = list_of_matrix[row].mean(axis = 0)\n",
        "\n",
        "final_feature_matrix.shape\n"
      ],
      "execution_count": null,
      "outputs": [
        {
          "output_type": "execute_result",
          "data": {
            "text/plain": [
              "(19102, 300)"
            ]
          },
          "metadata": {},
          "execution_count": 17
        }
      ]
    },
    {
      "cell_type": "code",
      "source": [
        "#split train test val\n",
        "ds_train, ds_test, y_train, y_test = train_test_split(final_feature_matrix, final_data['label'])\n",
        "\n",
        "# split validation set\n",
        "ds_test, ds_val, y_test, y_val = train_test_split(ds_test, y_test)\n",
        "\n",
        "print(ds_train.shape, ds_test.shape, ds_val.shape)"
      ],
      "metadata": {
        "colab": {
          "base_uri": "https://localhost:8080/"
        },
        "id": "C0FDFBuWu17Z",
        "outputId": "5f76db21-e000-4466-d12e-f325c8256980"
      },
      "execution_count": null,
      "outputs": [
        {
          "output_type": "stream",
          "name": "stdout",
          "text": [
            "(14326, 300) (3582, 300) (1194, 300)\n"
          ]
        }
      ]
    },
    {
      "cell_type": "code",
      "source": [
        "# make a tensor dataset and split into batches\n",
        "\n",
        "batch_size = 32\n",
        "\n",
        "raw_train_ds = tf.data.Dataset.from_tensor_slices((ds_train, y_train.values))\n",
        "raw_test_ds = tf.data.Dataset.from_tensor_slices((ds_test, y_test.values))\n",
        "raw_val_ds = tf.data.Dataset.from_tensor_slices((ds_val, y_val.values))\n",
        "\n",
        "raw_train_ds = raw_train_ds.batch(batch_size)\n",
        "raw_test_ds = raw_test_ds.batch(batch_size)\n",
        "raw_val_ds = raw_val_ds.batch(batch_size)\n",
        "\n",
        "for text_batch, label_batch in raw_train_ds.take(1):\n",
        "  for i in range(10):\n",
        "    print(\"Notícia: \", text_batch.numpy()[i])\n",
        "    print(\"Label:\", label_batch.numpy()[i])\n"
      ],
      "metadata": {
        "id": "AjRtnQa6vTvd"
      },
      "execution_count": null,
      "outputs": []
    },
    {
      "cell_type": "code",
      "source": [],
      "metadata": {
        "id": "qElRF2e2vdow"
      },
      "execution_count": null,
      "outputs": []
    },
    {
      "cell_type": "markdown",
      "metadata": {
        "id": "FlbLv3hgau1H"
      },
      "source": [
        "#### Modelo proposto pelo tensorflow"
      ]
    },
    {
      "cell_type": "code",
      "source": [
        "final_data['token'] = final_data.token.apply(lambda x: str(x))"
      ],
      "metadata": {
        "id": "p1_stDI47fen"
      },
      "execution_count": null,
      "outputs": []
    },
    {
      "cell_type": "code",
      "execution_count": null,
      "metadata": {
        "colab": {
          "base_uri": "https://localhost:8080/"
        },
        "id": "hun4oNE5iNRy",
        "outputId": "7decb949-32a0-49c3-d970-20fae23e85d0"
      },
      "outputs": [
        {
          "output_type": "stream",
          "name": "stdout",
          "text": [
            "(14326, 4) (3582, 4) (1194, 4)\n"
          ]
        }
      ],
      "source": [
        "#split train test val\n",
        "ds_train, ds_test = train_test_split(final_data)\n",
        "\n",
        "# split validation set\n",
        "ds_test, ds_val = train_test_split(ds_test)\n",
        "\n",
        "print(ds_train.shape, ds_test.shape, ds_val.shape)"
      ]
    },
    {
      "cell_type": "code",
      "execution_count": null,
      "metadata": {
        "colab": {
          "base_uri": "https://localhost:8080/"
        },
        "id": "T-x83cmPjw3M",
        "outputId": "1dedd19a-1de8-4714-f0a6-641603b77c56"
      },
      "outputs": [
        {
          "output_type": "execute_result",
          "data": {
            "text/plain": [
              "label       int64\n",
              "text       object\n",
              "token      object\n",
              "n_words     int64\n",
              "dtype: object"
            ]
          },
          "metadata": {},
          "execution_count": 34
        }
      ],
      "source": [
        "ds_train.dtypes"
      ]
    },
    {
      "cell_type": "code",
      "execution_count": null,
      "metadata": {
        "id": "wdK8EI_ddnFa",
        "colab": {
          "base_uri": "https://localhost:8080/"
        },
        "outputId": "60c170eb-dafd-4d71-ee4f-2edc493f90e7"
      },
      "outputs": [
        {
          "output_type": "stream",
          "name": "stdout",
          "text": [
            "Notícia:  b'bibi ferreiro criticar machismo dilma condenar golpe'\n",
            "Label: 1\n",
            "Notícia:  b'joyce ramirez maicon juc receber semana not cia pai gostar filhar antonella ramirez juc prestar completar vidar beber nascer anticorpo covid prote confirmar segunda feira sair resultar exame sorologia antonella gente ficar feliz emocionar realmente resumir maicon sentimento casal cruzeiro sul acre joyce gravidez ect pico vulo fecundar alojar tero abortar espont neo ano gravidez considerar riscar sintoma gripar forte fevereiro ano gesta casal ficar preocupar'\n",
            "Label: 0\n",
            "Notícia:  b'organiza mundial saudar oms afirmar hoje propaga casar coronav rus pessoa chinar fagulhar tornar inc ndio humanar deixar epidemiar sair controlar prov ncia chin hubei epicentro surtir coronav rus registrar casar morte fevereiro informar autoridade saudar ter feira hor rio voltar hor rio bras lia hoje casar confirmar chinar morte casar incluir morte diretor geral oms tedros adhanom ghebreyesus morto epidemiar aumentar domingo registrar nico dia rus detectar cidade chin wuhan dezembro'\n",
            "Label: 0\n",
            "Notícia:  b'hamas convoca nova intifada ncio trump sobre jerusal cisjord nia registra confrontos presidente americano reconheceu cidade capital israelense apesar apelos comunidade internacional faz jornal local contabiliza menos feridos rede cnn fala hamas movimento isl mico atua pol tica bra armado convocou nova intifada nesta quinta feira dia presidente estados unidos donald trump reconhecer jerusal capital israel intifada termo utilizado fazer refer ncia revolta palestina contra pol tica expans governo israel devemos convocar devemos trabalhar lan amento intifada diante inimigo sionista disse der hamas ismail haniyeh discurso gaza rios grupos palestinos tamb convocaram greve geral dia ria sexta feira esperados manifesta protestos perto postos controle israelenses cisjord nia longo fronteira gaza grupo xiita liban hezbollah anunciou seguida apoia pedidos novo levante palestino convocou jornada protestos manifesta xima segunda feira reduto sul beirute apoiamos chamado nova intifada revolta palestina escalada resist ncia maior importante grave resposta decis norte americana disse der hezbollah sayyed nasrallah discurso transmitido chamada grande manifesta popular contra agress americana segunda feira bairros sul acrescentou apelo hamas confrontos manifestantes contra tropas israelenses registrados ramallah onde fica sede autoridade palestina bel tamb situada cisjord nia ocupada rcito israelense anunciou vez refor seguran cisjord nia tamb protestos jerusal intifadas guerras conhe origem confrontos palestinos israelenses acordo ncia reuters militares israelense disseram dois foguetes disparados faixa gaza controlada hamas dire israel chegaram atravessar fronteira grupo jihadista gaza chamado brigadas tawheed segue instru hamas disparar foguetes assumiu responsabilidade lan amentos resposta avi tanque atacaram dois pontos militantes faixa gaza jornal israelense haaretz recebeu crescente vermelho informa menos palestinos ficaram feridos confrontos soldados israelenses minist rio palestina tamb citado jornal registrou outros manifestantes feridos gaza outros dois palestinos feriram localidades qalqilyah tul karm gaza palestino ficou seriamente ferido acordo minist rio palestino cnn citando crescente vermelho palestino afirma pessoas feriram tumultos apesar diversos apelos comunidade internacional presidente eua tomasse decis trump anunciou quarta feira reconhecimento jerusal capital israelense pediu departamento estado inicie processo transferir embaixada americana atualmente instalada tel aviv decis trump pol mica porque palestinos defendem jerusal oriental capital futuro estado comunidade internacional reconhece reivindica israelense sobre cidade todo entenda primeiro ministro israelense benjamin netanyahu disse quarta feira reconhecimento marca dia hist rico importante passo paz netanyahu poucas autoridades pol ticas saudar decis americana afirmou outros ses demonstraram interesse seguir iniciativa americana temendo revoltas ncio trump governo israel implementou refor militares cisjord nia discurso feito casa branca trump afirmou decis marca come nova abordagem conflito israel palestinos nada nada menos reconhecimento realidade tamb coisa certa fazer algo feito ncio reafirmo comprometimento administra futuro paz continuou presidente eua hamas sigla rabe movimento resist ncia isl mica grupo maior isl micos militantes palestinos defende cria nico estado palestino ocuparia rea onde atualmente est israel faixa gaza cisjord nia agremia surgiu cio primeira intifada contra ocupa israelense cisjord nia faixa gaza ocasi crian jogavam pedras tanques mortas israel provocando indigna comunidade internacional segunda intifada come setembro durou quatro anos conflitos deixaram milhares mortos dois lados hamas venceu elei parlamentares palestinas provocou racha grupo fatah fundado der palestino yasser arafat dentro autoridade nacional palestina divis fez hamas passasse controlar faixa gaza partir fatah ficasse comando cisjord nia atualmente liderada mahmoud abbas israel considera hamas grupo terrorista dialogam oito ses pediram reuni emerg ncia conselho seguran onu presid ncia japonesa conselho informou ncia france presse reuni realizada manh sexta feira ant nio guterres secret rio geral onu afirmou alternativa solu dois estados plano continuar trabalhando segundo reuters presidente eua recebeu ampla condena deres pol ticos ulmanos mahmoud abbas presidente autoridade palestina governa cisjord nia afirmou trump viola todas resolu acordos internacionais decis kremlin vez disse reconhecimento jerusal capital israel est levando racha comunidade internacional presidente turco recep tayyip erdogan considerou reconhecer jerusal capital israel coloca mundo especialmente regi oriente dio rculo fogo declarou turquia importante aliado militar americanos comunicado pal cio real bia saudita outro aliado eua chamou decis irrespons vel europa deres fran reino unido alemanha outros condenaram mudan embaixada emmanuel macron chamou ncio lament vel enquanto theresa may disse epis dio pouco til solu pac fica angela merkel sublinhou berlim apoia atitude'\n",
            "Label: 0\n",
            "Notícia:  b'lula diz vai processar lutador mma postagem indevida porque processou gigante ultimamente presidente lula incomodado bastante postagens redes sociais caso recente lutador mma wanderlei silva lula usou gina facebook desmentir informa divulgadas atleta contra fam lia postagem rede social silva compartilhou imagem falsa sugere filho lula abastecendo iate legenda questiona onde vem todo dinheiro iates avi fazendas presidente rebateu muita gente chama mma vale tudo oct gono vale tudo redes sociais tamb pode assim mentir exemplo vale rebateu lula ainda sugeriu processar contra atleta lula alega tanto quanto filhos ricos possuem patrim nios avi lanchas etc enfim senhor humildade outubro jornal hoje dia portal publicou mat ria mostrando apartamento filho presidente reside confira alguns trechos mat ria abaixo bio luiz lula silva conhecido lulinha morava apartamento jardins rea nobre paulo cujo aluguel mil mensais pago amigo empres rio jonas leite suassuna filho durante campanha sucess lula vencida dilma rousseff fato ocupou ginas notici rio nacional agora bio luiz mora moema tamb regi classe alta capital paulista apartamento pertence jonas suassuna alugado renderia mil mensais somado despesas condom nio iptu gasto moradia chegaria mil lula eleito primeira vez entanto lulinha trabalhava zool gico recebia sal rio filho presidente leva vida luxo vizinhos contam apartamento constantemente visitado massagista particular personal trainner apartamento lulinha mora fam lia piscina banheira hidromassagem sauna propriet rio apartamento jonas suassuna apontado locat rio vel filho lula morava jardins acordo outros moradores dio edif cios vizinhos comum dirigindo carros luxo santa possui outros pertencentes amigo empres rio ferrari porsche lamborghini'\n",
            "Label: 1\n",
            "Notícia:  b'senado aprovar hoje projeto lei permitir retomar audi ncia cust dio videoconfer ncia durante pandemia permitir abril derrubar vetar congresso pacote anticrime tornar proibir decis criticar presidente supremo tribunal federar stf luiz fux projeto seguir mara deputar relator projeto simone tebet mdb explicar parecer videoconfer ncia adotada realiza audi ncia horar presencial destacar tratar medir excepcional implementar durante pandemia coronav rus trata importante passar assegurar audi ncia cust dio esvaziar adaptando instrumentar formato emergencial diminuir garantir direito assegurar presar realiza audi ncia cust dio obrigat rio presar levar juiz respons vel audi ncia prazo horar pris pol cia magistrado avaliar necessidade manuten pris determinar presar soltar cumprir medir cautelar tornozeleira eletr nica'\n",
            "Label: 0\n",
            "Notícia:  b'publica exonera diretor geral pol cia federal maur cio valeixo receber interlocutor sergio morar justi sinaliza claro presidente jair bolsonaro pedir demiss ministrar ministrar alar militar encontrar solu intermedi rio presidente espa negocia avisar colocar comandar delegar alexandre ramagem atual chefe ncia brasileiro intelig ncia abin ramagem escolher chefe seguran campanha bolsonaro sofrer atentar faca homem confian fam lia bolsonaro criar alternativo ministrar morar blog interlocutor ministrar possibilidade morar participar escolher sucessor descartar presidente auxiliar manh bombeiro escalar conversar morar expectativa revers quadrar improv vel'\n",
            "Label: 0\n",
            "Notícia:  b'candidato prefeitura rir janeiro continuidade campanha eleitoral cidade semana registrar oficial candidatura postar rede social falar hor rio eleitoral participar entrevisto evento campanha equipar fato fake checar principal declara durante semana candidato aparecer numericamente frente pesquisar ordem seguir pesquisar ler eduardo paes dem rir capital brasileiro ndice desempregar inverter completamente hoje capital brasileiro ndice desempregar'\n",
            "Label: 1\n",
            "Notícia:  b'melhor viagem algu pode fazer viagem sonhos pode muitas formas why not leitores mal humorados reclamaram fato correspondente ter pedido foto leitora val ria portela antes eventualmente acompanh viagem isl ndia ocorreu ltima edi nica semanal outros felizmente maioria compreenderam humor embutido provoca ali caracter stica miles nasceu inven puritanismo antes thank god gesta chamado politicamente correto pria leitora ali gostou brincadeira viajante brit nico aut ntico fairplay enviou foto miles amplo sorriso rosto favor agrade querida val ria digam tentando organizar agenda acompanh isl ndia pediu reda seguir pergunta semana querido miles melhor viagem algu pode fazer lua mel celebra cadas uni primeira bem preparada simone grolli mail well dear fico tentado responder pouca criatividade melhor viagem sempre xima porque xima viajando sonhos percorremos devaneios trouxe emo talvez confirmem viagem vai alimentar alma dia poss vel realiz vai permanecer lembran posto destaque enquanto surgir outra xima viagem recome processo amigos god voltaram vida viajar campos concentra nazista quais sobreviveram preciso repensassem vez todas escoria lembran mundo voltasse valer pena existem the other hand viagens reencontro explosivamente felizes querida krysia viu sozinha mundo pai desapareceu morreu durante segunda grande guerra tomar ncia progenitor vivo escondido sob outro nome quase anos tarde krysia apenas oito anos separa encontro presume melhor viagem algu poderia ter feito meras outras viagens repletas emo however fogem regra sobre voc mencionou dear ouso dizer ouso porque nunca casei formalmente viagem lua mel casal olhos outro timo assim the way cen rio bonito sempre ajuda eis caso viagem quase sempre est segundo plano viagens celebram uni longas est veis ver potencialmente felizes tempo maturidade decerto ter constru sonhada viagens tanto pode primeira resumo melhor todas outras acho bonito ver casais idosos visitante castelo balmoral esc cia quanto mergulhando tubar brancos frica sul primeira well pode depende prop sito tamanho espera grandeza sonho viagem trabalho estudos parques divers dificilmente melhor vida quer tamb pode why not bem preparada darling sempre melhor preparo algum grandes chances melhor porque preparo inclui germe ambi sonhos ficando tidos quanto sabemos sobre destino sobre come canta sobre hist ria geografia bem preparada enfim xima sugeri come dessa resposta miles homem viajado mundo ses territ rios ultramarinos'\n",
            "Label: 0\n",
            "Notícia:  b'circular rede social mensagem afirmar problema enfrentar usu rio utiliza whatsapp quarta feira provocar determina judicial texto normaliza ferramenta enviar recebimento imagem udio depender parecer justi usu rio aplicativo diverso relatar instabilidade whatsapp facebook instagram problema ocorrer manh quarta feira acordar site downdetector reportar problema aplicativo site problema come relatar voltar reclama whatsapp relato instabilidade locar europa brasil argentino venezuela xico costa ler eua comunicar facebook respons vel whatsapp instagram informar trabalhar solucionar problema pessoa neg cio problema carregar enviar imagem deo arquivo aplicativo trabalhar normalizar situa pido'\n",
            "Label: 1\n"
          ]
        }
      ],
      "source": [
        "# make a tensor dataset and split into batches\n",
        "\n",
        "batch_size = 32\n",
        "\n",
        "raw_train_ds = tf.data.Dataset.from_tensor_slices((ds_train.token, ds_train.label.values))\n",
        "raw_test_ds = tf.data.Dataset.from_tensor_slices((ds_test.token, ds_test.label.values))\n",
        "raw_val_ds = tf.data.Dataset.from_tensor_slices((ds_val.token, ds_val.label.values))\n",
        "\n",
        "raw_train_ds = raw_train_ds.batch(batch_size)\n",
        "raw_test_ds = raw_test_ds.batch(batch_size)\n",
        "raw_val_ds = raw_val_ds.batch(batch_size)\n",
        "\n",
        "for text_batch, label_batch in raw_train_ds.take(1):\n",
        "  for i in range(10):\n",
        "    print(\"Notícia: \", text_batch.numpy()[i])\n",
        "    print(\"Label:\", label_batch.numpy()[i])\n"
      ]
    },
    {
      "cell_type": "code",
      "execution_count": null,
      "metadata": {
        "colab": {
          "base_uri": "https://localhost:8080/"
        },
        "id": "l10ZBZ6Kdsuu",
        "outputId": "30d5c872-ed56-4d79-8379-2f66e47f769a"
      },
      "outputs": [
        {
          "output_type": "stream",
          "name": "stdout",
          "text": [
            "Notícia:  b'bibi ferreiro criticar machismo dilma condenar golpe'\n",
            "Label: 1\n",
            "Notícia:  b'joyce ramirez maicon juc receber semana not cia pai gostar filhar antonella ramirez juc prestar completar vidar beber nascer anticorpo covid prote confirmar segunda feira sair resultar exame sorologia antonella gente ficar feliz emocionar realmente resumir maicon sentimento casal cruzeiro sul acre joyce gravidez ect pico vulo fecundar alojar tero abortar espont neo ano gravidez considerar riscar sintoma gripar forte fevereiro ano gesta casal ficar preocupar'\n",
            "Label: 0\n",
            "Notícia:  b'organiza mundial saudar oms afirmar hoje propaga casar coronav rus pessoa chinar fagulhar tornar inc ndio humanar deixar epidemiar sair controlar prov ncia chin hubei epicentro surtir coronav rus registrar casar morte fevereiro informar autoridade saudar ter feira hor rio voltar hor rio bras lia hoje casar confirmar chinar morte casar incluir morte diretor geral oms tedros adhanom ghebreyesus morto epidemiar aumentar domingo registrar nico dia rus detectar cidade chin wuhan dezembro'\n",
            "Label: 0\n",
            "Notícia:  b'hamas convoca nova intifada ncio trump sobre jerusal cisjord nia registra confrontos presidente americano reconheceu cidade capital israelense apesar apelos comunidade internacional faz jornal local contabiliza menos feridos rede cnn fala hamas movimento isl mico atua pol tica bra armado convocou nova intifada nesta quinta feira dia presidente estados unidos donald trump reconhecer jerusal capital israel intifada termo utilizado fazer refer ncia revolta palestina contra pol tica expans governo israel devemos convocar devemos trabalhar lan amento intifada diante inimigo sionista disse der hamas ismail haniyeh discurso gaza rios grupos palestinos tamb convocaram greve geral dia ria sexta feira esperados manifesta protestos perto postos controle israelenses cisjord nia longo fronteira gaza grupo xiita liban hezbollah anunciou seguida apoia pedidos novo levante palestino convocou jornada protestos manifesta xima segunda feira reduto sul beirute apoiamos chamado nova intifada revolta palestina escalada resist ncia maior importante grave resposta decis norte americana disse der hezbollah sayyed nasrallah discurso transmitido chamada grande manifesta popular contra agress americana segunda feira bairros sul acrescentou apelo hamas confrontos manifestantes contra tropas israelenses registrados ramallah onde fica sede autoridade palestina bel tamb situada cisjord nia ocupada rcito israelense anunciou vez refor seguran cisjord nia tamb protestos jerusal intifadas guerras conhe origem confrontos palestinos israelenses acordo ncia reuters militares israelense disseram dois foguetes disparados faixa gaza controlada hamas dire israel chegaram atravessar fronteira grupo jihadista gaza chamado brigadas tawheed segue instru hamas disparar foguetes assumiu responsabilidade lan amentos resposta avi tanque atacaram dois pontos militantes faixa gaza jornal israelense haaretz recebeu crescente vermelho informa menos palestinos ficaram feridos confrontos soldados israelenses minist rio palestina tamb citado jornal registrou outros manifestantes feridos gaza outros dois palestinos feriram localidades qalqilyah tul karm gaza palestino ficou seriamente ferido acordo minist rio palestino cnn citando crescente vermelho palestino afirma pessoas feriram tumultos apesar diversos apelos comunidade internacional presidente eua tomasse decis trump anunciou quarta feira reconhecimento jerusal capital israelense pediu departamento estado inicie processo transferir embaixada americana atualmente instalada tel aviv decis trump pol mica porque palestinos defendem jerusal oriental capital futuro estado comunidade internacional reconhece reivindica israelense sobre cidade todo entenda primeiro ministro israelense benjamin netanyahu disse quarta feira reconhecimento marca dia hist rico importante passo paz netanyahu poucas autoridades pol ticas saudar decis americana afirmou outros ses demonstraram interesse seguir iniciativa americana temendo revoltas ncio trump governo israel implementou refor militares cisjord nia discurso feito casa branca trump afirmou decis marca come nova abordagem conflito israel palestinos nada nada menos reconhecimento realidade tamb coisa certa fazer algo feito ncio reafirmo comprometimento administra futuro paz continuou presidente eua hamas sigla rabe movimento resist ncia isl mica grupo maior isl micos militantes palestinos defende cria nico estado palestino ocuparia rea onde atualmente est israel faixa gaza cisjord nia agremia surgiu cio primeira intifada contra ocupa israelense cisjord nia faixa gaza ocasi crian jogavam pedras tanques mortas israel provocando indigna comunidade internacional segunda intifada come setembro durou quatro anos conflitos deixaram milhares mortos dois lados hamas venceu elei parlamentares palestinas provocou racha grupo fatah fundado der palestino yasser arafat dentro autoridade nacional palestina divis fez hamas passasse controlar faixa gaza partir fatah ficasse comando cisjord nia atualmente liderada mahmoud abbas israel considera hamas grupo terrorista dialogam oito ses pediram reuni emerg ncia conselho seguran onu presid ncia japonesa conselho informou ncia france presse reuni realizada manh sexta feira ant nio guterres secret rio geral onu afirmou alternativa solu dois estados plano continuar trabalhando segundo reuters presidente eua recebeu ampla condena deres pol ticos ulmanos mahmoud abbas presidente autoridade palestina governa cisjord nia afirmou trump viola todas resolu acordos internacionais decis kremlin vez disse reconhecimento jerusal capital israel est levando racha comunidade internacional presidente turco recep tayyip erdogan considerou reconhecer jerusal capital israel coloca mundo especialmente regi oriente dio rculo fogo declarou turquia importante aliado militar americanos comunicado pal cio real bia saudita outro aliado eua chamou decis irrespons vel europa deres fran reino unido alemanha outros condenaram mudan embaixada emmanuel macron chamou ncio lament vel enquanto theresa may disse epis dio pouco til solu pac fica angela merkel sublinhou berlim apoia atitude'\n",
            "Label: 0\n",
            "Notícia:  b'lula diz vai processar lutador mma postagem indevida porque processou gigante ultimamente presidente lula incomodado bastante postagens redes sociais caso recente lutador mma wanderlei silva lula usou gina facebook desmentir informa divulgadas atleta contra fam lia postagem rede social silva compartilhou imagem falsa sugere filho lula abastecendo iate legenda questiona onde vem todo dinheiro iates avi fazendas presidente rebateu muita gente chama mma vale tudo oct gono vale tudo redes sociais tamb pode assim mentir exemplo vale rebateu lula ainda sugeriu processar contra atleta lula alega tanto quanto filhos ricos possuem patrim nios avi lanchas etc enfim senhor humildade outubro jornal hoje dia portal publicou mat ria mostrando apartamento filho presidente reside confira alguns trechos mat ria abaixo bio luiz lula silva conhecido lulinha morava apartamento jardins rea nobre paulo cujo aluguel mil mensais pago amigo empres rio jonas leite suassuna filho durante campanha sucess lula vencida dilma rousseff fato ocupou ginas notici rio nacional agora bio luiz mora moema tamb regi classe alta capital paulista apartamento pertence jonas suassuna alugado renderia mil mensais somado despesas condom nio iptu gasto moradia chegaria mil lula eleito primeira vez entanto lulinha trabalhava zool gico recebia sal rio filho presidente leva vida luxo vizinhos contam apartamento constantemente visitado massagista particular personal trainner apartamento lulinha mora fam lia piscina banheira hidromassagem sauna propriet rio apartamento jonas suassuna apontado locat rio vel filho lula morava jardins acordo outros moradores dio edif cios vizinhos comum dirigindo carros luxo santa possui outros pertencentes amigo empres rio ferrari porsche lamborghini'\n",
            "Label: 1\n",
            "Notícia:  b'senado aprovar hoje projeto lei permitir retomar audi ncia cust dio videoconfer ncia durante pandemia permitir abril derrubar vetar congresso pacote anticrime tornar proibir decis criticar presidente supremo tribunal federar stf luiz fux projeto seguir mara deputar relator projeto simone tebet mdb explicar parecer videoconfer ncia adotada realiza audi ncia horar presencial destacar tratar medir excepcional implementar durante pandemia coronav rus trata importante passar assegurar audi ncia cust dio esvaziar adaptando instrumentar formato emergencial diminuir garantir direito assegurar presar realiza audi ncia cust dio obrigat rio presar levar juiz respons vel audi ncia prazo horar pris pol cia magistrado avaliar necessidade manuten pris determinar presar soltar cumprir medir cautelar tornozeleira eletr nica'\n",
            "Label: 0\n",
            "Notícia:  b'publica exonera diretor geral pol cia federal maur cio valeixo receber interlocutor sergio morar justi sinaliza claro presidente jair bolsonaro pedir demiss ministrar ministrar alar militar encontrar solu intermedi rio presidente espa negocia avisar colocar comandar delegar alexandre ramagem atual chefe ncia brasileiro intelig ncia abin ramagem escolher chefe seguran campanha bolsonaro sofrer atentar faca homem confian fam lia bolsonaro criar alternativo ministrar morar blog interlocutor ministrar possibilidade morar participar escolher sucessor descartar presidente auxiliar manh bombeiro escalar conversar morar expectativa revers quadrar improv vel'\n",
            "Label: 0\n",
            "Notícia:  b'candidato prefeitura rir janeiro continuidade campanha eleitoral cidade semana registrar oficial candidatura postar rede social falar hor rio eleitoral participar entrevisto evento campanha equipar fato fake checar principal declara durante semana candidato aparecer numericamente frente pesquisar ordem seguir pesquisar ler eduardo paes dem rir capital brasileiro ndice desempregar inverter completamente hoje capital brasileiro ndice desempregar'\n",
            "Label: 1\n",
            "Notícia:  b'melhor viagem algu pode fazer viagem sonhos pode muitas formas why not leitores mal humorados reclamaram fato correspondente ter pedido foto leitora val ria portela antes eventualmente acompanh viagem isl ndia ocorreu ltima edi nica semanal outros felizmente maioria compreenderam humor embutido provoca ali caracter stica miles nasceu inven puritanismo antes thank god gesta chamado politicamente correto pria leitora ali gostou brincadeira viajante brit nico aut ntico fairplay enviou foto miles amplo sorriso rosto favor agrade querida val ria digam tentando organizar agenda acompanh isl ndia pediu reda seguir pergunta semana querido miles melhor viagem algu pode fazer lua mel celebra cadas uni primeira bem preparada simone grolli mail well dear fico tentado responder pouca criatividade melhor viagem sempre xima porque xima viajando sonhos percorremos devaneios trouxe emo talvez confirmem viagem vai alimentar alma dia poss vel realiz vai permanecer lembran posto destaque enquanto surgir outra xima viagem recome processo amigos god voltaram vida viajar campos concentra nazista quais sobreviveram preciso repensassem vez todas escoria lembran mundo voltasse valer pena existem the other hand viagens reencontro explosivamente felizes querida krysia viu sozinha mundo pai desapareceu morreu durante segunda grande guerra tomar ncia progenitor vivo escondido sob outro nome quase anos tarde krysia apenas oito anos separa encontro presume melhor viagem algu poderia ter feito meras outras viagens repletas emo however fogem regra sobre voc mencionou dear ouso dizer ouso porque nunca casei formalmente viagem lua mel casal olhos outro timo assim the way cen rio bonito sempre ajuda eis caso viagem quase sempre est segundo plano viagens celebram uni longas est veis ver potencialmente felizes tempo maturidade decerto ter constru sonhada viagens tanto pode primeira resumo melhor todas outras acho bonito ver casais idosos visitante castelo balmoral esc cia quanto mergulhando tubar brancos frica sul primeira well pode depende prop sito tamanho espera grandeza sonho viagem trabalho estudos parques divers dificilmente melhor vida quer tamb pode why not bem preparada darling sempre melhor preparo algum grandes chances melhor porque preparo inclui germe ambi sonhos ficando tidos quanto sabemos sobre destino sobre come canta sobre hist ria geografia bem preparada enfim xima sugeri come dessa resposta miles homem viajado mundo ses territ rios ultramarinos'\n",
            "Label: 0\n",
            "Notícia:  b'circular rede social mensagem afirmar problema enfrentar usu rio utiliza whatsapp quarta feira provocar determina judicial texto normaliza ferramenta enviar recebimento imagem udio depender parecer justi usu rio aplicativo diverso relatar instabilidade whatsapp facebook instagram problema ocorrer manh quarta feira acordar site downdetector reportar problema aplicativo site problema come relatar voltar reclama whatsapp relato instabilidade locar europa brasil argentino venezuela xico costa ler eua comunicar facebook respons vel whatsapp instagram informar trabalhar solucionar problema pessoa neg cio problema carregar enviar imagem deo arquivo aplicativo trabalhar normalizar situa pido'\n",
            "Label: 1\n"
          ]
        }
      ],
      "source": [
        "for text_batch, label_batch in raw_train_ds.take(1):\n",
        "  for i in range(10):\n",
        "    print(\"Notícia: \", text_batch.numpy()[i])\n",
        "    print(\"Label:\", label_batch.numpy()[i])\n"
      ]
    },
    {
      "cell_type": "code",
      "execution_count": null,
      "metadata": {
        "id": "yhmjSv0Oex5Y"
      },
      "outputs": [],
      "source": [
        "from tensorflow import keras\n",
        "from keras.layers import TextVectorization\n",
        "\n",
        "VOCAB_SIZE = 100\n",
        "MAX_SEQUENCE_LENGTH = 50\n",
        "\n",
        "# vetorizador binário\n",
        "binary_vectorize_layer = TextVectorization(\n",
        "    max_tokens=VOCAB_SIZE,\n",
        "    output_mode='binary')\n",
        "\n",
        "# vetorizador inteiro\n",
        "int_vectorize_layer = TextVectorization(\n",
        "    max_tokens=VOCAB_SIZE,\n",
        "    output_mode='int',\n",
        "    output_sequence_length=MAX_SEQUENCE_LENGTH)\n",
        "\n",
        "# funcoes para auxiliar na vetorização\n",
        "def binary_vectorize_text(text, label):\n",
        "  text = tf.expand_dims(text, -1)\n",
        "  return binary_vectorize_layer(text), label\n",
        "\n",
        "def int_vectorize_text(text, label):\n",
        "  text = tf.expand_dims(text, -1)\n",
        "  return int_vectorize_layer(text), label\n"
      ]
    },
    {
      "cell_type": "code",
      "execution_count": null,
      "metadata": {
        "id": "hJK90F15f_G9"
      },
      "outputs": [],
      "source": [
        "# adaptando o vetorizador\n",
        "train_text = raw_train_ds.map(lambda text, labels: text)\n",
        "\n",
        "binary_vectorize_layer.adapt(train_text)\n",
        "int_vectorize_layer.adapt(train_text)\n"
      ]
    },
    {
      "cell_type": "code",
      "execution_count": null,
      "metadata": {
        "colab": {
          "base_uri": "https://localhost:8080/"
        },
        "id": "VbEPgovKlU3W",
        "outputId": "ae7e7765-beb1-4cc5-956e-994e8ec1f459"
      },
      "outputs": [
        {
          "output_type": "stream",
          "name": "stdout",
          "text": [
            "Notícia tf.Tensor(b'bibi ferreiro criticar machismo dilma condenar golpe', shape=(), dtype=string)\n",
            "Label tf.Tensor(1, shape=(), dtype=int64)\n",
            "\n",
            "'binary' vectorized question: tf.Tensor(\n",
            "[[1. 0. 0. 0. 0. 0. 0. 0. 0. 0. 0. 0. 0. 0. 0. 0. 0. 0. 0. 0. 0. 0. 0. 0.\n",
            "  0. 0. 0. 0. 0. 0. 0. 0. 0. 0. 0. 0. 0. 0. 0. 0. 0. 0. 0. 0. 0. 0. 0. 0.\n",
            "  0. 0. 0. 0. 0. 1. 0. 0. 0. 0. 0. 0. 0. 0. 0. 0. 0. 0. 0. 0. 0. 0. 0. 0.\n",
            "  0. 0. 0. 0. 0. 0. 0. 0. 0. 0. 0. 0. 0. 0. 0. 0. 0. 0. 0. 0. 0. 0. 0. 0.\n",
            "  0. 0. 0. 0.]], shape=(1, 100), dtype=float32)\n",
            "\n",
            "'int' vectorized question: tf.Tensor(\n",
            "[[ 1  1  1  1 54  1  1  0  0  0  0  0  0  0  0  0  0  0  0  0  0  0  0  0\n",
            "   0  0  0  0  0  0  0  0  0  0  0  0  0  0  0  0  0  0  0  0  0  0  0  0\n",
            "   0  0]], shape=(1, 50), dtype=int64)\n"
          ]
        }
      ],
      "source": [
        "# vamos ver um exemplo da vetorização\n",
        "text_batch, label_batch = next(iter(raw_train_ds))\n",
        "first_question, first_label = text_batch[0], label_batch[0]\n",
        "\n",
        "print(\"Notícia\", first_question)\n",
        "print(\"Label\", first_label)\n",
        "print()\n",
        "\n",
        "print(\"'binary' vectorized question:\",\n",
        "      binary_vectorize_text(first_question, first_label)[0])\n",
        "print()\n",
        "print(\"'int' vectorized question:\",\n",
        "      int_vectorize_text(first_question, first_label)[0])\n"
      ]
    },
    {
      "cell_type": "code",
      "execution_count": null,
      "metadata": {
        "colab": {
          "base_uri": "https://localhost:8080/"
        },
        "id": "uMm9DO_nlmtc",
        "outputId": "3cdfe71f-e725-4387-9619-ba745bf9fb9d"
      },
      "outputs": [
        {
          "output_type": "stream",
          "name": "stdout",
          "text": [
            "1289 --->  vel\n",
            "313 --->  hoje\n",
            "Vocabulary size: 100\n"
          ]
        }
      ],
      "source": [
        "# vamos ver um exemplo do vocabulário\n",
        "print(\"1289 ---> \", int_vectorize_layer.get_vocabulary()[12])\n",
        "print(\"313 ---> \", int_vectorize_layer.get_vocabulary()[31])\n",
        "print(\"Vocabulary size: {}\".format(len(int_vectorize_layer.get_vocabulary())))\n"
      ]
    },
    {
      "cell_type": "code",
      "execution_count": null,
      "metadata": {
        "id": "xRub2dyAlsHb"
      },
      "outputs": [],
      "source": [
        "# aplicando a vetorização em todos os datasets\n",
        "\n",
        "binary_train_ds = raw_train_ds.map(binary_vectorize_text)\n",
        "binary_val_ds = raw_val_ds.map(binary_vectorize_text)\n",
        "binary_test_ds = raw_test_ds.map(binary_vectorize_text)\n",
        "\n",
        "int_train_ds = raw_train_ds.map(int_vectorize_text)\n",
        "int_val_ds = raw_val_ds.map(int_vectorize_text)\n",
        "int_test_ds = raw_test_ds.map(int_vectorize_text)\n"
      ]
    },
    {
      "cell_type": "code",
      "execution_count": null,
      "metadata": {
        "id": "WCM08EpYl-F0"
      },
      "outputs": [],
      "source": [
        "# otimizando o algoritmo\n",
        "AUTOTUNE = tf.data.AUTOTUNE\n",
        "\n",
        "def configure_dataset(dataset):\n",
        "  return dataset.cache().prefetch(buffer_size=AUTOTUNE)\n",
        "\n",
        "binary_train_ds = configure_dataset(binary_train_ds)\n",
        "binary_val_ds = configure_dataset(binary_val_ds)\n",
        "binary_test_ds = configure_dataset(binary_test_ds)\n",
        "\n",
        "int_train_ds = configure_dataset(int_train_ds)\n",
        "int_val_ds = configure_dataset(int_val_ds)\n",
        "int_test_ds = configure_dataset(int_test_ds)\n"
      ]
    },
    {
      "cell_type": "markdown",
      "metadata": {
        "id": "ToE8BJRCcZVx"
      },
      "source": [
        "## Modelagem do Algoritmo"
      ]
    },
    {
      "cell_type": "markdown",
      "metadata": {
        "id": "3HFjCAJWtvqZ"
      },
      "source": [
        "#### helpers"
      ]
    },
    {
      "cell_type": "code",
      "source": [
        "# vectorize function\n",
        "import re\n",
        "def preprocess_text(text, remove_stop = True, stem_words = False, remove_mentions_hashtags = True):\n",
        "    \"\"\"\n",
        "    eg:\n",
        "    input: preprocess_text(\"@water #dream hi hello where are you going be there tomorrow happening happen happens\",\n",
        "    stem_words = True)\n",
        "    output: ['tomorrow', 'happen', 'go', 'hello']\n",
        "    \"\"\"\n",
        "\n",
        "    # Remove emojis\n",
        "    text = str(text)\n",
        "    emoji_pattern = re.compile(\"[\" \"\\U0001F1E0-\\U0001F6FF\" \"]+\", flags=re.UNICODE)\n",
        "    text = emoji_pattern.sub(r\"\", text)\n",
        "    text = \"\".join([x for x in text if x not in emoji.EMOJI_DATA])\n",
        "\n",
        "    if remove_mentions_hashtags:\n",
        "        text = re.sub(r\"@(\\w+)\", \" \", text)\n",
        "        text = re.sub(r\"#(\\w+)\", \" \", text)\n",
        "\n",
        "    text = re.sub(r\"[^\\x00-\\x7F]+\", \" \", text)\n",
        "    regex = re.compile('[' + re.escape(string.punctuation) + '0-9\\\\r\\\\t\\\\n]') # remove punctuation and numbers\n",
        "    nopunct = regex.sub(\" \", text.lower())\n",
        "    words = (''.join(nopunct)).split()\n",
        "\n",
        "    if(remove_stop):\n",
        "        words = [w for w in words if w not in stop_words]\n",
        "        words = [w for w in words if len(w) > 2]  # remove a,an,of etc.\n",
        "\n",
        "    if(stem_words):\n",
        "        stemmer = PorterStemmer()\n",
        "        words = [stemmer.stem(w) for w in words]\n",
        "\n",
        "    return list(words)\n",
        "\n",
        "\n",
        "custom_vectoryze_layer = tf.keras.layers.Lambda(preprocess_text, name=\"custom_vectoryze_layer\")"
      ],
      "metadata": {
        "id": "yWg5mddpyCk7"
      },
      "execution_count": null,
      "outputs": []
    },
    {
      "cell_type": "code",
      "execution_count": null,
      "metadata": {
        "id": "Dn21GT__tuzO"
      },
      "outputs": [],
      "source": [
        "import keras\n",
        "from matplotlib import pyplot as plt\n",
        "\n",
        "def plot_accuracy(history):\n",
        "  plt.plot(history.history['accuracy'])\n",
        "  plt.plot(history.history['val_accuracy'])\n",
        "  plt.title('model accuracy')\n",
        "  plt.ylabel('accuracy')\n",
        "  plt.xlabel('epoch')\n",
        "  plt.legend(['train', 'val'], loc='upper left')\n",
        "  plt.show()\n",
        "\n",
        "def plot_loss(history):\n",
        "  plt.plot(history.history['loss'])\n",
        "  plt.plot(history.history['val_loss'])\n",
        "  plt.title('model loss')\n",
        "  plt.ylabel('loss')\n",
        "  plt.xlabel('epoch')\n",
        "  plt.legend(['train', 'val'], loc='upper left')\n",
        "  plt.show()"
      ]
    },
    {
      "cell_type": "markdown",
      "source": [
        "#### RNN Classificador - Tensorflow\n",
        "\n",
        "\n",
        "https://www.tensorflow.org/text/tutorials/text_classification_rnn"
      ],
      "metadata": {
        "id": "oESm-XppHRo_"
      }
    },
    {
      "cell_type": "code",
      "source": [
        "# vetorizador padrao\n",
        "VOCAB_SIZE = 1000\n",
        "vectorize_layer = tf.keras.layers.TextVectorization(\n",
        "    max_tokens=VOCAB_SIZE)\n",
        "vectorize_layer.adapt(raw_train_ds.map(lambda text, label: text))"
      ],
      "metadata": {
        "id": "yYrBa1aLHWhN"
      },
      "execution_count": null,
      "outputs": []
    },
    {
      "cell_type": "code",
      "source": [
        "model = tf.keras.Sequential([\n",
        "    vectorize_layer,\n",
        "    tf.keras.layers.Embedding(\n",
        "        input_dim=len(vectorize_layer.get_vocabulary()),\n",
        "        output_dim=64,\n",
        "        # Use masking to handle the variable sequence lengths\n",
        "        mask_zero=True),\n",
        "    tf.keras.layers.Bidirectional(tf.keras.layers.LSTM(64)),\n",
        "    tf.keras.layers.Dense(64, activation='relu'),\n",
        "    tf.keras.layers.Dense(1)\n",
        "])\n"
      ],
      "metadata": {
        "id": "k7KQJL07Ep_q"
      },
      "execution_count": null,
      "outputs": []
    },
    {
      "cell_type": "code",
      "source": [
        "sample_text = ('The movie was cool. The animation and the graphics '\n",
        "               'were out of this world. I would recommend this movie.')\n",
        "predictions = model.predict(np.array([sample_text]))\n",
        "print(predictions[0])\n"
      ],
      "metadata": {
        "colab": {
          "base_uri": "https://localhost:8080/"
        },
        "id": "U7-G74nNEz6D",
        "outputId": "dbc6cf16-2af2-41fa-ea4f-83c914d8be08"
      },
      "execution_count": null,
      "outputs": [
        {
          "output_type": "stream",
          "name": "stdout",
          "text": [
            "[0.00085553]\n"
          ]
        }
      ]
    },
    {
      "cell_type": "code",
      "source": [
        "# predict on a sample text with padding\n",
        "\n",
        "padding = \"the \" * 2000\n",
        "predictions = model.predict(np.array([sample_text, padding]))\n",
        "print(predictions[0])\n"
      ],
      "metadata": {
        "colab": {
          "base_uri": "https://localhost:8080/"
        },
        "id": "eWXMBOOtE297",
        "outputId": "a5187766-689c-4ed0-cf92-711f4ed75e71"
      },
      "execution_count": null,
      "outputs": [
        {
          "output_type": "stream",
          "name": "stdout",
          "text": [
            "[0.0292281]\n"
          ]
        }
      ]
    },
    {
      "cell_type": "code",
      "source": [
        "model.compile(loss=tf.keras.losses.BinaryCrossentropy(from_logits=True),\n",
        "              optimizer=tf.keras.optimizers.Adam(1e-4),\n",
        "              metrics=['accuracy'])\n"
      ],
      "metadata": {
        "id": "659zyyGIE8Ay"
      },
      "execution_count": null,
      "outputs": []
    },
    {
      "cell_type": "code",
      "source": [
        "history = model.fit(raw_train_ds, epochs=3,\n",
        "                    validation_data=raw_test_ds,\n",
        "                    validation_steps=30)\n"
      ],
      "metadata": {
        "colab": {
          "base_uri": "https://localhost:8080/",
          "height": 820
        },
        "id": "Dd93ub5WE8Hf",
        "outputId": "5bfec6bb-17d4-425e-f863-76121afa8868"
      },
      "execution_count": null,
      "outputs": [
        {
          "output_type": "stream",
          "name": "stdout",
          "text": [
            "Epoch 1/3\n"
          ]
        },
        {
          "output_type": "stream",
          "name": "stderr",
          "text": [
            "/usr/local/lib/python3.7/dist-packages/tensorflow/python/util/dispatch.py:1082: UserWarning: \"`binary_crossentropy` received `from_logits=True`, but the `output` argument was produced by a sigmoid or softmax activation and thus does not represent logits. Was this intended?\"\n",
            "  return dispatch_target(*args, **kwargs)\n"
          ]
        },
        {
          "output_type": "error",
          "ename": "ValueError",
          "evalue": "ignored",
          "traceback": [
            "\u001b[0;31m---------------------------------------------------------------------------\u001b[0m",
            "\u001b[0;31mValueError\u001b[0m                                Traceback (most recent call last)",
            "\u001b[0;32m<ipython-input-26-40c88a25ef01>\u001b[0m in \u001b[0;36m<module>\u001b[0;34m\u001b[0m\n\u001b[1;32m      1\u001b[0m history = model.fit(raw_train_ds, epochs=3,\n\u001b[1;32m      2\u001b[0m                     \u001b[0mvalidation_data\u001b[0m\u001b[0;34m=\u001b[0m\u001b[0mraw_test_ds\u001b[0m\u001b[0;34m,\u001b[0m\u001b[0;34m\u001b[0m\u001b[0;34m\u001b[0m\u001b[0m\n\u001b[0;32m----> 3\u001b[0;31m                     validation_steps=30)\n\u001b[0m",
            "\u001b[0;32m/usr/local/lib/python3.7/dist-packages/keras/utils/traceback_utils.py\u001b[0m in \u001b[0;36merror_handler\u001b[0;34m(*args, **kwargs)\u001b[0m\n\u001b[1;32m     65\u001b[0m     \u001b[0;32mexcept\u001b[0m \u001b[0mException\u001b[0m \u001b[0;32mas\u001b[0m \u001b[0me\u001b[0m\u001b[0;34m:\u001b[0m  \u001b[0;31m# pylint: disable=broad-except\u001b[0m\u001b[0;34m\u001b[0m\u001b[0;34m\u001b[0m\u001b[0m\n\u001b[1;32m     66\u001b[0m       \u001b[0mfiltered_tb\u001b[0m \u001b[0;34m=\u001b[0m \u001b[0m_process_traceback_frames\u001b[0m\u001b[0;34m(\u001b[0m\u001b[0me\u001b[0m\u001b[0;34m.\u001b[0m\u001b[0m__traceback__\u001b[0m\u001b[0;34m)\u001b[0m\u001b[0;34m\u001b[0m\u001b[0;34m\u001b[0m\u001b[0m\n\u001b[0;32m---> 67\u001b[0;31m       \u001b[0;32mraise\u001b[0m \u001b[0me\u001b[0m\u001b[0;34m.\u001b[0m\u001b[0mwith_traceback\u001b[0m\u001b[0;34m(\u001b[0m\u001b[0mfiltered_tb\u001b[0m\u001b[0;34m)\u001b[0m \u001b[0;32mfrom\u001b[0m \u001b[0;32mNone\u001b[0m\u001b[0;34m\u001b[0m\u001b[0;34m\u001b[0m\u001b[0m\n\u001b[0m\u001b[1;32m     68\u001b[0m     \u001b[0;32mfinally\u001b[0m\u001b[0;34m:\u001b[0m\u001b[0;34m\u001b[0m\u001b[0;34m\u001b[0m\u001b[0m\n\u001b[1;32m     69\u001b[0m       \u001b[0;32mdel\u001b[0m \u001b[0mfiltered_tb\u001b[0m\u001b[0;34m\u001b[0m\u001b[0;34m\u001b[0m\u001b[0m\n",
            "\u001b[0;32m/usr/local/lib/python3.7/dist-packages/tensorflow/python/framework/func_graph.py\u001b[0m in \u001b[0;36mautograph_handler\u001b[0;34m(*args, **kwargs)\u001b[0m\n\u001b[1;32m   1145\u001b[0m           \u001b[0;32mexcept\u001b[0m \u001b[0mException\u001b[0m \u001b[0;32mas\u001b[0m \u001b[0me\u001b[0m\u001b[0;34m:\u001b[0m  \u001b[0;31m# pylint:disable=broad-except\u001b[0m\u001b[0;34m\u001b[0m\u001b[0;34m\u001b[0m\u001b[0m\n\u001b[1;32m   1146\u001b[0m             \u001b[0;32mif\u001b[0m \u001b[0mhasattr\u001b[0m\u001b[0;34m(\u001b[0m\u001b[0me\u001b[0m\u001b[0;34m,\u001b[0m \u001b[0;34m\"ag_error_metadata\"\u001b[0m\u001b[0;34m)\u001b[0m\u001b[0;34m:\u001b[0m\u001b[0;34m\u001b[0m\u001b[0;34m\u001b[0m\u001b[0m\n\u001b[0;32m-> 1147\u001b[0;31m               \u001b[0;32mraise\u001b[0m \u001b[0me\u001b[0m\u001b[0;34m.\u001b[0m\u001b[0mag_error_metadata\u001b[0m\u001b[0;34m.\u001b[0m\u001b[0mto_exception\u001b[0m\u001b[0;34m(\u001b[0m\u001b[0me\u001b[0m\u001b[0;34m)\u001b[0m\u001b[0;34m\u001b[0m\u001b[0;34m\u001b[0m\u001b[0m\n\u001b[0m\u001b[1;32m   1148\u001b[0m             \u001b[0;32melse\u001b[0m\u001b[0;34m:\u001b[0m\u001b[0;34m\u001b[0m\u001b[0;34m\u001b[0m\u001b[0m\n\u001b[1;32m   1149\u001b[0m               \u001b[0;32mraise\u001b[0m\u001b[0;34m\u001b[0m\u001b[0;34m\u001b[0m\u001b[0m\n",
            "\u001b[0;31mValueError\u001b[0m: in user code:\n\n    File \"/usr/local/lib/python3.7/dist-packages/keras/engine/training.py\", line 1021, in train_function  *\n        return step_function(self, iterator)\n    File \"/usr/local/lib/python3.7/dist-packages/keras/engine/training.py\", line 1010, in step_function  **\n        outputs = model.distribute_strategy.run(run_step, args=(data,))\n    File \"/usr/local/lib/python3.7/dist-packages/keras/engine/training.py\", line 1000, in run_step  **\n        outputs = model.train_step(data)\n    File \"/usr/local/lib/python3.7/dist-packages/keras/engine/training.py\", line 860, in train_step\n        loss = self.compute_loss(x, y, y_pred, sample_weight)\n    File \"/usr/local/lib/python3.7/dist-packages/keras/engine/training.py\", line 919, in compute_loss\n        y, y_pred, sample_weight, regularization_losses=self.losses)\n    File \"/usr/local/lib/python3.7/dist-packages/keras/engine/compile_utils.py\", line 201, in __call__\n        loss_value = loss_obj(y_t, y_p, sample_weight=sw)\n    File \"/usr/local/lib/python3.7/dist-packages/keras/losses.py\", line 141, in __call__\n        losses = call_fn(y_true, y_pred)\n    File \"/usr/local/lib/python3.7/dist-packages/keras/losses.py\", line 245, in call  **\n        return ag_fn(y_true, y_pred, **self._fn_kwargs)\n    File \"/usr/local/lib/python3.7/dist-packages/keras/losses.py\", line 1932, in binary_crossentropy\n        backend.binary_crossentropy(y_true, y_pred, from_logits=from_logits),\n    File \"/usr/local/lib/python3.7/dist-packages/keras/backend.py\", line 5247, in binary_crossentropy\n        return tf.nn.sigmoid_cross_entropy_with_logits(labels=target, logits=output)\n\n    ValueError: `logits` and `labels` must have the same shape, received ((None, 2) vs (None, 1)).\n"
          ]
        }
      ]
    },
    {
      "cell_type": "code",
      "source": [
        "def plot_graphs(history, metric):\n",
        "  plt.plot(history.history[metric])\n",
        "  plt.plot(history.history['val_'+metric], '')\n",
        "  plt.xlabel(\"Epochs\")\n",
        "  plt.ylabel(metric)\n",
        "  plt.legend([metric, 'val_'+metric])\n"
      ],
      "metadata": {
        "id": "f0JCh3UAGdP-"
      },
      "execution_count": null,
      "outputs": []
    },
    {
      "cell_type": "code",
      "source": [
        "test_loss, test_acc = model.evaluate(raw_test_ds)\n",
        "\n",
        "print('Test Loss:', test_loss)\n",
        "print('Test Accuracy:', test_acc)\n",
        "\n",
        "plt.figure(figsize=(16, 8))\n",
        "plt.subplot(1, 2, 1)\n",
        "plot_graphs(history, 'accuracy')\n",
        "plt.ylim(None, 1)\n",
        "plt.subplot(1, 2, 2)\n",
        "plot_graphs(history, 'loss')\n",
        "plt.ylim(0, None)\n"
      ],
      "metadata": {
        "colab": {
          "base_uri": "https://localhost:8080/",
          "height": 783
        },
        "id": "LW7JEiMHFRbG",
        "outputId": "c799964a-ecd3-4a88-f9fd-4422a9f6c698"
      },
      "execution_count": null,
      "outputs": [
        {
          "output_type": "error",
          "ename": "ValueError",
          "evalue": "ignored",
          "traceback": [
            "\u001b[0;31m---------------------------------------------------------------------------\u001b[0m",
            "\u001b[0;31mValueError\u001b[0m                                Traceback (most recent call last)",
            "\u001b[0;32m<ipython-input-28-5bfa9190e7da>\u001b[0m in \u001b[0;36m<module>\u001b[0;34m\u001b[0m\n\u001b[0;32m----> 1\u001b[0;31m \u001b[0mtest_loss\u001b[0m\u001b[0;34m,\u001b[0m \u001b[0mtest_acc\u001b[0m \u001b[0;34m=\u001b[0m \u001b[0mmodel\u001b[0m\u001b[0;34m.\u001b[0m\u001b[0mevaluate\u001b[0m\u001b[0;34m(\u001b[0m\u001b[0mraw_test_ds\u001b[0m\u001b[0;34m)\u001b[0m\u001b[0;34m\u001b[0m\u001b[0;34m\u001b[0m\u001b[0m\n\u001b[0m\u001b[1;32m      2\u001b[0m \u001b[0;34m\u001b[0m\u001b[0m\n\u001b[1;32m      3\u001b[0m \u001b[0mprint\u001b[0m\u001b[0;34m(\u001b[0m\u001b[0;34m'Test Loss:'\u001b[0m\u001b[0;34m,\u001b[0m \u001b[0mtest_loss\u001b[0m\u001b[0;34m)\u001b[0m\u001b[0;34m\u001b[0m\u001b[0;34m\u001b[0m\u001b[0m\n\u001b[1;32m      4\u001b[0m \u001b[0mprint\u001b[0m\u001b[0;34m(\u001b[0m\u001b[0;34m'Test Accuracy:'\u001b[0m\u001b[0;34m,\u001b[0m \u001b[0mtest_acc\u001b[0m\u001b[0;34m)\u001b[0m\u001b[0;34m\u001b[0m\u001b[0;34m\u001b[0m\u001b[0m\n\u001b[1;32m      5\u001b[0m \u001b[0;34m\u001b[0m\u001b[0m\n",
            "\u001b[0;32m/usr/local/lib/python3.7/dist-packages/keras/utils/traceback_utils.py\u001b[0m in \u001b[0;36merror_handler\u001b[0;34m(*args, **kwargs)\u001b[0m\n\u001b[1;32m     65\u001b[0m     \u001b[0;32mexcept\u001b[0m \u001b[0mException\u001b[0m \u001b[0;32mas\u001b[0m \u001b[0me\u001b[0m\u001b[0;34m:\u001b[0m  \u001b[0;31m# pylint: disable=broad-except\u001b[0m\u001b[0;34m\u001b[0m\u001b[0;34m\u001b[0m\u001b[0m\n\u001b[1;32m     66\u001b[0m       \u001b[0mfiltered_tb\u001b[0m \u001b[0;34m=\u001b[0m \u001b[0m_process_traceback_frames\u001b[0m\u001b[0;34m(\u001b[0m\u001b[0me\u001b[0m\u001b[0;34m.\u001b[0m\u001b[0m__traceback__\u001b[0m\u001b[0;34m)\u001b[0m\u001b[0;34m\u001b[0m\u001b[0;34m\u001b[0m\u001b[0m\n\u001b[0;32m---> 67\u001b[0;31m       \u001b[0;32mraise\u001b[0m \u001b[0me\u001b[0m\u001b[0;34m.\u001b[0m\u001b[0mwith_traceback\u001b[0m\u001b[0;34m(\u001b[0m\u001b[0mfiltered_tb\u001b[0m\u001b[0;34m)\u001b[0m \u001b[0;32mfrom\u001b[0m \u001b[0;32mNone\u001b[0m\u001b[0;34m\u001b[0m\u001b[0;34m\u001b[0m\u001b[0m\n\u001b[0m\u001b[1;32m     68\u001b[0m     \u001b[0;32mfinally\u001b[0m\u001b[0;34m:\u001b[0m\u001b[0;34m\u001b[0m\u001b[0;34m\u001b[0m\u001b[0m\n\u001b[1;32m     69\u001b[0m       \u001b[0;32mdel\u001b[0m \u001b[0mfiltered_tb\u001b[0m\u001b[0;34m\u001b[0m\u001b[0;34m\u001b[0m\u001b[0m\n",
            "\u001b[0;32m/usr/local/lib/python3.7/dist-packages/tensorflow/python/framework/func_graph.py\u001b[0m in \u001b[0;36mautograph_handler\u001b[0;34m(*args, **kwargs)\u001b[0m\n\u001b[1;32m   1145\u001b[0m           \u001b[0;32mexcept\u001b[0m \u001b[0mException\u001b[0m \u001b[0;32mas\u001b[0m \u001b[0me\u001b[0m\u001b[0;34m:\u001b[0m  \u001b[0;31m# pylint:disable=broad-except\u001b[0m\u001b[0;34m\u001b[0m\u001b[0;34m\u001b[0m\u001b[0m\n\u001b[1;32m   1146\u001b[0m             \u001b[0;32mif\u001b[0m \u001b[0mhasattr\u001b[0m\u001b[0;34m(\u001b[0m\u001b[0me\u001b[0m\u001b[0;34m,\u001b[0m \u001b[0;34m\"ag_error_metadata\"\u001b[0m\u001b[0;34m)\u001b[0m\u001b[0;34m:\u001b[0m\u001b[0;34m\u001b[0m\u001b[0;34m\u001b[0m\u001b[0m\n\u001b[0;32m-> 1147\u001b[0;31m               \u001b[0;32mraise\u001b[0m \u001b[0me\u001b[0m\u001b[0;34m.\u001b[0m\u001b[0mag_error_metadata\u001b[0m\u001b[0;34m.\u001b[0m\u001b[0mto_exception\u001b[0m\u001b[0;34m(\u001b[0m\u001b[0me\u001b[0m\u001b[0;34m)\u001b[0m\u001b[0;34m\u001b[0m\u001b[0;34m\u001b[0m\u001b[0m\n\u001b[0m\u001b[1;32m   1148\u001b[0m             \u001b[0;32melse\u001b[0m\u001b[0;34m:\u001b[0m\u001b[0;34m\u001b[0m\u001b[0;34m\u001b[0m\u001b[0m\n\u001b[1;32m   1149\u001b[0m               \u001b[0;32mraise\u001b[0m\u001b[0;34m\u001b[0m\u001b[0;34m\u001b[0m\u001b[0m\n",
            "\u001b[0;31mValueError\u001b[0m: in user code:\n\n    File \"/usr/local/lib/python3.7/dist-packages/keras/engine/training.py\", line 1525, in test_function  *\n        return step_function(self, iterator)\n    File \"/usr/local/lib/python3.7/dist-packages/keras/engine/training.py\", line 1514, in step_function  **\n        outputs = model.distribute_strategy.run(run_step, args=(data,))\n    File \"/usr/local/lib/python3.7/dist-packages/keras/engine/training.py\", line 1507, in run_step  **\n        outputs = model.test_step(data)\n    File \"/usr/local/lib/python3.7/dist-packages/keras/engine/training.py\", line 1473, in test_step\n        self.compute_loss(x, y, y_pred, sample_weight)\n    File \"/usr/local/lib/python3.7/dist-packages/keras/engine/training.py\", line 919, in compute_loss\n        y, y_pred, sample_weight, regularization_losses=self.losses)\n    File \"/usr/local/lib/python3.7/dist-packages/keras/engine/compile_utils.py\", line 201, in __call__\n        loss_value = loss_obj(y_t, y_p, sample_weight=sw)\n    File \"/usr/local/lib/python3.7/dist-packages/keras/losses.py\", line 141, in __call__\n        losses = call_fn(y_true, y_pred)\n    File \"/usr/local/lib/python3.7/dist-packages/keras/losses.py\", line 245, in call  **\n        return ag_fn(y_true, y_pred, **self._fn_kwargs)\n    File \"/usr/local/lib/python3.7/dist-packages/keras/losses.py\", line 1932, in binary_crossentropy\n        backend.binary_crossentropy(y_true, y_pred, from_logits=from_logits),\n    File \"/usr/local/lib/python3.7/dist-packages/keras/backend.py\", line 5247, in binary_crossentropy\n        return tf.nn.sigmoid_cross_entropy_with_logits(labels=target, logits=output)\n\n    ValueError: `logits` and `labels` must have the same shape, received ((None, 2) vs (None, 1)).\n"
          ]
        }
      ]
    },
    {
      "cell_type": "code",
      "source": [
        "sample_text = ('The movie was cool. The animation and the graphics '\n",
        "               'were out of this world. I would recommend this movie.')\n",
        "predictions = model.predict(np.array([input()]))\n",
        "predictions\n"
      ],
      "metadata": {
        "colab": {
          "base_uri": "https://localhost:8080/"
        },
        "id": "04msEKR7IQFq",
        "outputId": "8101401b-3f4f-4397-8fbf-bcc1ba6e648e"
      },
      "execution_count": null,
      "outputs": [
        {
          "name": "stdout",
          "output_type": "stream",
          "text": [
            "Dr. Ray peita Bolsonaro, chama-o de conservador fake em entrevista a Danilo Gentili e divide a direita.  Este site vem avisando Jair Bolsonaro que ele deveria abandonar a pauta estatista de vez e fazer um discurso mais convincente para aquela boa parte dos liberais e conservadores do Brasil que querem se ver livres das amarras estatais.  Tudo bem que as pesquisas ainda dizem que a maior parte do povo é contra as privatizações, mas o índice (pouco mais de 50% do povo) é fácil de ser revertido. Ademais, Bolsonaro deveria falar para direitistas em vez de focar tanto em petistas arrependidos.  Recentemente ele disse que pensaria 200 vezes antes de privatizar a Petrobrás para que ela não caia nas mãos de chineses (ou algo do tipo). Deveria ter dito: Eu garanto a privatização da Petrobrás, e também garanto que chineses não irão comprá-la. Isso não deixaria brechas. Do jeito que ele falou, parece que o suposto medo de venda aos chineses é pretexto para evitar a privatização.  Seja lá como for, a direita vai ter que adotar alternativas que foquem em um estado reduzido, diminuição de impostos e venda de estatais. Além de João Amoedo, Dr. Rey está fazendo vicejar este tipo de discurso e  ainda que sua candidatura esteja em fase inicial  é complicado para Bolsonaro que apareçam pessoas de direita propondo uma visão economicamente direitista para a economia.  Enfim, veja aos 32:40 Dr. Rey espinafrando Bolsonaro: Quem dá brechas não pode reclamar que os outros aproveitem, não é mesmo?\n"
          ]
        },
        {
          "output_type": "execute_result",
          "data": {
            "text/plain": [
              "array([[2.2933543]], dtype=float32)"
            ]
          },
          "metadata": {},
          "execution_count": 23
        }
      ]
    },
    {
      "cell_type": "markdown",
      "metadata": {
        "id": "Jtss1RVXtzJN"
      },
      "source": [
        "#### Modelo Regressão Linear"
      ]
    },
    {
      "cell_type": "code",
      "execution_count": null,
      "metadata": {
        "colab": {
          "base_uri": "https://localhost:8080/",
          "height": 920
        },
        "id": "pSCiez_ymGUN",
        "outputId": "4d2c19f0-9c54-4433-8c37-21961997852f"
      },
      "outputs": [
        {
          "output_type": "stream",
          "name": "stdout",
          "text": [
            "Epoch 1/10\n",
            "448/448 [==============================] - 4s 8ms/step - loss: 0.5755 - accuracy: 0.6889 - val_loss: 0.4462 - val_accuracy: 0.8325\n",
            "Epoch 2/10\n",
            "448/448 [==============================] - 2s 5ms/step - loss: 0.4058 - accuracy: 0.8413 - val_loss: 0.3730 - val_accuracy: 0.8576\n",
            "Epoch 3/10\n",
            "448/448 [==============================] - 2s 5ms/step - loss: 0.3612 - accuracy: 0.8536 - val_loss: 0.3478 - val_accuracy: 0.8635\n",
            "Epoch 4/10\n",
            "448/448 [==============================] - 3s 6ms/step - loss: 0.3440 - accuracy: 0.8579 - val_loss: 0.3368 - val_accuracy: 0.8626\n",
            "Epoch 5/10\n",
            "448/448 [==============================] - 3s 7ms/step - loss: 0.3359 - accuracy: 0.8591 - val_loss: 0.3314 - val_accuracy: 0.8618\n",
            "Epoch 6/10\n",
            "448/448 [==============================] - 3s 6ms/step - loss: 0.3318 - accuracy: 0.8605 - val_loss: 0.3286 - val_accuracy: 0.8635\n",
            "Epoch 7/10\n",
            "448/448 [==============================] - 3s 6ms/step - loss: 0.3295 - accuracy: 0.8602 - val_loss: 0.3272 - val_accuracy: 0.8643\n",
            "Epoch 8/10\n",
            "448/448 [==============================] - 2s 5ms/step - loss: 0.3281 - accuracy: 0.8607 - val_loss: 0.3265 - val_accuracy: 0.8652\n",
            "Epoch 9/10\n",
            "448/448 [==============================] - 2s 5ms/step - loss: 0.3273 - accuracy: 0.8607 - val_loss: 0.3263 - val_accuracy: 0.8660\n",
            "Epoch 10/10\n",
            "448/448 [==============================] - 2s 4ms/step - loss: 0.3268 - accuracy: 0.8608 - val_loss: 0.3262 - val_accuracy: 0.8660\n"
          ]
        },
        {
          "output_type": "display_data",
          "data": {
            "text/plain": [
              "<Figure size 432x288 with 1 Axes>"
            ],
            "image/png": "[encoded data removed]"
          },
          "metadata": {
            "needs_background": "light"
          }
        },
        {
          "output_type": "display_data",
          "data": {
            "text/plain": [
              "<Figure size 432x288 with 1 Axes>"
            ],
            "image/png": "[encoded data removed]"
          },
          "metadata": {
            "needs_background": "light"
          }
        }
      ],
      "source": [
        "from tensorflow.keras import layers\n",
        "from tensorflow.keras import losses\n",
        "\n",
        "binary_model = tf.keras.Sequential([\n",
        "    layers.Dense(2)\n",
        "    ])\n",
        "\n",
        "binary_model.compile(\n",
        "    loss=losses.SparseCategoricalCrossentropy(from_logits=True),\n",
        "    optimizer='adam',\n",
        "    metrics=['accuracy'])\n",
        "\n",
        "history = binary_model.fit(\n",
        "    binary_train_ds, validation_data=binary_val_ds, epochs=10)\n",
        "plot_loss(history)\n",
        "plot_accuracy(history)"
      ]
    },
    {
      "cell_type": "code",
      "execution_count": null,
      "metadata": {
        "colab": {
          "base_uri": "https://localhost:8080/"
        },
        "id": "icLtTTmkmy74",
        "outputId": "7658b783-0403-499f-e527-4b775e1f4978"
      },
      "outputs": [
        {
          "output_type": "stream",
          "name": "stdout",
          "text": [
            "Linear model on binary vectorized data:\n",
            "Model: \"sequential_2\"\n",
            "_________________________________________________________________\n",
            " Layer (type)                Output Shape              Param #   \n",
            "=================================================================\n",
            " dense_2 (Dense)             (None, 2)                 202       \n",
            "                                                                 \n",
            "=================================================================\n",
            "Total params: 202\n",
            "Trainable params: 202\n",
            "Non-trainable params: 0\n",
            "_________________________________________________________________\n",
            "None\n"
          ]
        }
      ],
      "source": [
        "print(\"Linear model on binary vectorized data:\")\n",
        "print(binary_model.summary())\n"
      ]
    },
    {
      "cell_type": "code",
      "source": [],
      "metadata": {
        "colab": {
          "base_uri": "https://localhost:8080/"
        },
        "id": "MW7SJS4c2Get",
        "outputId": "08ca147b-8c05-4f39-c3ff-57e6b14d2c04"
      },
      "execution_count": null,
      "outputs": [
        {
          "output_type": "execute_result",
          "data": {
            "text/plain": [
              "[]"
            ]
          },
          "metadata": {},
          "execution_count": 53
        }
      ]
    },
    {
      "cell_type": "markdown",
      "metadata": {
        "id": "_FAa6zBct7A_"
      },
      "source": [
        "#### Modelo Convolucional de 1 Dimensão"
      ]
    },
    {
      "cell_type": "code",
      "execution_count": null,
      "metadata": {
        "colab": {
          "base_uri": "https://localhost:8080/",
          "height": 920
        },
        "id": "NF6V3m4omlyK",
        "outputId": "c6b00694-bb05-4d57-d83a-f4a258fed22e"
      },
      "outputs": [
        {
          "output_type": "stream",
          "name": "stdout",
          "text": [
            "Epoch 1/10\n",
            "448/448 [==============================] - 4s 7ms/step - loss: 0.4919 - accuracy: 0.7535 - val_loss: 0.4171 - val_accuracy: 0.8090\n",
            "Epoch 2/10\n",
            "448/448 [==============================] - 2s 5ms/step - loss: 0.4263 - accuracy: 0.8004 - val_loss: 0.4017 - val_accuracy: 0.8166\n",
            "Epoch 3/10\n",
            "448/448 [==============================] - 2s 5ms/step - loss: 0.4060 - accuracy: 0.8135 - val_loss: 0.3936 - val_accuracy: 0.8174\n",
            "Epoch 4/10\n",
            "448/448 [==============================] - 2s 5ms/step - loss: 0.3920 - accuracy: 0.8212 - val_loss: 0.3894 - val_accuracy: 0.8199\n",
            "Epoch 5/10\n",
            "448/448 [==============================] - 2s 5ms/step - loss: 0.3791 - accuracy: 0.8307 - val_loss: 0.3866 - val_accuracy: 0.8199\n",
            "Epoch 6/10\n",
            "448/448 [==============================] - 2s 5ms/step - loss: 0.3659 - accuracy: 0.8383 - val_loss: 0.3839 - val_accuracy: 0.8258\n",
            "Epoch 7/10\n",
            "448/448 [==============================] - 2s 5ms/step - loss: 0.3522 - accuracy: 0.8462 - val_loss: 0.3820 - val_accuracy: 0.8266\n",
            "Epoch 8/10\n",
            "448/448 [==============================] - 2s 5ms/step - loss: 0.3384 - accuracy: 0.8530 - val_loss: 0.3832 - val_accuracy: 0.8199\n",
            "Epoch 9/10\n",
            "448/448 [==============================] - 2s 5ms/step - loss: 0.3241 - accuracy: 0.8616 - val_loss: 0.3852 - val_accuracy: 0.8224\n",
            "Epoch 10/10\n",
            "448/448 [==============================] - 2s 5ms/step - loss: 0.3093 - accuracy: 0.8715 - val_loss: 0.3889 - val_accuracy: 0.8157\n"
          ]
        },
        {
          "output_type": "display_data",
          "data": {
            "text/plain": [
              "<Figure size 432x288 with 1 Axes>"
            ],
            "image/png": "[encoded data removed]"
          },
          "metadata": {
            "needs_background": "light"
          }
        },
        {
          "output_type": "display_data",
          "data": {
            "text/plain": [
              "<Figure size 432x288 with 1 Axes>"
            ],
            "image/png": "[encoded data removed]"
          },
          "metadata": {
            "needs_background": "light"
          }
        }
      ],
      "source": [
        "def create_model(vocab_size, num_labels):\n",
        "  model = tf.keras.Sequential([\n",
        "      layers.Embedding(vocab_size, 64, mask_zero=True),\n",
        "      layers.Conv1D(64, 5, padding=\"valid\", activation=\"relu\", strides=2),\n",
        "      layers.GlobalMaxPooling1D(),\n",
        "      layers.Dense(num_labels)\n",
        "  ])\n",
        "  return model\n",
        "\n",
        "# `vocab_size` is `VOCAB_SIZE + 1` since `0` is used additionally for padding.\n",
        "int_model = create_model(vocab_size=VOCAB_SIZE + 1, num_labels=2)\n",
        "int_model.compile(\n",
        "    loss=losses.SparseCategoricalCrossentropy(from_logits=True),\n",
        "    optimizer='adam',\n",
        "    metrics=['accuracy'])\n",
        "history = int_model.fit(int_train_ds, validation_data=int_val_ds, epochs=10)\n",
        "plot_loss(history)\n",
        "plot_accuracy(history)"
      ]
    },
    {
      "cell_type": "code",
      "execution_count": null,
      "metadata": {
        "colab": {
          "base_uri": "https://localhost:8080/"
        },
        "id": "VB2a4zUum22e",
        "outputId": "66bfc100-2957-45f3-fa09-3b5d91b41da1"
      },
      "outputs": [
        {
          "output_type": "stream",
          "name": "stdout",
          "text": [
            "ConvNet model on int vectorized data:\n",
            "Model: \"sequential_4\"\n",
            "_________________________________________________________________\n",
            " Layer (type)                Output Shape              Param #   \n",
            "=================================================================\n",
            " embedding_1 (Embedding)     (None, None, 64)          6464      \n",
            "                                                                 \n",
            " conv1d_1 (Conv1D)           (None, None, 64)          20544     \n",
            "                                                                 \n",
            " global_max_pooling1d_1 (Glo  (None, 64)               0         \n",
            " balMaxPooling1D)                                                \n",
            "                                                                 \n",
            " dense_3 (Dense)             (None, 2)                 130       \n",
            "                                                                 \n",
            "=================================================================\n",
            "Total params: 27,138\n",
            "Trainable params: 27,138\n",
            "Non-trainable params: 0\n",
            "_________________________________________________________________\n",
            "None\n"
          ]
        }
      ],
      "source": [
        "print(\"ConvNet model on int vectorized data:\")\n",
        "print(int_model.summary())\n"
      ]
    },
    {
      "cell_type": "code",
      "execution_count": null,
      "metadata": {
        "colab": {
          "base_uri": "https://localhost:8080/"
        },
        "id": "z0ZYEd-um4x3",
        "outputId": "30513da4-ab2c-4e18-e9ff-cfa01d02bd4d"
      },
      "outputs": [
        {
          "output_type": "stream",
          "name": "stdout",
          "text": [
            "112/112 [==============================] - 0s 3ms/step - loss: 0.3357 - accuracy: 0.8515\n",
            "112/112 [==============================] - 0s 4ms/step - loss: 0.4249 - accuracy: 0.7990\n",
            "Binary model accuracy: 85.15%\n",
            "Int model accuracy: 79.90%\n"
          ]
        }
      ],
      "source": [
        "binary_loss, binary_accuracy = binary_model.evaluate(binary_test_ds)\n",
        "int_loss, int_accuracy = int_model.evaluate(int_test_ds)\n",
        "\n",
        "print(\"Binary model accuracy: {:2.2%}\".format(binary_accuracy))\n",
        "print(\"Int model accuracy: {:2.2%}\".format(int_accuracy))\n"
      ]
    },
    {
      "cell_type": "code",
      "source": [
        "binary_metrics = {\n",
        "    'loss': binary_loss, 'accuracy': binary_accuracy\n",
        "}\n",
        "\n",
        "int_metrics = {\n",
        "    'loss': int_loss, 'accuracy': int_accuracy\n",
        "}\n",
        "import json\n",
        "\n",
        "with open('/content/drive/MyDrive/Mentorama/projeto_final/binary_metrics.json', 'w') as fp:\n",
        "  json.dump(binary_metrics, fp)\n",
        "\n",
        "with open('/content/drive/MyDrive/Mentorama/projeto_final/int_metrics.json', 'w') as fp:\n",
        "  json.dump(int_metrics, fp)\n",
        "\n"
      ],
      "metadata": {
        "id": "3bOVWfWXALCk"
      },
      "execution_count": null,
      "outputs": []
    },
    {
      "cell_type": "markdown",
      "source": [
        "#### Modelo MLPClassifier\n"
      ],
      "metadata": {
        "id": "HQZQrsR_CKzW"
      }
    },
    {
      "cell_type": "code",
      "source": [
        "from sklearn.feature_extraction.text import TfidfVectorizer\n",
        "# um classificador linear que utiliza o Gradiente Descendente Estocástico como método de treino.\n",
        "# Por padrão, utiliza o estimador SVM.\n",
        "from sklearn.linear_model import SGDClassifier\n",
        "# Uma rede neural Perceptron Multicamadas\n",
        "from sklearn.neural_network import MLPClassifier\n",
        "\n",
        "vectorizer = TfidfVectorizer()\n",
        "X_train_tfidf_vectorize = vectorizer.fit_transform(ds_train.token)"
      ],
      "metadata": {
        "id": "9WAfSzJVCM8j"
      },
      "execution_count": null,
      "outputs": []
    },
    {
      "cell_type": "code",
      "source": [
        "# Aqui nós treinamos o classificador\n",
        "#clf = SGDClassifier(loss='hinge', penalty='l2', alpha=1e-3, random_state=42, max_iter=5, tol=None)\n",
        "clf = MLPClassifier(solver='lbfgs', alpha=1e-5, hidden_layer_sizes=(70, ), random_state=1, verbose=True)\n",
        "clf_history = clf.fit(X_train_tfidf_vectorize, ds_train.label.values)"
      ],
      "metadata": {
        "id": "l4iPvEjZCM-y"
      },
      "execution_count": null,
      "outputs": []
    },
    {
      "cell_type": "code",
      "source": [
        "from sklearn import metrics\n",
        "\n",
        "vect_transform = vectorizer.transform(ds_val.token.values)\n",
        "predicted = clf.predict(vect_transform)\n",
        "\n",
        "\n",
        "print(metrics.classification_report(ds_val.label.values, predicted))\n",
        "\n",
        "print(clf.classes_)"
      ],
      "metadata": {
        "colab": {
          "base_uri": "https://localhost:8080/"
        },
        "id": "VEmImVRMCNBW",
        "outputId": "d34fcbdd-2f78-4bd9-c243-bc3c7424bab5"
      },
      "execution_count": null,
      "outputs": [
        {
          "output_type": "stream",
          "name": "stdout",
          "text": [
            "              precision    recall  f1-score   support\n",
            "\n",
            "           0       0.94      0.95      0.95       581\n",
            "           1       0.96      0.94      0.95       613\n",
            "\n",
            "    accuracy                           0.95      1194\n",
            "   macro avg       0.95      0.95      0.95      1194\n",
            "weighted avg       0.95      0.95      0.95      1194\n",
            "\n",
            "[0 1]\n"
          ]
        }
      ]
    },
    {
      "cell_type": "code",
      "source": [
        "# export model metrics\n",
        "export_metrics = {\n",
        "    'precision': metrics.precision_score(ds_val.label.values, predicted),\n",
        "    'recall': metrics.recall_score(ds_val.label.values, predicted)\n",
        "    }\n",
        "\n",
        "with open('metrics_clf.json', 'w') as fp:\n",
        "  json.dump(export_metrics, fp)"
      ],
      "metadata": {
        "id": "VcCXGQ5j5vb-"
      },
      "execution_count": null,
      "outputs": []
    },
    {
      "cell_type": "code",
      "source": [
        "from sklearn.metrics import confusion_matrix\n",
        "\n",
        "confusion_matrix = confusion_matrix(ds_val.label, predicted)\n",
        "\n",
        "plt.matshow(confusion_matrix)\n",
        "plt.title(\"Matriz de confusão\")\n",
        "plt.colorbar()\n",
        "plt.ylabel(\"Classificações corretas\")\n",
        "plt.xlabel(\"Classificações obtidas\")\n",
        "plt.show()"
      ],
      "metadata": {
        "colab": {
          "base_uri": "https://localhost:8080/",
          "height": 257
        },
        "id": "fkIE9YFTCND7",
        "outputId": "35935950-eb56-4ae4-a00d-c14c1a38d65c"
      },
      "execution_count": null,
      "outputs": [
        {
          "output_type": "display_data",
          "data": {
            "text/plain": [
              "<Figure size 288x288 with 2 Axes>"
            ],
            "image/png": "[encoded data removed]"
          },
          "metadata": {
            "needs_background": "light"
          }
        }
      ]
    },
    {
      "cell_type": "code",
      "source": [
        "docs_new = [\n",
        "    input(),\n",
        "]\n",
        "\n",
        "X_new_tfidf_vectorize = vectorizer.transform(docs_new)\n",
        "\n",
        "predicted = clf.predict(X_new_tfidf_vectorize)\n",
        "print(predicted)\n",
        "\n",
        "# for doc, category in zip(docs_new, predicted):\n",
        "#     print('%r => %s' % (doc, ds_train.target_names[label]))"
      ],
      "metadata": {
        "colab": {
          "base_uri": "https://localhost:8080/",
          "height": 383
        },
        "id": "Nr2MbEorCNGb",
        "outputId": "27e45ee2-60a9-474d-8266-c77f96a5d64d"
      },
      "execution_count": null,
      "outputs": [
        {
          "output_type": "error",
          "ename": "KeyboardInterrupt",
          "evalue": "ignored",
          "traceback": [
            "\u001b[0;31m---------------------------------------------------------------------------\u001b[0m",
            "\u001b[0;31mKeyboardInterrupt\u001b[0m                         Traceback (most recent call last)",
            "\u001b[0;32m<ipython-input-62-c3aecbb96a35>\u001b[0m in \u001b[0;36m<module>\u001b[0;34m\u001b[0m\n\u001b[1;32m      1\u001b[0m docs_new = [\n\u001b[0;32m----> 2\u001b[0;31m     \u001b[0minput\u001b[0m\u001b[0;34m(\u001b[0m\u001b[0;34m)\u001b[0m\u001b[0;34m,\u001b[0m\u001b[0;34m\u001b[0m\u001b[0;34m\u001b[0m\u001b[0m\n\u001b[0m\u001b[1;32m      3\u001b[0m ]\n\u001b[1;32m      4\u001b[0m \u001b[0;34m\u001b[0m\u001b[0m\n\u001b[1;32m      5\u001b[0m \u001b[0mX_new_tfidf_vectorize\u001b[0m \u001b[0;34m=\u001b[0m \u001b[0mvectorizer\u001b[0m\u001b[0;34m.\u001b[0m\u001b[0mtransform\u001b[0m\u001b[0;34m(\u001b[0m\u001b[0mdocs_new\u001b[0m\u001b[0;34m)\u001b[0m\u001b[0;34m\u001b[0m\u001b[0;34m\u001b[0m\u001b[0m\n",
            "\u001b[0;32m/usr/local/lib/python3.7/dist-packages/ipykernel/kernelbase.py\u001b[0m in \u001b[0;36mraw_input\u001b[0;34m(self, prompt)\u001b[0m\n\u001b[1;32m    861\u001b[0m             \u001b[0mself\u001b[0m\u001b[0;34m.\u001b[0m\u001b[0m_parent_ident\u001b[0m\u001b[0;34m,\u001b[0m\u001b[0;34m\u001b[0m\u001b[0;34m\u001b[0m\u001b[0m\n\u001b[1;32m    862\u001b[0m             \u001b[0mself\u001b[0m\u001b[0;34m.\u001b[0m\u001b[0m_parent_header\u001b[0m\u001b[0;34m,\u001b[0m\u001b[0;34m\u001b[0m\u001b[0;34m\u001b[0m\u001b[0m\n\u001b[0;32m--> 863\u001b[0;31m             \u001b[0mpassword\u001b[0m\u001b[0;34m=\u001b[0m\u001b[0;32mFalse\u001b[0m\u001b[0;34m,\u001b[0m\u001b[0;34m\u001b[0m\u001b[0;34m\u001b[0m\u001b[0m\n\u001b[0m\u001b[1;32m    864\u001b[0m         )\n\u001b[1;32m    865\u001b[0m \u001b[0;34m\u001b[0m\u001b[0m\n",
            "\u001b[0;32m/usr/local/lib/python3.7/dist-packages/ipykernel/kernelbase.py\u001b[0m in \u001b[0;36m_input_request\u001b[0;34m(self, prompt, ident, parent, password)\u001b[0m\n\u001b[1;32m    902\u001b[0m             \u001b[0;32mexcept\u001b[0m \u001b[0mKeyboardInterrupt\u001b[0m\u001b[0;34m:\u001b[0m\u001b[0;34m\u001b[0m\u001b[0;34m\u001b[0m\u001b[0m\n\u001b[1;32m    903\u001b[0m                 \u001b[0;31m# re-raise KeyboardInterrupt, to truncate traceback\u001b[0m\u001b[0;34m\u001b[0m\u001b[0;34m\u001b[0m\u001b[0;34m\u001b[0m\u001b[0m\n\u001b[0;32m--> 904\u001b[0;31m                 \u001b[0;32mraise\u001b[0m \u001b[0mKeyboardInterrupt\u001b[0m\u001b[0;34m(\u001b[0m\u001b[0;34m\"Interrupted by user\"\u001b[0m\u001b[0;34m)\u001b[0m \u001b[0;32mfrom\u001b[0m \u001b[0;32mNone\u001b[0m\u001b[0;34m\u001b[0m\u001b[0;34m\u001b[0m\u001b[0m\n\u001b[0m\u001b[1;32m    905\u001b[0m             \u001b[0;32mexcept\u001b[0m \u001b[0mException\u001b[0m \u001b[0;32mas\u001b[0m \u001b[0me\u001b[0m\u001b[0;34m:\u001b[0m\u001b[0;34m\u001b[0m\u001b[0;34m\u001b[0m\u001b[0m\n\u001b[1;32m    906\u001b[0m                 \u001b[0mself\u001b[0m\u001b[0;34m.\u001b[0m\u001b[0mlog\u001b[0m\u001b[0;34m.\u001b[0m\u001b[0mwarning\u001b[0m\u001b[0;34m(\u001b[0m\u001b[0;34m\"Invalid Message:\"\u001b[0m\u001b[0;34m,\u001b[0m \u001b[0mexc_info\u001b[0m\u001b[0;34m=\u001b[0m\u001b[0;32mTrue\u001b[0m\u001b[0;34m)\u001b[0m\u001b[0;34m\u001b[0m\u001b[0;34m\u001b[0m\u001b[0m\n",
            "\u001b[0;31mKeyboardInterrupt\u001b[0m: Interrupted by user"
          ]
        }
      ]
    },
    {
      "cell_type": "code",
      "source": [],
      "metadata": {
        "id": "rN88ojK-E0Dz"
      },
      "execution_count": null,
      "outputs": []
    },
    {
      "cell_type": "markdown",
      "metadata": {
        "id": "ifrC4U7PkBz8"
      },
      "source": [
        "### Modelo Final\n",
        "\n"
      ]
    },
    {
      "cell_type": "code",
      "execution_count": null,
      "metadata": {
        "colab": {
          "base_uri": "https://localhost:8080/"
        },
        "id": "KMaWS1Xfm5UW",
        "outputId": "035e9b5b-d26b-4632-a32f-58a56865af12"
      },
      "outputs": [
        {
          "output_type": "stream",
          "name": "stdout",
          "text": [
            "112/112 [==============================] - 1s 5ms/step - loss: 0.3357 - accuracy: 0.8515\n",
            "Accuracy: 85.15%\n"
          ]
        }
      ],
      "source": [
        "export_model = tf.keras.Sequential(\n",
        "    [binary_vectorize_layer, binary_model,\n",
        "     layers.Activation('softmax')])\n",
        "\n",
        "export_model.compile(\n",
        "    loss=losses.SparseCategoricalCrossentropy(from_logits=False),\n",
        "    optimizer='adam',\n",
        "    metrics=['accuracy'])\n",
        "\n",
        "# Test it with `raw_test_ds`, which yields raw strings\n",
        "loss, accuracy = export_model.evaluate(raw_test_ds)\n",
        "print(\"Accuracy: {:2.2%}\".format(binary_accuracy))\n"
      ]
    },
    {
      "cell_type": "code",
      "execution_count": null,
      "metadata": {
        "colab": {
          "base_uri": "https://localhost:8080/",
          "height": 366
        },
        "id": "xvcyvHI1nDNy",
        "outputId": "8da01525-370d-49a5-cf61-bf008214c195"
      },
      "outputs": [
        {
          "output_type": "error",
          "ename": "KeyboardInterrupt",
          "evalue": "ignored",
          "traceback": [
            "\u001b[0;31m---------------------------------------------------------------------------\u001b[0m",
            "\u001b[0;31mKeyboardInterrupt\u001b[0m                         Traceback (most recent call last)",
            "\u001b[0;32m<ipython-input-88-1a56125ee72e>\u001b[0m in \u001b[0;36m<module>\u001b[0;34m\u001b[0m\n\u001b[0;32m----> 1\u001b[0;31m \u001b[0mpredicted_scores\u001b[0m \u001b[0;34m=\u001b[0m \u001b[0mexport_model\u001b[0m\u001b[0;34m.\u001b[0m\u001b[0mpredict\u001b[0m\u001b[0;34m(\u001b[0m\u001b[0;34m[\u001b[0m\u001b[0minput\u001b[0m\u001b[0;34m(\u001b[0m\u001b[0;34m)\u001b[0m\u001b[0;34m]\u001b[0m\u001b[0;34m)\u001b[0m\u001b[0;34m\u001b[0m\u001b[0;34m\u001b[0m\u001b[0m\n\u001b[0m\u001b[1;32m      2\u001b[0m \u001b[0mpredicted_labels\u001b[0m \u001b[0;34m=\u001b[0m \u001b[0mtf\u001b[0m\u001b[0;34m.\u001b[0m\u001b[0margmax\u001b[0m\u001b[0;34m(\u001b[0m\u001b[0mpredicted_scores\u001b[0m\u001b[0;34m,\u001b[0m \u001b[0maxis\u001b[0m\u001b[0;34m=\u001b[0m\u001b[0;36m1\u001b[0m\u001b[0;34m)\u001b[0m\u001b[0;34m\u001b[0m\u001b[0;34m\u001b[0m\u001b[0m\n\u001b[1;32m      3\u001b[0m \u001b[0;34m\u001b[0m\u001b[0m\n\u001b[1;32m      4\u001b[0m \u001b[0mprint\u001b[0m\u001b[0;34m(\u001b[0m\u001b[0;34m[\u001b[0m\u001b[0mi\u001b[0m\u001b[0;34m.\u001b[0m\u001b[0mround\u001b[0m\u001b[0;34m(\u001b[0m\u001b[0;36m2\u001b[0m\u001b[0;34m)\u001b[0m \u001b[0;32mfor\u001b[0m \u001b[0mi\u001b[0m \u001b[0;32min\u001b[0m \u001b[0mpredicted_scores\u001b[0m\u001b[0;34m[\u001b[0m\u001b[0;36m0\u001b[0m\u001b[0;34m]\u001b[0m\u001b[0;34m]\u001b[0m\u001b[0;34m)\u001b[0m\u001b[0;34m\u001b[0m\u001b[0;34m\u001b[0m\u001b[0m\n",
            "\u001b[0;32m/usr/local/lib/python3.7/dist-packages/ipykernel/kernelbase.py\u001b[0m in \u001b[0;36mraw_input\u001b[0;34m(self, prompt)\u001b[0m\n\u001b[1;32m    861\u001b[0m             \u001b[0mself\u001b[0m\u001b[0;34m.\u001b[0m\u001b[0m_parent_ident\u001b[0m\u001b[0;34m,\u001b[0m\u001b[0;34m\u001b[0m\u001b[0;34m\u001b[0m\u001b[0m\n\u001b[1;32m    862\u001b[0m             \u001b[0mself\u001b[0m\u001b[0;34m.\u001b[0m\u001b[0m_parent_header\u001b[0m\u001b[0;34m,\u001b[0m\u001b[0;34m\u001b[0m\u001b[0;34m\u001b[0m\u001b[0m\n\u001b[0;32m--> 863\u001b[0;31m             \u001b[0mpassword\u001b[0m\u001b[0;34m=\u001b[0m\u001b[0;32mFalse\u001b[0m\u001b[0;34m,\u001b[0m\u001b[0;34m\u001b[0m\u001b[0;34m\u001b[0m\u001b[0m\n\u001b[0m\u001b[1;32m    864\u001b[0m         )\n\u001b[1;32m    865\u001b[0m \u001b[0;34m\u001b[0m\u001b[0m\n",
            "\u001b[0;32m/usr/local/lib/python3.7/dist-packages/ipykernel/kernelbase.py\u001b[0m in \u001b[0;36m_input_request\u001b[0;34m(self, prompt, ident, parent, password)\u001b[0m\n\u001b[1;32m    902\u001b[0m             \u001b[0;32mexcept\u001b[0m \u001b[0mKeyboardInterrupt\u001b[0m\u001b[0;34m:\u001b[0m\u001b[0;34m\u001b[0m\u001b[0;34m\u001b[0m\u001b[0m\n\u001b[1;32m    903\u001b[0m                 \u001b[0;31m# re-raise KeyboardInterrupt, to truncate traceback\u001b[0m\u001b[0;34m\u001b[0m\u001b[0;34m\u001b[0m\u001b[0;34m\u001b[0m\u001b[0m\n\u001b[0;32m--> 904\u001b[0;31m                 \u001b[0;32mraise\u001b[0m \u001b[0mKeyboardInterrupt\u001b[0m\u001b[0;34m(\u001b[0m\u001b[0;34m\"Interrupted by user\"\u001b[0m\u001b[0;34m)\u001b[0m \u001b[0;32mfrom\u001b[0m \u001b[0;32mNone\u001b[0m\u001b[0;34m\u001b[0m\u001b[0;34m\u001b[0m\u001b[0m\n\u001b[0m\u001b[1;32m    905\u001b[0m             \u001b[0;32mexcept\u001b[0m \u001b[0mException\u001b[0m \u001b[0;32mas\u001b[0m \u001b[0me\u001b[0m\u001b[0;34m:\u001b[0m\u001b[0;34m\u001b[0m\u001b[0;34m\u001b[0m\u001b[0m\n\u001b[1;32m    906\u001b[0m                 \u001b[0mself\u001b[0m\u001b[0;34m.\u001b[0m\u001b[0mlog\u001b[0m\u001b[0;34m.\u001b[0m\u001b[0mwarning\u001b[0m\u001b[0;34m(\u001b[0m\u001b[0;34m\"Invalid Message:\"\u001b[0m\u001b[0;34m,\u001b[0m \u001b[0mexc_info\u001b[0m\u001b[0;34m=\u001b[0m\u001b[0;32mTrue\u001b[0m\u001b[0;34m)\u001b[0m\u001b[0;34m\u001b[0m\u001b[0;34m\u001b[0m\u001b[0m\n",
            "\u001b[0;31mKeyboardInterrupt\u001b[0m: Interrupted by user"
          ]
        }
      ],
      "source": [
        "predicted_scores = export_model.predict([input()])\n",
        "predicted_labels = tf.argmax(predicted_scores, axis=1)\n",
        "\n",
        "print([i.round(2) for i in predicted_scores[0]])\n"
      ]
    },
    {
      "cell_type": "code",
      "source": [
        "export_model_alt = tf.keras.Sequential(\n",
        "    [int_vectorize_layer, int_model,\n",
        "     layers.Activation('softmax')])\n",
        "\n",
        "export_model_alt.compile(\n",
        "    loss=losses.SparseCategoricalCrossentropy(from_logits=False),\n",
        "    optimizer='adam',\n",
        "    metrics=['accuracy'])\n",
        "\n",
        "# Test it with `raw_test_ds`, which yields raw strings\n",
        "loss, accuracy = export_model_alt.evaluate(raw_test_ds)\n",
        "print(\"Accuracy: {:2.2%}\".format(int_accuracy))\n"
      ],
      "metadata": {
        "colab": {
          "base_uri": "https://localhost:8080/"
        },
        "id": "WKg9JWnu-w-P",
        "outputId": "3b43a416-369a-4301-ee33-b04316df82dd"
      },
      "execution_count": null,
      "outputs": [
        {
          "output_type": "stream",
          "name": "stdout",
          "text": [
            "112/112 [==============================] - 1s 8ms/step - loss: 0.4249 - accuracy: 0.7990\n",
            "Accuracy: 79.90%\n"
          ]
        }
      ]
    },
    {
      "cell_type": "code",
      "execution_count": null,
      "metadata": {
        "id": "KiAJVtoTus-B"
      },
      "outputs": [],
      "source": [
        "# salvando modelo\n",
        "export_model.save('/content/drive/MyDrive/Mentorama/projeto_final/modelo_final_0')\n",
        "export_model.save('/content/drive/MyDrive/Mentorama/projeto_final/modelo_final_alt_0')"
      ]
    },
    {
      "cell_type": "markdown",
      "metadata": {
        "id": "_1c4f6I_yD8y"
      },
      "source": [
        "#### Save to production"
      ]
    },
    {
      "cell_type": "code",
      "execution_count": null,
      "metadata": {
        "id": "CCd0UjiOyF00"
      },
      "outputs": [],
      "source": [
        "from joblib import dump, load"
      ]
    },
    {
      "cell_type": "code",
      "execution_count": null,
      "metadata": {
        "id": "0xXo8wLryIgs",
        "colab": {
          "base_uri": "https://localhost:8080/"
        },
        "outputId": "83b56830-d732-436f-cd54-fc3b4a3081f1"
      },
      "outputs": [
        {
          "output_type": "execute_result",
          "data": {
            "text/plain": [
              "['/content/drive/MyDrive/Mentorama/projeto_final/fake-detector_alt_v0.joblib']"
            ]
          },
          "metadata": {},
          "execution_count": 95
        }
      ],
      "source": [
        "dump(export_model, '/content/drive/MyDrive/Mentorama/projeto_final/fake-detector_v0.joblib')\n",
        "dump(export_model_alt, '/content/drive/MyDrive/Mentorama/projeto_final/fake-detector_alt_v0.joblib')"
      ]
    },
    {
      "cell_type": "code",
      "execution_count": null,
      "metadata": {
        "id": "IyrQRe3KyYnd"
      },
      "outputs": [],
      "source": []
    },
    {
      "cell_type": "markdown",
      "source": [
        "## ONLINE API TEST\n",
        "\n",
        "\n",
        "https://classificador-fakenews.herokuapp.com"
      ],
      "metadata": {
        "id": "98ip59qhY5g0"
      }
    },
    {
      "cell_type": "code",
      "source": [],
      "metadata": {
        "id": "25sB3Ic0ZEXh"
      },
      "execution_count": null,
      "outputs": []
    }
  ],
  "metadata": {
    "colab": {
      "collapsed_sections": [
        "x39iI2rYviT9",
        "t5WYJL9hvqqw",
        "V7LtIJqUcKER",
        "6qDj_KC9cMOJ",
        "b8uYpkE1axia",
        "FlbLv3hgau1H",
        "3HFjCAJWtvqZ",
        "oESm-XppHRo_",
        "_1c4f6I_yD8y"
      ],
      "provenance": []
    },
    "kernelspec": {
      "display_name": "Python 3",
      "name": "python3"
    },
    "language_info": {
      "name": "python"
    },
    "accelerator": "GPU"
  },
  "nbformat": 4,
  "nbformat_minor": 0
}